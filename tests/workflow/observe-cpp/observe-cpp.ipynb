{
 "cells": [
  {
   "cell_type": "code",
   "execution_count": 1,
   "metadata": {},
   "outputs": [],
   "source": [
    "import seamless\n",
    "seamless.delegate(False)\n",
    "\n",
    "from seamless.workflow import load_graph, Context\n",
    "files = \"observe-cpp.seamless\", \"observe-cpp.zip\"\n",
    "ctx = load_graph(files[0], zip=files[1], mounts=True)\n",
    "\n",
    "def save():\n",
    "    ctx.save_graph(files[0])\n",
    "    ctx.save_zip(files[1])"
   ]
  },
  {
   "cell_type": "code",
   "execution_count": 2,
   "metadata": {},
   "outputs": [],
   "source": [
    "ctx2 = Context()    \n",
    "ctx2.tf_exc = \"\"\n",
    "ctx2.tf_exc.celltype = \"text\"\n",
    "ctx2.tf_stat = \"\"\n",
    "ctx2.tf_stat.celltype = \"text\"\n",
    "ctx2.tf_header = \"\"\n",
    "ctx2.tf_header.celltype = \"text\"\n",
    "await ctx2.translation()"
   ]
  },
  {
   "cell_type": "code",
   "execution_count": 3,
   "metadata": {},
   "outputs": [],
   "source": [
    "def observe(v):\n",
    "    ctx2.tf_stat.set(v)\n",
    "obs1 = ctx.tf.observe(\"status\", observe, 2)\n",
    "\n",
    "def observe(v):\n",
    "    if v is None:\n",
    "        v = \"\"\n",
    "    ctx2.tf_exc.set(v)\n",
    "obs2 = ctx.tf.observe(\"exception\", observe, 2, observe_none=True)\n",
    "await ctx.translation()"
   ]
  },
  {
   "cell_type": "code",
   "execution_count": 4,
   "metadata": {},
   "outputs": [
    {
     "data": {
      "application/vnd.jupyter.widget-view+json": {
       "model_id": "3e86d3a09d73411c8d3586f9915f1041",
       "version_major": 2,
       "version_minor": 0
      },
      "text/plain": [
       "Output(outputs=({'output_type': 'display_data', 'data': {'text/plain': ''}, 'metadata': {}},))"
      ]
     },
     "execution_count": 4,
     "metadata": {},
     "output_type": "execute_result"
    }
   ],
   "source": [
    "ctx2.tf_stat.output()"
   ]
  },
  {
   "cell_type": "code",
   "execution_count": 5,
   "metadata": {},
   "outputs": [
    {
     "data": {
      "application/vnd.jupyter.widget-view+json": {
       "model_id": "922f7329894f40afaa9e4a87633bb8f8",
       "version_major": 2,
       "version_minor": 0
      },
      "text/plain": [
       "Output(outputs=({'output_type': 'display_data', 'data': {'text/plain': ''}, 'metadata': {}},))"
      ]
     },
     "execution_count": 5,
     "metadata": {},
     "output_type": "execute_result"
    }
   ],
   "source": [
    "ctx2.tf_exc.output()"
   ]
  },
  {
   "cell_type": "code",
   "execution_count": 6,
   "metadata": {},
   "outputs": [
    {
     "data": {
      "application/vnd.jupyter.widget-view+json": {
       "model_id": "95af3273fe01407bbbc91520578ef339",
       "version_major": 2,
       "version_minor": 0
      },
      "text/plain": [
       "Output()"
      ]
     },
     "execution_count": 6,
     "metadata": {},
     "output_type": "execute_result"
    }
   ],
   "source": [
    "ctx.h.output()"
   ]
  },
  {
   "cell_type": "code",
   "execution_count": 7,
   "metadata": {},
   "outputs": [
    {
     "data": {
      "application/vnd.jupyter.widget-view+json": {
       "model_id": "83702d4a52d8488daa4704b5e8d10010",
       "version_major": 2,
       "version_minor": 0
      },
      "text/plain": [
       "Output()"
      ]
     },
     "execution_count": 7,
     "metadata": {},
     "output_type": "execute_result"
    }
   ],
   "source": [
    "ctx.result.output()"
   ]
  },
  {
   "cell_type": "code",
   "execution_count": 8,
   "metadata": {},
   "outputs": [
    {
     "name": "stdout",
     "output_type": "stream",
     "text": [
      "\n",
      "g++ -c -O3 -ffast-math -march=native -fPIC -fopenmp -p -g -o /tmp/seamless-extensions/seamless_module_6c290143efa7f4195aa51a3b5ea27c9d2ea59e12177b85f7122a9711d0381bf3_module/main.o /tmp/seamless-extensions/seamless_module_6c290143efa7f4195aa51a3b5ea27c9d2ea59e12177b85f7122a9711d0381bf3_module/main.cpp\n",
      "\n",
      "\n"
     ]
    }
   ],
   "source": [
    "ctx2.schema_exc = \"\"\n",
    "ctx2.schema_exc.celltype = \"text\"\n",
    "await ctx2.translation()\n",
    "def observe(v):\n",
    "    if v is None:\n",
    "        v = \"\"\n",
    "    ctx2.schema_exc.set(v)\n",
    "obs3 = ctx.schema.observe(\"exception\", observe, 2, observe_none=True)"
   ]
  },
  {
   "cell_type": "code",
   "execution_count": 9,
   "metadata": {},
   "outputs": [
    {
     "data": {
      "application/vnd.jupyter.widget-view+json": {
       "model_id": "b3c384ec257249fe8715c18ad778038d",
       "version_major": 2,
       "version_minor": 0
      },
      "text/plain": [
       "Output(outputs=({'output_type': 'display_data', 'data': {'text/plain': ''}, 'metadata': {}},))"
      ]
     },
     "execution_count": 9,
     "metadata": {},
     "output_type": "execute_result"
    }
   ],
   "source": [
    "ctx2.schema_exc.output()"
   ]
  },
  {
   "cell_type": "code",
   "execution_count": 10,
   "metadata": {},
   "outputs": [],
   "source": [
    "save()"
   ]
  }
 ],
 "metadata": {
  "kernelspec": {
   "display_name": "Python 3 (ipykernel)",
   "language": "python",
   "name": "python3"
  },
  "language_info": {
   "codemirror_mode": {
    "name": "ipython",
    "version": 3
   },
   "file_extension": ".py",
   "mimetype": "text/x-python",
   "name": "python",
   "nbconvert_exporter": "python",
   "pygments_lexer": "ipython3",
   "version": "3.10.11"
  }
 },
 "nbformat": 4,
 "nbformat_minor": 4
}
