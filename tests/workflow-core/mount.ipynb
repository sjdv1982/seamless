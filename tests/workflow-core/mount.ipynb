{
 "cells": [
  {
   "cell_type": "code",
   "execution_count": 1,
   "metadata": {
    "tags": []
   },
   "outputs": [],
   "source": [
    "import seamless\n",
    "seamless.delegate(False)\n",
    "from seamless.workflow.core import macro_mode_on\n",
    "from seamless.workflow.core import context, cell, transformer"
   ]
  },
  {
   "cell_type": "code",
   "execution_count": 2,
   "metadata": {
    "tags": []
   },
   "outputs": [
    {
     "data": {
      "text/plain": [
       "([], False)"
      ]
     },
     "execution_count": 2,
     "metadata": {},
     "output_type": "execute_result"
    }
   ],
   "source": [
    "with macro_mode_on():\n",
    "    ctx = context(toplevel=True)\n",
    "    ctx.cell1 = cell().set(1)\n",
    "    ctx.cell2 = cell().set(2)\n",
    "    ctx.result = cell()\n",
    "    ctx.tf = transformer({\n",
    "        \"a\": \"input\",\n",
    "        \"b\": \"input\",\n",
    "        \"c\": \"output\"\n",
    "    })\n",
    "    ctx.cell1.connect(ctx.tf.a)\n",
    "    ctx.cell2.connect(ctx.tf.b)\n",
    "    ctx.code = cell(\"transformer\").set(\"c = a + b\")\n",
    "    ctx.code.connect(ctx.tf.code)\n",
    "    ctx.tf.c.connect(ctx.result)\n",
    "    import os\n",
    "    os.makedirs(\"/tmp/mount-test\", exist_ok=True)\n",
    "    ctx.cell1.mount(\"/tmp/mount-test/cell1\")\n",
    "    ctx.cell2.mount(\"/tmp/mount-test/cell2\")\n",
    "    ctx.result.mount(\"/tmp/mount-test/myresult\", persistent=True, mode=\"w\")    \n",
    "    ctx.sub = context(toplevel=False)\n",
    "    ctx.sub.mycell = cell(\"text\").set(\"This is my cell\\nend\")\n",
    "\n",
    "await ctx.computation()"
   ]
  },
  {
   "cell_type": "code",
   "execution_count": 3,
   "metadata": {
    "tags": []
   },
   "outputs": [
    {
     "name": "stdout",
     "output_type": "stream",
     "text": [
      "3\n",
      "12\n",
      "12\n",
      "1012.0\n",
      "Status: OK\n"
     ]
    }
   ],
   "source": [
    "print(ctx.result.value)\n",
    "ctx.cell1.set(10)\n",
    "await ctx.computation()\n",
    "print(ctx.result.value)\n",
    "print(ctx.result.value)\n",
    "ctx.code.set(\"c = float(a) + float(b) + 1000\")\n",
    "await ctx.computation()\n",
    "print(ctx.result.value)\n",
    "print(ctx.status)"
   ]
  },
  {
   "cell_type": "code",
   "execution_count": 4,
   "metadata": {
    "tags": []
   },
   "outputs": [
    {
     "data": {
      "text/plain": [
       "'c = float(a) + float(b) + 1000'"
      ]
     },
     "execution_count": 4,
     "metadata": {},
     "output_type": "execute_result"
    }
   ],
   "source": [
    "ctx.code.value"
   ]
  },
  {
   "cell_type": "code",
   "execution_count": 5,
   "metadata": {
    "tags": []
   },
   "outputs": [
    {
     "data": {
      "text/plain": [
       "([], False)"
      ]
     },
     "execution_count": 5,
     "metadata": {},
     "output_type": "execute_result"
    }
   ],
   "source": [
    "await ctx.computation()"
   ]
  },
  {
   "cell_type": "code",
   "execution_count": 6,
   "metadata": {},
   "outputs": [
    {
     "data": {
      "text/plain": [
       "Seamless mixed cell: .cell1"
      ]
     },
     "execution_count": 6,
     "metadata": {},
     "output_type": "execute_result"
    }
   ],
   "source": [
    "ctx.cell1.set(12)"
   ]
  },
  {
   "cell_type": "code",
   "execution_count": 7,
   "metadata": {},
   "outputs": [],
   "source": [
    "ctx.cell1.value"
   ]
  }
 ],
 "metadata": {
  "interpreter": {
   "hash": "4fd2d7f5ecaa2d307fe3753d46d53a6cc62c33c7baca7fbcdce4e6e55b4b8522"
  },
  "kernelspec": {
   "display_name": "Python 3 (ipykernel)",
   "language": "python",
   "name": "python3"
  },
  "language_info": {
   "codemirror_mode": {
    "name": "ipython",
    "version": 3
   },
   "file_extension": ".py",
   "mimetype": "text/x-python",
   "name": "python",
   "nbconvert_exporter": "python",
   "pygments_lexer": "ipython3",
   "version": "3.10.9"
  }
 },
 "nbformat": 4,
 "nbformat_minor": 4
}
