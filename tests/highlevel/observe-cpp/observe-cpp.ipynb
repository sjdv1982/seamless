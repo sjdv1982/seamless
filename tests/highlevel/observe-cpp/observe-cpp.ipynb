{
 "cells": [
  {
   "cell_type": "code",
   "execution_count": 1,
   "metadata": {},
   "outputs": [
    {
     "name": "stdout",
     "output_type": "stream",
     "text": [
      "\n",
      "g++ -c -O3 -ffast-math -march=native -fPIC -fopenmp -p -g -o /tmp/seamless-extensions/seamless_module_bafb3aea2502e60d34557bd226e50f16848a42952c7dbd2c1b1b024108b22d83_module/main.o /tmp/seamless-extensions/seamless_module_bafb3aea2502e60d34557bd226e50f16848a42952c7dbd2c1b1b024108b22d83_module/main.cpp\n",
      "\n",
      "\n",
      "\n",
      "g++ -c -O3 -ffast-math -march=native -fPIC -fopenmp -p -g -o /tmp/seamless-extensions/seamless_module_58498f71a9d7c2251fecd7c61cf4ba14c0681a5ea8aa2e2d9f0999cabb0785a7_module/main.o /tmp/seamless-extensions/seamless_module_58498f71a9d7c2251fecd7c61cf4ba14c0681a5ea8aa2e2d9f0999cabb0785a7_module/main.cpp\n",
      "\n",
      "\n",
      "\n",
      "g++ -c -O3 -ffast-math -march=native -fPIC -fopenmp -p -g -o /tmp/seamless-extensions/seamless_module_ffaab30b5e4a99f483e7a95754fb86810155389c1306ec4dccd41299bd3612b5_module/main.o /tmp/seamless-extensions/seamless_module_ffaab30b5e4a99f483e7a95754fb86810155389c1306ec4dccd41299bd3612b5_module/main.cpp\n",
      "\n",
      "\n",
      "\n",
      "g++ -c -O3 -ffast-math -march=native -fPIC -fopenmp -p -g -o /tmp/seamless-extensions/seamless_module_6c290143efa7f4195aa51a3b5ea27c9d2ea59e12177b85f7122a9711d0381bf3_module/main.o /tmp/seamless-extensions/seamless_module_6c290143efa7f4195aa51a3b5ea27c9d2ea59e12177b85f7122a9711d0381bf3_module/main.cpp\n",
      "\n",
      "\n"
     ]
    }
   ],
   "source": [
    "import seamless\n",
    "seamless.delegate(False)\n",
    "\n",
    "from seamless.highlevel import load_graph, Context\n",
    "files = \"observe-cpp.seamless\", \"observe-cpp.zip\"\n",
    "ctx = load_graph(files[0], zip=files[1], mounts=True)\n",
    "\n",
    "def save():\n",
    "    ctx.save_graph(files[0])\n",
    "    ctx.save_zip(files[1])"
   ]
  },
  {
   "cell_type": "code",
   "execution_count": 2,
   "metadata": {},
   "outputs": [],
   "source": [
    "ctx2 = Context()    \n",
    "ctx2.tf_exc = \"\"\n",
    "ctx2.tf_exc.celltype = \"text\"\n",
    "ctx2.tf_stat = \"\"\n",
    "ctx2.tf_stat.celltype = \"text\"\n",
    "ctx2.tf_header = \"\"\n",
    "ctx2.tf_header.celltype = \"text\"\n",
    "await ctx2.translation()"
   ]
  },
  {
   "cell_type": "code",
   "execution_count": 12,
   "metadata": {},
   "outputs": [],
   "source": [
    "def observe(v):\n",
    "    ctx2.tf_stat.set(v)\n",
    "obs1 = ctx.tf.observe(\"status\", observe, 2)\n",
    "\n",
    "def observe(v):\n",
    "    if v is None:\n",
    "        v = \"\"\n",
    "    ctx2.tf_exc.set(v)\n",
    "obs2 = ctx.tf.observe(\"exception\", observe, 2, observe_none=True)\n",
    "await ctx.translation()"
   ]
  },
  {
   "cell_type": "code",
   "execution_count": 13,
   "metadata": {},
   "outputs": [
    {
     "data": {
      "application/vnd.jupyter.widget-view+json": {
       "model_id": "14a2443ab9f74a048964b04d1d791c38",
       "version_major": 2,
       "version_minor": 0
      },
      "text/plain": [
       "Output(outputs=({'output_type': 'display_data', 'data': {'text/plain': 'Status: OK'}, 'metadata': {}},))"
      ]
     },
     "execution_count": 13,
     "metadata": {},
     "output_type": "execute_result"
    }
   ],
   "source": [
    "ctx2.tf_stat.output()"
   ]
  },
  {
   "cell_type": "code",
   "execution_count": 16,
   "metadata": {},
   "outputs": [
    {
     "data": {
      "application/vnd.jupyter.widget-view+json": {
       "model_id": "ad4c280695204da19e6e7ba17e3e44d2",
       "version_major": 2,
       "version_minor": 0
      },
      "text/plain": [
       "Output(outputs=({'output_type': 'display_data', 'data': {'text/plain': '*** gen_header ***\\n******************…"
      ]
     },
     "execution_count": 16,
     "metadata": {},
     "output_type": "execute_result"
    }
   ],
   "source": [
    "ctx2.tf_exc.output()"
   ]
  },
  {
   "cell_type": "code",
   "execution_count": 6,
   "metadata": {},
   "outputs": [
    {
     "data": {
      "application/vnd.jupyter.widget-view+json": {
       "model_id": "9def980d784f4a1cb19159599eea26ce",
       "version_major": 2,
       "version_minor": 0
      },
      "text/plain": [
       "Output(outputs=({'output_type': 'display_data', 'data': {'text/plain': '\\n/*\\nThe following C header has been …"
      ]
     },
     "execution_count": 6,
     "metadata": {},
     "output_type": "execute_result"
    }
   ],
   "source": [
    "ctx.h.output()"
   ]
  },
  {
   "cell_type": "code",
   "execution_count": 7,
   "metadata": {},
   "outputs": [
    {
     "data": {
      "application/vnd.jupyter.widget-view+json": {
       "model_id": "0ac20e8f61124197bc166cfbe6f761f3",
       "version_major": 2,
       "version_minor": 0
      },
      "text/plain": [
       "Output()"
      ]
     },
     "execution_count": 7,
     "metadata": {},
     "output_type": "execute_result"
    }
   ],
   "source": [
    "ctx.result.output()"
   ]
  },
  {
   "cell_type": "code",
   "execution_count": 8,
   "metadata": {},
   "outputs": [],
   "source": [
    "ctx2.schema_exc = \"\"\n",
    "ctx2.schema_exc.celltype = \"text\"\n",
    "await ctx2.translation()\n",
    "def observe(v):\n",
    "    if v is None:\n",
    "        v = \"\"\n",
    "    ctx2.schema_exc.set(v)\n",
    "obs3 = ctx.schema.observe(\"exception\", observe, 2, observe_none=True)"
   ]
  },
  {
   "cell_type": "code",
   "execution_count": 9,
   "metadata": {},
   "outputs": [
    {
     "data": {
      "application/vnd.jupyter.widget-view+json": {
       "model_id": "d328aa8c20974fe1b77ea6e7ec04998d",
       "version_major": 2,
       "version_minor": 0
      },
      "text/plain": [
       "Output(outputs=({'output_type': 'display_data', 'data': {'text/plain': ''}, 'metadata': {}},))"
      ]
     },
     "execution_count": 9,
     "metadata": {},
     "output_type": "execute_result"
    }
   ],
   "source": [
    "ctx2.schema_exc.output()"
   ]
  },
  {
   "cell_type": "code",
   "execution_count": 17,
   "metadata": {},
   "outputs": [],
   "source": [
    "save()"
   ]
  },
  {
   "cell_type": "code",
   "execution_count": null,
   "metadata": {},
   "outputs": [],
   "source": []
  }
 ],
 "metadata": {
  "kernelspec": {
   "display_name": "Python 3 (ipykernel)",
   "language": "python",
   "name": "python3"
  },
  "language_info": {
   "codemirror_mode": {
    "name": "ipython",
    "version": 3
   },
   "file_extension": ".py",
   "mimetype": "text/x-python",
   "name": "python",
   "nbconvert_exporter": "python",
   "pygments_lexer": "ipython3",
   "version": "3.10.14"
  }
 },
 "nbformat": 4,
 "nbformat_minor": 4
}
