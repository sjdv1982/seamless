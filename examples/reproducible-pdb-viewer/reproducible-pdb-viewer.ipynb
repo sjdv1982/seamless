{
 "cells": [
  {
   "cell_type": "markdown",
   "metadata": {},
   "source": [
    "# Reproducible PDB viewer\n",
    "\n",
    "The Protein Data Bank (PDB) contains more than a hundred thousand three-dimensional atomic structures of proteins, peptides and nucleic acids. There are three main portals: in the USA (https://rcsb.org), Europe (https://www.ebi.ac.uk/pdbe/) and Japan (https://pdbj.org/).\n",
    "\n",
    "PDB entries are defined by one digit + three letters, e.g. \"1avx\" for the trypsin protein in complex with its inhibitor. This always refers to the latest version of the atomic structure. \n",
    "\n",
    "This means downloading a PDB entry is non-reproducible, i.e. the entry may have changed when you repeat the download later in time. The PDB does maintain a versioned repository, but only major changes are stored there.\n",
    "\n",
    "At the RPBS, reproducible distributions of the PDB are maintained. Once in a while, all changed entries of the PDB are downloaded and their checksums computed, creating a time-specific distribution. For each distribution, an index file can be downloaded containing all PDB entries and their checksums. These index files can be wrapped inside a Seamless DeepCell for convenience. \n",
    "\n",
    "The current notebook sets up a molecular web viewer for a reproducible PDB distribution. Then, the user can select a PDB entry among the ~200 000 entries and the corresponding molecular structure will be shown. It is guaranteed to show the same structure even if the PDB entry undergoes later change.\n",
    "\n",
    "The RPBS also maintains a last-resort buffer server at https://buffer.rpbs.univ-paris-diderot.fr . This buffer server includes the PDB entries."
   ]
  },
  {
   "cell_type": "code",
   "execution_count": 1,
   "metadata": {
    "tags": []
   },
   "outputs": [],
   "source": [
    "# Set up the RPBS buffer server as a fallback\n",
    "import seamless\n",
    "seamless.delegate(level=1)\n",
    "seamless.config.add_buffer_server(\"https://buffer.rpbs.univ-paris-diderot.fr\")"
   ]
  },
  {
   "cell_type": "code",
   "execution_count": 2,
   "metadata": {
    "tags": []
   },
   "outputs": [
    {
     "name": "stdout",
     "output_type": "stream",
     "text": [
      "Warning: File path 'web/index.html' has a different value, overwriting cell\n",
      "Warning: File path 'web/index.js' has a different value, overwriting cell\n"
     ]
    },
    {
     "name": "stderr",
     "output_type": "stream",
     "text": [
      "*** define_graph() function is empty. Loading 'graph/reproducible-pdb-viewer.seamless' ***\n",
      "\n",
      "Project loaded.\n",
      "\n",
      "    Main context is \"ctx\"\n",
      "    Web/status context is \"webctx\"\n",
      "\n",
      "    Open http://localhost:<REST server port> to see the web page\n",
      "    Open http://localhost:<REST server port>/status/status.html to see the status\n",
      "\n",
      "    Run save() to save the project\n",
      "    \n"
     ]
    },
    {
     "name": "stdout",
     "output_type": "stream",
     "text": [
      "Opened the seamless share update server at port 5138\n",
      "Opened the seamless REST server at port 5813\n",
      "\n",
      "\n"
     ]
    }
   ],
   "source": [
    "# This will set up the Seamless web page generator. For the rest, the project is empty.\n",
    "\n",
    "%run -i load-project.py\n",
    "await load()"
   ]
  },
  {
   "cell_type": "markdown",
   "metadata": {},
   "source": [
    "## Defining the reproducible PDB distribution\n",
    "\n",
    "First, we need to define the reproducible PDB distribution. At the RPBS, there is the ***FAIR server*** where you can specify human-level metadata, such as the name of the dataset, the date, the version and/or the format. It returns the checksum of the distribution, the checksum of the ordered entries (keys), and some metadata:"
   ]
  },
  {
   "cell_type": "code",
   "execution_count": 3,
   "metadata": {
    "tags": []
   },
   "outputs": [
    {
     "name": "stdout",
     "output_type": "stream",
     "text": [
      "{\n",
      "  \"checksum\": \"57ce3e4487745320f68fa84e2e4cb4c431953b204812cf1f76bb011f032d6380\",\n",
      "  \"type\": \"deepcell\",\n",
      "  \"date\": \"2022-11-27\",\n",
      "  \"format\": \"mmcif\",\n",
      "  \"nkeys\": 198534,\n",
      "  \"index_size\": 15485655,\n",
      "  \"content_size\": 258567165319,\n",
      "  \"keyorder\": \"8fe126582cd6933150d79027927393a86d8426669e48fc39a911c9f895f00e2e\",\n",
      "  \"access_index\": \"769375279e3bd119e7436de23123f9a80730ae8bde0c2d79979af50309c1aece\"\n",
      "}\n"
     ]
    }
   ],
   "source": [
    "!curl 'https://fair.rpbs.univ-paris-diderot.fr/machine/find_distribution?dataset=pdb&date=2022-11-27&type=deepcell'"
   ]
  },
  {
   "cell_type": "markdown",
   "metadata": {},
   "source": [
    "### Seamless API\n",
    "Seamless has an API where the FAIR server is contacted and the result is stored in a deep cell:"
   ]
  },
  {
   "cell_type": "code",
   "execution_count": 4,
   "metadata": {
    "tags": []
   },
   "outputs": [
    {
     "name": "stdout",
     "output_type": "stream",
     "text": [
      "{\n",
      "  \"checksum\": \"57ce3e4487745320f68fa84e2e4cb4c431953b204812cf1f76bb011f032d6380\",\n",
      "  \"type\": \"deepcell\",\n",
      "  \"date\": \"2022-11-27\",\n",
      "  \"format\": \"mmcif\",\n",
      "  \"nkeys\": 198534,\n",
      "  \"index_size\": 15485655,\n",
      "  \"content_size\": 258567165319,\n",
      "  \"keyorder\": \"8fe126582cd6933150d79027927393a86d8426669e48fc39a911c9f895f00e2e\",\n",
      "  \"access_index\": \"769375279e3bd119e7436de23123f9a80730ae8bde0c2d79979af50309c1aece\"\n",
      "}\n"
     ]
    }
   ],
   "source": [
    "import json\n",
    "\n",
    "date = \"2022-11-27\"\n",
    "distribution = DeepCell.find_distribution(\"pdb\", date=date, format=\"mmcif\")\n",
    "print(json.dumps(distribution, indent=2))\n",
    "\n",
    "ctx.pdb = DeepCell()\n",
    "ctx.pdb.define(distribution)"
   ]
  },
  {
   "cell_type": "code",
   "execution_count": 5,
   "metadata": {
    "tags": []
   },
   "outputs": [
    {
     "name": "stdout",
     "output_type": "stream",
     "text": [
      "PDB date: 2022-11-27\n",
      "Number of index keys (PDB entries):  198534\n",
      "Size of the checksum index file:  15 MiB\n",
      "Total size of the Protein Data Bank (mmCIF format): 258 GiB\n"
     ]
    }
   ],
   "source": [
    "print(\"PDB date:\", date)\n",
    "print(\"Number of index keys (PDB entries): \", ctx.pdb.nkeys )\n",
    "pdb_index_size = \"{:d} MiB\".format(int(ctx.pdb.index_size/10**6))\n",
    "print(\"Size of the checksum index file: \", pdb_index_size )\n",
    "if ctx.pdb.content_size is None:\n",
    "    pdb_size = \"<Unknown>\"\n",
    "else:\n",
    "    pdb_size = \"{:d} GiB\".format(int(ctx.pdb.content_size/10**9))\n",
    "print(\"Total size of the Protein Data Bank (mmCIF format):\", pdb_size )"
   ]
  },
  {
   "cell_type": "markdown",
   "metadata": {},
   "source": [
    "### Strong reproducibility\n",
    "\n",
    "Saving the workflow with `save` or `ctx.save_graph` will lead to strong reproducibility, since it stores the distribution checksums directly.\n",
    "\n",
    "If you need strongly reproducible *notebook code*, you can embed the distribution checksums inside the code:\n",
    "\n",
    "```python\n",
    "ctx.pdb.define({\n",
    "    \"checksum\": \"57ce3e4487745320f68fa84e2e4cb4c431953b204812cf1f76bb011f032d6380\",\n",
    "    \"keyorder\": \"8fe126582cd6933150d79027927393a86d8426669e48fc39a911c9f895f00e2e\",\n",
    "})\n",
    "```"
   ]
  },
  {
   "cell_type": "code",
   "execution_count": 6,
   "metadata": {
    "tags": []
   },
   "outputs": [
    {
     "name": "stdout",
     "output_type": "stream",
     "text": [
      "Download checksum index file...\n",
      "Waiting for: Seamless transformer: .pdb.apply_blackwhite\n",
      "Status: OK None\n",
      "Done\n"
     ]
    }
   ],
   "source": [
    "print(\"Download checksum index file...\")\n",
    "await ctx.computation()\n",
    "print(ctx.pdb.status, ctx.pdb.exception)\n",
    "print(\"Done\")"
   ]
  },
  {
   "cell_type": "markdown",
   "metadata": {},
   "source": [
    "## Accessing individual PDB entries\n",
    "\n",
    "You can now get the checksum of each individual PDB entry."
   ]
  },
  {
   "cell_type": "code",
   "execution_count": 7,
   "metadata": {
    "tags": []
   },
   "outputs": [
    {
     "name": "stdout",
     "output_type": "stream",
     "text": [
      "2b0eeeac3bd3ba8d6e67aa262d9d2279dc672607af7a80414df10da1cb4f9cc2\n"
     ]
    }
   ],
   "source": [
    "print(ctx.pdb.data[\"1avx\"])"
   ]
  },
  {
   "cell_type": "markdown",
   "metadata": {},
   "source": [
    "In addition, the FAIR server maintains, for each checksum, a list of URLs where the data can be downloaded. \n",
    "\n",
    "There is no guarantee that the URL will yield the correct data, but because the checksum is known in advance, the download can be verified."
   ]
  },
  {
   "cell_type": "code",
   "execution_count": 8,
   "metadata": {
    "tags": []
   },
   "outputs": [
    {
     "name": "stdout",
     "output_type": "stream",
     "text": [
      "[\n",
      "  {\n",
      "    \"celltype\": \"text\",\n",
      "    \"url\": \"https://files.rcsb.org/download/1avx.cif\"\n",
      "  },\n",
      "  {\n",
      "    \"celltype\": \"text\",\n",
      "    \"url\": \"https://www.ebi.ac.uk/pdbe/entry-files/download/1avx.cif\"\n",
      "  },\n",
      "  {\n",
      "    \"celltype\": \"text\",\n",
      "    \"url\": \"https://data.pdbjbk1.pdbj.org/pub/pdb/data/structures/divided/mmCIF/1a/1avx.cif\"\n",
      "  },\n",
      "  {\n",
      "    \"celltype\": \"text\",\n",
      "    \"compression\": \"gz\",\n",
      "    \"url\": \"https://files.rcsb.org/download/1avx.cif.gz\"\n",
      "  },\n",
      "  {\n",
      "    \"celltype\": \"text\",\n",
      "    \"compression\": \"gz\",\n",
      "    \"url\": \"https://www.ebi.ac.uk/pdbe/entry-files/download/1avx.cif.gz\"\n",
      "  },\n",
      "  {\n",
      "    \"celltype\": \"text\",\n",
      "    \"compression\": \"gz\",\n",
      "    \"url\": \"https://data.pdbjbk1.pdbj.org/pub/pdb/data/structures/divided/mmCIF/1a/1avx.cif.gz\"\n",
      "  }\n",
      "]\n"
     ]
    }
   ],
   "source": [
    "!curl https://fair.rpbs.univ-paris-diderot.fr/machine/access/2b0eeeac3bd3ba8d6e67aa262d9d2279dc672607af7a80414df10da1cb4f9cc2"
   ]
  },
  {
   "cell_type": "markdown",
   "metadata": {},
   "source": [
    "### Seamless API\n",
    "Seamless has an API `DeepCell.access(entry)` where: \n",
    "\n",
    "- The FAIR server is contacted with the entry's checksum, obtaining the above list of URLs.\n",
    "- Using the list of URLs, the molecular structure is downloaded\n",
    "- The downloaded structure is verified against the checksum"
   ]
  },
  {
   "cell_type": "code",
   "execution_count": 9,
   "metadata": {
    "tags": []
   },
   "outputs": [
    {
     "name": "stdout",
     "output_type": "stream",
     "text": [
      "Access PDB entry 1avx\n"
     ]
    },
    {
     "name": "stderr",
     "output_type": "stream",
     "text": [
      "Download https://fair.rpbs.univ-paris-diderot.fr/machine/access/2b0eeeac3bd3ba8d6e67aa262d9d2279dc672607af7a80414df10da1cb4f9cc2\n",
      "Download https://www.ebi.ac.uk/pdbe/entry-files/download/1avx.cif\n",
      "WARNING: 'https://www.ebi.ac.uk/pdbe/entry-files/download/1avx.cif' has the wrong checksum\n",
      "Download https://www.ebi.ac.uk/pdbe/entry-files/download/1avx.cif.gz\n",
      "WARNING: 'https://www.ebi.ac.uk/pdbe/entry-files/download/1avx.cif.gz' has the wrong checksum\n",
      "Download https://files.rcsb.org/download/1avx.cif\n",
      "WARNING: 'https://files.rcsb.org/download/1avx.cif' has the wrong checksum\n",
      "Download https://files.rcsb.org/download/1avx.cif.gz\n",
      "WARNING: 'https://files.rcsb.org/download/1avx.cif.gz' has the wrong checksum\n",
      "Download https://data.pdbjbk1.pdbj.org/pub/pdb/data/structures/divided/mmCIF/1a/1avx.cif\n",
      "Download https://data.pdbjbk1.pdbj.org/pub/pdb/data/structures/divided/mmCIF/1a/1avx.cif.gz\n",
      "Try remote buffer cache...\n"
     ]
    },
    {
     "name": "stdout",
     "output_type": "stream",
     "text": [
      "data_1AVX\n",
      "# \n",
      "_entry.id   1AVX \n",
      "# \n",
      "_audit_conform.dict_name       mmcif_pdbx.dic \n",
      "_audit_conform.dict_version    5.281 \n",
      "_audit_conform.dict_location   http://mmcif.pdb.org/dictionaries/ascii/mmcif_pdbx.dic \n",
      "# \n",
      "loop_\n",
      "_database_2.database_id \n",
      "_database_2.database_code \n",
      "PDB   1AVX         \n",
      "WWPDB D_1000171322 \n",
      "# \n",
      "_pdbx_database_status.status_code                     REL \n",
      "_pdbx_database_status.entry_id                        1AVX \n",
      "_pdbx_database_status.recvd_initial_deposition_date   1997-09-21 \n",
      "_pdbx\n",
      "...\n"
     ]
    }
   ],
   "source": [
    "print(\"Access PDB entry 1avx\")\n",
    "pdb_data = ctx.pdb.access(\"1avx\")\n",
    "print(pdb_data[:500] + \"\\n...\")"
   ]
  },
  {
   "cell_type": "markdown",
   "metadata": {},
   "source": [
    "## PDB workflow\n",
    "\n",
    "The code below defines a workflow where the entry is defined in `ctx.pdb_code`, and the corresponding molecular structure is then stored (as text) in `ctx.pdb_structure`.\n",
    "\n",
    "We can manipulate the entry and structure with a little Jupyter dashboard."
   ]
  },
  {
   "cell_type": "code",
   "execution_count": 10,
   "metadata": {
    "tags": []
   },
   "outputs": [],
   "source": [
    "from seamless.highlevel import stdlib\n",
    "\n",
    "ctx.all_pdb_codes = Cell(\"plain\")\n",
    "await ctx.translation()\n",
    "ctx.all_pdb_codes.set_checksum(ctx.pdb.keyorder_checksum)\n",
    "\n",
    "ctx.pdb_code = Cell(\"str\").set(\"1avx\")\n",
    "\n",
    "ctx.include(stdlib.select)\n",
    "ctx.pdb_structure = Cell(\"text\")\n",
    "ctx.select_pdb = ctx.lib.select(\n",
    "    celltype=\"text\",\n",
    "    input=ctx.pdb,\n",
    "    selected=ctx.pdb_code,\n",
    "    output=ctx.pdb_structure,\n",
    ")"
   ]
  },
  {
   "cell_type": "code",
   "execution_count": 11,
   "metadata": {
    "tags": []
   },
   "outputs": [
    {
     "data": {
      "application/vnd.jupyter.widget-view+json": {
       "model_id": "e5ffa807e3b34cff8baac9229b13a034",
       "version_major": 2,
       "version_minor": 0
      },
      "text/plain": [
       "Text(value='1avx')"
      ]
     },
     "metadata": {},
     "output_type": "display_data"
    },
    {
     "data": {
      "application/vnd.jupyter.widget-view+json": {
       "model_id": "fde9c29b72b148cda1cbe320807e127e",
       "version_major": 2,
       "version_minor": 0
      },
      "text/plain": [
       "Textarea(value='')"
      ]
     },
     "metadata": {},
     "output_type": "display_data"
    },
    {
     "name": "stdout",
     "output_type": "stream",
     "text": [
      "Waiting for background tasks\n"
     ]
    }
   ],
   "source": [
    "from IPython.display import display\n",
    "from ipywidgets import Text, Textarea\n",
    "\n",
    "w = Text()\n",
    "ctx.pdb_code.traitlet().link(w)\n",
    "display(w)\n",
    "w = Textarea()\n",
    "ctx.pdb_structure.traitlet().connect(w)\n",
    "display(w)\n",
    "await ctx.computation()\n"
   ]
  },
  {
   "cell_type": "markdown",
   "metadata": {},
   "source": [
    "## PDB web visualization\n",
    "\n",
    "The final step is to define a web page where a PDB code is selected and the corresponding molecular structure is visualized.\n",
    "\n",
    "For this purpose, the Seamless web page generator contains the \"bigselect\" and \"nglviewer\" webunits. See their documentation below."
   ]
  },
  {
   "cell_type": "code",
   "execution_count": 12,
   "metadata": {
    "tags": []
   },
   "outputs": [
    {
     "data": {
      "text/plain": [
       "\u001b[0;31mSignature:\u001b[0m\n",
       "\u001b[0mwebunits\u001b[0m\u001b[0;34m.\u001b[0m\u001b[0mbigselect\u001b[0m\u001b[0;34m(\u001b[0m\u001b[0;34m\u001b[0m\n",
       "\u001b[0;34m\u001b[0m    \u001b[0mctx\u001b[0m\u001b[0;34m:\u001b[0m \u001b[0mseamless\u001b[0m\u001b[0;34m.\u001b[0m\u001b[0mhighlevel\u001b[0m\u001b[0;34m.\u001b[0m\u001b[0mContext\u001b[0m\u001b[0;34m.\u001b[0m\u001b[0mContext\u001b[0m\u001b[0;34m,\u001b[0m\u001b[0;34m\u001b[0m\n",
       "\u001b[0;34m\u001b[0m    \u001b[0moptions\u001b[0m\u001b[0;34m:\u001b[0m \u001b[0mseamless\u001b[0m\u001b[0;34m.\u001b[0m\u001b[0mhighlevel\u001b[0m\u001b[0;34m.\u001b[0m\u001b[0mCell\u001b[0m\u001b[0;34m.\u001b[0m\u001b[0mCell\u001b[0m\u001b[0;34m,\u001b[0m\u001b[0;34m\u001b[0m\n",
       "\u001b[0;34m\u001b[0m    \u001b[0mselected\u001b[0m\u001b[0;34m:\u001b[0m \u001b[0mseamless\u001b[0m\u001b[0;34m.\u001b[0m\u001b[0mhighlevel\u001b[0m\u001b[0;34m.\u001b[0m\u001b[0mCell\u001b[0m\u001b[0;34m.\u001b[0m\u001b[0mCell\u001b[0m\u001b[0;34m,\u001b[0m\u001b[0;34m\u001b[0m\n",
       "\u001b[0;34m\u001b[0m    \u001b[0mtitle\u001b[0m\u001b[0;34m=\u001b[0m\u001b[0;34m'Selector'\u001b[0m\u001b[0;34m,\u001b[0m\u001b[0;34m\u001b[0m\n",
       "\u001b[0;34m\u001b[0m    \u001b[0mselected_title\u001b[0m\u001b[0;34m=\u001b[0m\u001b[0;34m'Selected:'\u001b[0m\u001b[0;34m,\u001b[0m\u001b[0;34m\u001b[0m\n",
       "\u001b[0;34m\u001b[0m    \u001b[0mplaceholder\u001b[0m\u001b[0;34m=\u001b[0m\u001b[0;34m'Select an item'\u001b[0m\u001b[0;34m,\u001b[0m\u001b[0;34m\u001b[0m\n",
       "\u001b[0;34m\u001b[0m\u001b[0;34m)\u001b[0m\u001b[0;34m\u001b[0m\u001b[0;34m\u001b[0m\u001b[0m\n",
       "\u001b[0;31mDocstring:\u001b[0m\n",
       "Creates an autocomplete selector that selects an item from a big list of options.\n",
       "Arguments:\n",
       "\n",
       "- options: A cell that contains the options to select from. A (big) list of strings.\n",
       "\n",
       "- selection. The output cell that will contain the selected string.\n",
       "\n",
       "- title: the title of the component instance. Default: \"Selector\"\n",
       "\n",
       "- selected_title: the title of the selected string item. Default: \"Selected:\"\n",
       "\n",
       "- placeholder: initial text in the selector field. Default: \"Select an item\" \n",
       "\u001b[0;31mFile:\u001b[0m      ~/cwd/examples/reproducible-pdb-viewer/<makefun-gen-1>\n",
       "\u001b[0;31mType:\u001b[0m      function"
      ]
     },
     "metadata": {},
     "output_type": "display_data"
    }
   ],
   "source": [
    "from seamless.highlevel import webunits\n",
    "webunits.bigselect?"
   ]
  },
  {
   "cell_type": "code",
   "execution_count": 13,
   "metadata": {
    "tags": []
   },
   "outputs": [
    {
     "data": {
      "text/plain": [
       "\u001b[0;31mSignature:\u001b[0m\n",
       "\u001b[0mwebunits\u001b[0m\u001b[0;34m.\u001b[0m\u001b[0mnglviewer\u001b[0m\u001b[0;34m(\u001b[0m\u001b[0;34m\u001b[0m\n",
       "\u001b[0;34m\u001b[0m    \u001b[0mctx\u001b[0m\u001b[0;34m:\u001b[0m \u001b[0mseamless\u001b[0m\u001b[0;34m.\u001b[0m\u001b[0mhighlevel\u001b[0m\u001b[0;34m.\u001b[0m\u001b[0mContext\u001b[0m\u001b[0;34m.\u001b[0m\u001b[0mContext\u001b[0m\u001b[0;34m,\u001b[0m\u001b[0;34m\u001b[0m\n",
       "\u001b[0;34m\u001b[0m    \u001b[0mstructures\u001b[0m\u001b[0;34m:\u001b[0m \u001b[0mseamless\u001b[0m\u001b[0;34m.\u001b[0m\u001b[0mhighlevel\u001b[0m\u001b[0;34m.\u001b[0m\u001b[0mCell\u001b[0m\u001b[0;34m.\u001b[0m\u001b[0mCell\u001b[0m\u001b[0;34m,\u001b[0m\u001b[0;34m\u001b[0m\n",
       "\u001b[0;34m\u001b[0m    \u001b[0mrepresentation\u001b[0m\u001b[0;34m:\u001b[0m \u001b[0mseamless\u001b[0m\u001b[0;34m.\u001b[0m\u001b[0mhighlevel\u001b[0m\u001b[0;34m.\u001b[0m\u001b[0mCell\u001b[0m\u001b[0;34m.\u001b[0m\u001b[0mCell\u001b[0m\u001b[0;34m,\u001b[0m\u001b[0;34m\u001b[0m\n",
       "\u001b[0;34m\u001b[0m    \u001b[0mformat\u001b[0m\u001b[0;34m=\u001b[0m\u001b[0;34m'pdb'\u001b[0m\u001b[0;34m,\u001b[0m\u001b[0;34m\u001b[0m\n",
       "\u001b[0;34m\u001b[0m    \u001b[0mtitle\u001b[0m\u001b[0;34m=\u001b[0m\u001b[0;34m'NGL viewer'\u001b[0m\u001b[0;34m,\u001b[0m\u001b[0;34m\u001b[0m\n",
       "\u001b[0;34m\u001b[0m    \u001b[0mviewer_height\u001b[0m\u001b[0;34m=\u001b[0m\u001b[0;34m'500px'\u001b[0m\u001b[0;34m,\u001b[0m\u001b[0;34m\u001b[0m\n",
       "\u001b[0;34m\u001b[0m    \u001b[0mviewer_width\u001b[0m\u001b[0;34m=\u001b[0m\u001b[0;34m'100%'\u001b[0m\u001b[0;34m,\u001b[0m\u001b[0;34m\u001b[0m\n",
       "\u001b[0;34m\u001b[0m\u001b[0;34m)\u001b[0m\u001b[0;34m\u001b[0m\u001b[0;34m\u001b[0m\u001b[0m\n",
       "\u001b[0;31mDocstring:\u001b[0m\n",
       "Creates an NGL viewer for molecular structures. See https://nglviewer.org/ for more info on NGL.\n",
       "\n",
       "Arguments:\n",
       "\n",
       "- structures: a cell that contains either a single molecular structure or a dict of structures.\n",
       "\n",
       "- representation. A cell containing a dict of NGL representations in JSON format. If the cell is empty, it is filled with a default representation value. The representation dict contains keys that correspond to the keys in the \"structures\" dict. If the key is absent, the representation under key \"DEFAULT\" is used.\n",
       "\n",
       "A representation contains the following keys:\n",
       "* type: an NGL molecular representation type, such as \"cartoon\". See http://nglviewer.org/ngldev/api/manual/molecular-representations.html for an overview.\n",
       "\n",
       "* params: the parameters of the representation. Most common options are:\n",
       "\n",
       "+ \"sele\": containing an NGL selection (https://nglviewer.org/ngl/api/manual/usage/selection-language.html)\n",
       "\n",
       "+ \"color\": which contain a color name such as \"red\", or various color schemes, see https://nglviewer.org/ngl/api/manual/usage/coloring.html\n",
       "\n",
       "See http://nglviewer.org/ngl/gallery/ for examples of representations.\n",
       "\n",
       "- format: describes the format of the molecular structure. This must be a file extension understood by NGL (https://nglviewer.org/ngl/api/manual/file-formats.html). In addition, it must be a text format (i.e. no MMTF or trajectory files).\n",
       "\n",
       "If there are multiple structures, the format is extracted from the dictionary key of the \"structures\" dict. For a dictionary key that contains no \".\", the value of the \"format\" parameter is used.\n",
       "\n",
       "Example:\n",
       "\"format\" parameter: \"pdb\"\n",
       "\n",
       "\"structures\" dict:\n",
       "{\n",
       "\"struc\": ....       => pdb\n",
       "\"receptor\": ....    => pdb\n",
       "\"1cvj.cif\": ...     => cif\n",
       "\"ethanol.mol2\": ... => mol2\n",
       "}\n",
       "\n",
       "- title: the title of the component instance. Default: \"NGL viewer\"\n",
       "\n",
       "- viewer_height: the height of the viewer, with a unit specifier (\"px\" or \"%\"). Default: \"500px\".\n",
       "\n",
       "- viewer_width: the width of the viewer, with a unit specifier (\"px\" or \"%\"). Default: \"500px\".\n",
       "\n",
       "In the final HTML, a div element called \"nglviewer_X\" is created, which will contain the viewer with the width and height as specified. \n",
       "\u001b[0;31mFile:\u001b[0m      ~/cwd/examples/reproducible-pdb-viewer/<makefun-gen-0>\n",
       "\u001b[0;31mType:\u001b[0m      function"
      ]
     },
     "metadata": {},
     "output_type": "display_data"
    }
   ],
   "source": [
    "webunits.nglviewer?"
   ]
  },
  {
   "cell_type": "code",
   "execution_count": 14,
   "metadata": {
    "tags": []
   },
   "outputs": [
    {
     "name": "stderr",
     "output_type": "stream",
     "text": [
      "webunit: non-shared Seamless Cell: .all_pdb_codes, sharing as 'bigselect_1/options.json'\n",
      "webunit: non-shared Seamless Cell: .pdb_code, sharing as 'bigselect_1/selected.json'\n",
      "webunit: non-shared Seamless Cell: .pdb_structure, sharing as 'nglviewer_1/structures.json'\n",
      "WARNING: webunit: skipping default value for empty Seamless Cell: .representation2, because it is not independent\n",
      "webunit: non-shared Seamless Cell: .representation2, sharing as 'nglviewer_1/representation.json'\n"
     ]
    }
   ],
   "source": [
    "# Define the PDB viewer.\n",
    "\n",
    "# 1. Web selector (with tab completion) of PDB code \n",
    "webunits.bigselect(ctx, options=ctx.all_pdb_codes, selected=ctx.pdb_code)\n",
    "\n",
    "# 2. Define molecular representation (defined in representation.yaml)\n",
    "ctx.representation = Cell(\"yaml\").share(readonly=False)\n",
    "ctx.representation.mount(\"representation.yaml\")\n",
    "ctx.representation2 = Cell(\"plain\")\n",
    "ctx.representation2 = ctx.representation\n",
    "\n",
    "# 3. Molecular visualization based on the NGL web viewer\n",
    "webunits.nglviewer(ctx, ctx.pdb_structure, ctx.representation2, format=\"cif\")\n",
    "\n",
    "await ctx.computation()"
   ]
  },
  {
   "cell_type": "markdown",
   "metadata": {},
   "source": [
    "## PDB viewer\n",
    "\n",
    "The PDB viewer can now be opened under http://localhost:5813/ \n",
    "\n",
    "The web page has been lightly customized by editing `web/webform.json`. Compare with `web/webform-AUTOGEN.json` to observe the modifications."
   ]
  }
 ],
 "metadata": {
  "kernelspec": {
   "display_name": "Python 3 (ipykernel)",
   "language": "python",
   "name": "python3"
  },
  "language_info": {
   "codemirror_mode": {
    "name": "ipython",
    "version": 3
   },
   "file_extension": ".py",
   "mimetype": "text/x-python",
   "name": "python",
   "nbconvert_exporter": "python",
   "pygments_lexer": "ipython3",
   "version": "3.10.9"
  }
 },
 "nbformat": 4,
 "nbformat_minor": 4
}
