{
 "cells": [
  {
   "cell_type": "markdown",
   "metadata": {},
   "source": [
    "# Reproducible PDB viewer\n",
    "\n",
    "The Protein Data Bank (PDB) contains more than a hundred thousand three-dimensional atomic structures of proteins, peptides and nucleic acids. There are three main portals: in the USA (https://rcsb.org), Europe (https://www.ebi.ac.uk/pdbe/) and Japan (https://pdbj.org/).\n",
    "\n",
    "PDB entries are defined by one digit + three letters, e.g. \"1avx\" for the trypsin protein in complex with its inhibitor. This always refers to the latest version of the atomic structure. \n",
    "\n",
    "This means downloading a PDB entry is non-reproducible, i.e. the entry may have changed when you repeat the download later in time. The PDB does maintain a versioned repository, but only major changes are stored there.\n",
    "\n",
    "At the RPBS, reproducible distributions of the PDB are maintained. Once in a while, all changed entries of the PDB are downloaded and their checksums computed, creating a time-specific distribution. For each distribution, an index file can be downloaded containing all PDB entries and their checksums. These index files can be wrapped inside a Seamless DeepCell for convenience. \n",
    "\n",
    "The current notebook sets up a molecular web viewer for a reproducible PDB distribution. Then, the user can select a PDB entry among the ~200 000 entries and the corresponding molecular structure will be shown. It is guaranteed to show the same structure even if the PDB entry undergoes later change.\n",
    "\n",
    "The RPBS also maintains a last-resort buffer server at https://buffer.rpbs.univ-paris-diderot.fr . This buffer server includes the PDB entries."
   ]
  },
  {
   "cell_type": "code",
   "execution_count": 1,
   "metadata": {},
   "outputs": [
    {
     "name": "stdout",
     "output_type": "stream",
     "text": [
      "Warning: File path 'web/index.html' has a different value, overwriting cell\n",
      "Warning: File path 'web/index.js' has a different value, overwriting cell\n"
     ]
    },
    {
     "name": "stderr",
     "output_type": "stream",
     "text": [
      "*** define_graph() function is empty. Loading 'graph/reproducible-pdb-viewer.seamless' ***\n",
      "\n",
      "Project loaded.\n",
      "\n",
      "    Main context is \"ctx\"\n",
      "    Web/status context is \"webctx\"\n",
      "\n",
      "    Open http://localhost:<REST server port> to see the web page\n",
      "    Open http://localhost:<REST server port>/status/status.html to see the status\n",
      "\n",
      "    Run save() to save the project\n",
      "    \n"
     ]
    },
    {
     "name": "stdout",
     "output_type": "stream",
     "text": [
      "Opened the seamless share update server at port 5138\n",
      "Opened the seamless REST server at port 5813\n",
      "\n"
     ]
    }
   ],
   "source": [
    "# This will set up the Seamless web page generator. For the rest, the project is empty.\n",
    "\n",
    "%run -i load-project.py\n",
    "await load()"
   ]
  },
  {
   "cell_type": "markdown",
   "metadata": {},
   "source": [
    "## Defining the reproducible PDB distribution\n",
    "\n",
    "First, we need to define the reproducible PDB distribution. At the RPBS, there is the ***FAIR server*** where you can specify human-level metadata, such as the name of the dataset, the date, the version and/or the format. It returns the checksum of the distribution, the checksum of the ordered entries (keys), and some metadata:"
   ]
  },
  {
   "cell_type": "code",
   "execution_count": 2,
   "metadata": {},
   "outputs": [
    {
     "name": "stdout",
     "output_type": "stream",
     "text": [
      "{\r\n",
      "  \"checksum\": \"57ce3e4487745320f68fa84e2e4cb4c431953b204812cf1f76bb011f032d6380\",\r\n",
      "  \"type\": \"deepcell\",\r\n",
      "  \"date\": \"2022-11-27\",\r\n",
      "  \"format\": \"mmcif\",\r\n",
      "  \"latest\": true,\r\n",
      "  \"nkeys\": 198534,\r\n",
      "  \"index_size\": 15485655,\r\n",
      "  \"content_size\": 258567165319,\r\n",
      "  \"keyorder\": \"8fe126582cd6933150d79027927393a86d8426669e48fc39a911c9f895f00e2e\",\r\n",
      "  \"access_index\": \"3e9909e7c8d602ef0cb6a719ab3d43d8ca403224ff27eef5d45aaa9f1dcf290b\"\r\n",
      "}\r\n"
     ]
    }
   ],
   "source": [
    "!curl 'https://fair.rpbs.univ-paris-diderot.fr/machine/find_distribution?dataset=pdb&date=2022-11-27&type=deepcell'"
   ]
  },
  {
   "cell_type": "markdown",
   "metadata": {},
   "source": [
    "### Seamless API\n",
    "Seamless has an API where the FAIR server is contacted and the result is stored in a deep cell:"
   ]
  },
  {
   "cell_type": "code",
   "execution_count": 3,
   "metadata": {},
   "outputs": [
    {
     "name": "stdout",
     "output_type": "stream",
     "text": [
      "{\n",
      "  \"checksum\": \"57ce3e4487745320f68fa84e2e4cb4c431953b204812cf1f76bb011f032d6380\",\n",
      "  \"type\": \"deepcell\",\n",
      "  \"date\": \"2022-11-27\",\n",
      "  \"format\": \"mmcif\",\n",
      "  \"latest\": true,\n",
      "  \"nkeys\": 198534,\n",
      "  \"index_size\": 15485655,\n",
      "  \"content_size\": 258567165319,\n",
      "  \"keyorder\": \"8fe126582cd6933150d79027927393a86d8426669e48fc39a911c9f895f00e2e\",\n",
      "  \"access_index\": \"3e9909e7c8d602ef0cb6a719ab3d43d8ca403224ff27eef5d45aaa9f1dcf290b\"\n",
      "}\n"
     ]
    }
   ],
   "source": [
    "import json\n",
    "\n",
    "date = \"2022-11-27\"\n",
    "distribution = DeepCell.find_distribution(\"pdb\", date=date, format=\"mmcif\")\n",
    "print(json.dumps(distribution, indent=2))\n",
    "\n",
    "ctx.pdb = DeepCell()\n",
    "ctx.pdb.define(distribution)"
   ]
  },
  {
   "cell_type": "code",
   "execution_count": 4,
   "metadata": {},
   "outputs": [
    {
     "name": "stdout",
     "output_type": "stream",
     "text": [
      "PDB date: 2022-11-27\n",
      "Number of index keys (PDB entries):  198534\n",
      "Size of the checksum index file:  15 MiB\n",
      "Total size of the Protein Data Bank (mmCIF format): 258 GiB\n"
     ]
    }
   ],
   "source": [
    "print(\"PDB date:\", date)\n",
    "print(\"Number of index keys (PDB entries): \", ctx.pdb.nkeys )\n",
    "pdb_index_size = \"{:d} MiB\".format(int(ctx.pdb.index_size/10**6))\n",
    "print(\"Size of the checksum index file: \", pdb_index_size )\n",
    "if ctx.pdb.content_size is None:\n",
    "    pdb_size = \"<Unknown>\"\n",
    "else:\n",
    "    pdb_size = \"{:d} GiB\".format(int(ctx.pdb.content_size/10**9))\n",
    "print(\"Total size of the Protein Data Bank (mmCIF format):\", pdb_size )"
   ]
  },
  {
   "cell_type": "markdown",
   "metadata": {},
   "source": [
    "### Strong reproducibility\n",
    "\n",
    "Saving the workflow with `save` or `ctx.save_graph` will lead to strong reproducibility, since it stores the distribution checksums directly.\n",
    "\n",
    "If you need strongly reproducible *notebook code*, you can embed the distribution checksums inside the code:\n",
    "\n",
    "```python\n",
    "ctx.pdb.define({\n",
    "    \"checksum\": \"57ce3e4487745320f68fa84e2e4cb4c431953b204812cf1f76bb011f032d6380\",\n",
    "    \"keyorder\": \"8fe126582cd6933150d79027927393a86d8426669e48fc39a911c9f895f00e2e\",\n",
    "})\n",
    "```"
   ]
  },
  {
   "cell_type": "code",
   "execution_count": 5,
   "metadata": {},
   "outputs": [
    {
     "name": "stdout",
     "output_type": "stream",
     "text": [
      "Download checksum index file...\n",
      "Waiting for: Seamless transformer: .pdb.apply_blackwhite\n",
      "Waiting for: Seamless structured cell: .pdb.filtered\n",
      "Done\n"
     ]
    }
   ],
   "source": [
    "print(\"Download checksum index file...\")\n",
    "await ctx.computation()\n",
    "print(\"Done\")"
   ]
  },
  {
   "cell_type": "markdown",
   "metadata": {},
   "source": [
    "## Accessing individual PDB entries\n",
    "\n",
    "You can now get the checksum of each individual PDB entry."
   ]
  },
  {
   "cell_type": "code",
   "execution_count": 6,
   "metadata": {},
   "outputs": [
    {
     "name": "stdout",
     "output_type": "stream",
     "text": [
      "2b0eeeac3bd3ba8d6e67aa262d9d2279dc672607af7a80414df10da1cb4f9cc2\n"
     ]
    }
   ],
   "source": [
    "print(ctx.pdb.data[\"1avx\"])"
   ]
  },
  {
   "cell_type": "markdown",
   "metadata": {},
   "source": [
    "In addition, the FAIR server maintains, for each checksum, a list of URLs where the data can be downloaded. \n",
    "\n",
    "There is no guarantee that the URL will yield the correct data, but because the checksum is known in advance, the download can be verified."
   ]
  },
  {
   "cell_type": "code",
   "execution_count": 7,
   "metadata": {},
   "outputs": [
    {
     "name": "stdout",
     "output_type": "stream",
     "text": [
      "[\r\n",
      "  {\r\n",
      "    \"celltype\": \"text\",\r\n",
      "    \"url\": \"https://files.rcsb.org/download/1avx.cif\"\r\n",
      "  },\r\n",
      "  {\r\n",
      "    \"celltype\": \"text\",\r\n",
      "    \"url\": \"https://www.ebi.ac.uk/pdbe/entry-files/download/1avx.cif\"\r\n",
      "  },\r\n",
      "  {\r\n",
      "    \"celltype\": \"text\",\r\n",
      "    \"url\": \"https://data.pdbjbk1.pdbj.org/pub/pdb/data/structures/divided/mmCIF/1a/1avx.cif\"\r\n",
      "  },\r\n",
      "  {\r\n",
      "    \"celltype\": \"text\",\r\n",
      "    \"compression\": \"gz\",\r\n",
      "    \"url\": \"https://files.rcsb.org/download/1avx.cif.gz\"\r\n",
      "  },\r\n",
      "  {\r\n",
      "    \"celltype\": \"text\",\r\n",
      "    \"compression\": \"gz\",\r\n",
      "    \"url\": \"https://www.ebi.ac.uk/pdbe/entry-files/download/1avx.cif.gz\"\r\n",
      "  },\r\n",
      "  {\r\n",
      "    \"celltype\": \"text\",\r\n",
      "    \"compression\": \"gz\",\r\n",
      "    \"url\": \"https://data.pdbjbk1.pdbj.org/pub/pdb/data/structures/divided/mmCIF/1a/1avx.cif.gz\"\r\n",
      "  }\r\n",
      "]\r\n"
     ]
    }
   ],
   "source": [
    "!curl https://fair.rpbs.univ-paris-diderot.fr/machine/access/2b0eeeac3bd3ba8d6e67aa262d9d2279dc672607af7a80414df10da1cb4f9cc2"
   ]
  },
  {
   "cell_type": "markdown",
   "metadata": {},
   "source": [
    "### Seamless API\n",
    "Seamless has an API `DeepCell.access(entry)` where: \n",
    "\n",
    "- The FAIR server is contacted with the entry's checksum, obtaining the above list of URLs.\n",
    "- Using the list of URLs, the molecular structure is downloaded\n",
    "- The downloaded structure is verified against the checksum"
   ]
  },
  {
   "cell_type": "code",
   "execution_count": 8,
   "metadata": {},
   "outputs": [
    {
     "name": "stdout",
     "output_type": "stream",
     "text": [
      "Access PDB entry 1avx\n"
     ]
    },
    {
     "name": "stderr",
     "output_type": "stream",
     "text": [
      "Download https://fair.rpbs.univ-paris-diderot.fr/machine/access/2b0eeeac3bd3ba8d6e67aa262d9d2279dc672607af7a80414df10da1cb4f9cc2\n",
      "Download https://www.ebi.ac.uk/pdbe/entry-files/download/1avx.cif\n"
     ]
    },
    {
     "name": "stdout",
     "output_type": "stream",
     "text": [
      "data_1AVX\n",
      "# \n",
      "_entry.id   1AVX \n",
      "# \n",
      "_audit_conform.dict_name       mmcif_pdbx.dic \n",
      "_audit_conform.dict_version    5.281 \n",
      "_audit_conform.dict_location   http://mmcif.pdb.org/dictionaries/ascii/mmcif_pdbx.dic \n",
      "# \n",
      "loop_\n",
      "_database_2.database_id \n",
      "_database_2.database_code \n",
      "PDB   1AVX         \n",
      "WWPDB D_1000171322 \n",
      "# \n",
      "_pdbx_database_status.status_code                     REL \n",
      "_pdbx_database_status.entry_id                        1AVX \n",
      "_pdbx_database_status.recvd_initial_deposition_date   1997-09-21 \n",
      "_pdbx\n",
      "...\n"
     ]
    }
   ],
   "source": [
    "print(\"Access PDB entry 1avx\")\n",
    "pdb_data = ctx.pdb.access(\"1avx\")\n",
    "print(pdb_data[:500] + \"\\n...\")"
   ]
  },
  {
   "cell_type": "markdown",
   "metadata": {},
   "source": [
    "## PDB workflow\n",
    "\n",
    "The code below defines a workflow where the entry is defined in `ctx.pdb_code`, and the corresponding molecular structure is then stored (as text) in `ctx.pdb_structure`.\n",
    "\n",
    "We can manipulate the entry and structure with a little Jupyter dashboard."
   ]
  },
  {
   "cell_type": "code",
   "execution_count": 9,
   "metadata": {},
   "outputs": [],
   "source": [
    "from seamless.highlevel import stdlib\n",
    "\n",
    "ctx.all_pdb_codes = Cell(\"plain\")\n",
    "await ctx.translation()\n",
    "ctx.all_pdb_codes.set_checksum(ctx.pdb.keyorder_checksum)\n",
    "\n",
    "ctx.pdb_code = Cell(\"str\").set(\"1avx\")\n",
    "\n",
    "ctx.include(stdlib.select)\n",
    "ctx.pdb_structure = Cell(\"text\")\n",
    "ctx.select_pdb = ctx.lib.select(\n",
    "    celltype=\"text\",\n",
    "    input=ctx.pdb,\n",
    "    selected=ctx.pdb_code,\n",
    "    output=ctx.pdb_structure,\n",
    ")"
   ]
  },
  {
   "cell_type": "code",
   "execution_count": 10,
   "metadata": {},
   "outputs": [
    {
     "data": {
      "application/vnd.jupyter.widget-view+json": {
       "model_id": "2dc4241c37b14439af3594b9b218c411",
       "version_major": 2,
       "version_minor": 0
      },
      "text/plain": [
       "Text(value='')"
      ]
     },
     "metadata": {},
     "output_type": "display_data"
    },
    {
     "data": {
      "application/vnd.jupyter.widget-view+json": {
       "model_id": "3223181e8a954f6ba8f98a82920bfd77",
       "version_major": 2,
       "version_minor": 0
      },
      "text/plain": [
       "Textarea(value='')"
      ]
     },
     "metadata": {},
     "output_type": "display_data"
    }
   ],
   "source": [
    "from IPython.display import display\n",
    "from ipywidgets import Text, Textarea\n",
    "\n",
    "w = Text()\n",
    "ctx.pdb_code.traitlet().link(w)\n",
    "display(w)\n",
    "w = Textarea()\n",
    "ctx.pdb_structure.traitlet().connect(w)\n",
    "display(w)\n",
    "await ctx.computation()\n"
   ]
  },
  {
   "cell_type": "markdown",
   "metadata": {},
   "source": [
    "## PDB web visualization\n",
    "\n",
    "The final step is to define a web page where a PDB code is selected and the corresponding molecular structure is visualized.\n",
    "\n",
    "For this purpose, the Seamless web page generator contains the \"bigselect\" and \"nglviewer\" webunits. See their documentation below."
   ]
  },
  {
   "cell_type": "code",
   "execution_count": 11,
   "metadata": {},
   "outputs": [],
   "source": [
    "from seamless.highlevel import webunits\n",
    "webunits.bigselect?"
   ]
  },
  {
   "cell_type": "code",
   "execution_count": 12,
   "metadata": {},
   "outputs": [],
   "source": [
    "webunits.nglviewer?"
   ]
  },
  {
   "cell_type": "code",
   "execution_count": 13,
   "metadata": {},
   "outputs": [
    {
     "name": "stderr",
     "output_type": "stream",
     "text": [
      "webunit: non-shared Seamless Cell: .all_pdb_codes, sharing as 'bigselect_1/options.json'\n",
      "webunit: non-shared Seamless Cell: .pdb_code, sharing as 'bigselect_1/selected.json'\n",
      "webunit: non-shared Seamless Cell: .pdb_structure, sharing as 'nglviewer_1/structures.json'\n",
      "WARNING: webunit: skipping default value for empty Seamless Cell: .representation2, because it is not independent\n",
      "webunit: non-shared Seamless Cell: .representation2, sharing as 'nglviewer_1/representation.json'\n"
     ]
    },
    {
     "name": "stdout",
     "output_type": "stream",
     "text": [
      "\n"
     ]
    }
   ],
   "source": [
    "# Define the PDB viewer.\n",
    "\n",
    "# 1. Web selector (with tab completion) of PDB code \n",
    "webunits.bigselect(ctx, options=ctx.all_pdb_codes, selected=ctx.pdb_code)\n",
    "\n",
    "# 2. Define molecular representation (defined in representation.yaml)\n",
    "ctx.representation = Cell(\"yaml\").share(readonly=False)\n",
    "ctx.representation.mount(\"representation.yaml\")\n",
    "ctx.representation2 = Cell(\"plain\")\n",
    "ctx.representation2 = ctx.representation\n",
    "\n",
    "# 3. Molecular visualization based on the NGL web viewer\n",
    "webunits.nglviewer(ctx, ctx.pdb_structure, ctx.representation2, format=\"cif\")\n",
    "\n",
    "await ctx.computation()"
   ]
  },
  {
   "cell_type": "markdown",
   "metadata": {},
   "source": [
    "## PDB viewer\n",
    "\n",
    "The PDB viewer can now be opened under http://localhost:5813/ \n",
    "\n",
    "The web page has been lightly customized by editing `web/webform.json`. Compare with `web/webform-AUTOGEN.json` to observe the modifications."
   ]
  }
 ],
 "metadata": {
  "kernelspec": {
   "display_name": "Python 3 (ipykernel)",
   "language": "python",
   "name": "python3"
  },
  "language_info": {
   "codemirror_mode": {
    "name": "ipython",
    "version": 3
   },
   "file_extension": ".py",
   "mimetype": "text/x-python",
   "name": "python",
   "nbconvert_exporter": "python",
   "pygments_lexer": "ipython3",
   "version": "3.8.10"
  }
 },
 "nbformat": 4,
 "nbformat_minor": 2
}
