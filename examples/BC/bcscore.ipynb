{
 "cells": [
  {
   "cell_type": "code",
   "execution_count": 1,
   "metadata": {},
   "outputs": [],
   "source": [
    "import seamless\n",
    "from seamless.highlevel import Context, Transformer, Cell\n",
    "\n",
    "seamless.delegate(False)\n",
    "ctx = Context()"
   ]
  },
  {
   "cell_type": "code",
   "execution_count": 2,
   "metadata": {},
   "outputs": [],
   "source": [
    "ctx.pdb1 = open(\"1AKE-flanks.pdb\").read()\n",
    "ctx.pdb2 = open(\"1AKE-B-hit.pdb\").read()\n",
    "ctx.load_pdb1 = Transformer()\n",
    "ctx.load_pdb1.pdb = ctx.pdb1\n",
    "ctx.load_pdb_code = ctx.load_pdb1.code.pull()\n",
    "ctx.load_pdb_code.mount(\"load_pdb.py\")\n",
    "ctx.coor1 = ctx.load_pdb1\n",
    "ctx.load_pdb2 = Transformer()\n",
    "ctx.load_pdb2.pdb = ctx.pdb2\n",
    "ctx.load_pdb2.code = ctx.load_pdb_code\n",
    "ctx.coor2 = ctx.load_pdb2"
   ]
  },
  {
   "cell_type": "code",
   "execution_count": 3,
   "metadata": {},
   "outputs": [
    {
     "name": "stdout",
     "output_type": "stream",
     "text": [
      "Traceback (most recent call last):\n",
      "  File \"Seamless transformer: .load_pdb1.tf\", line 2, in <module>\n",
      "    import Bio.PDB\n",
      "ModuleNotFoundError: No module named 'Bio'\n",
      "*************************************************\n",
      "Execution time: 0.0 seconds\n",
      "\n"
     ]
    }
   ],
   "source": [
    "await ctx.computation()\n",
    "print(ctx.load_pdb1.logs)"
   ]
  },
  {
   "cell_type": "code",
   "execution_count": 4,
   "metadata": {},
   "outputs": [],
   "source": [
    "environment_yml = \"\"\"\n",
    "channels:\n",
    "- bioconda\n",
    "- conda-forge\n",
    "dependencies:\n",
    "- biopython\n",
    "\"\"\"\n",
    "ctx.load_pdb1.environment.set_conda(environment_yml, \"yaml\")\n",
    "ctx.load_pdb2.environment.set_conda(environment_yml, \"yaml\")"
   ]
  },
  {
   "cell_type": "code",
   "execution_count": 5,
   "metadata": {},
   "outputs": [
    {
     "name": "stdout",
     "output_type": "stream",
     "text": [
      "Traceback (most recent call last):\n",
      "  File \"Seamless transformer: .load_pdb1.tf\", line 2, in <module>\n",
      "    import Bio.PDB\n",
      "ModuleNotFoundError: No module named 'Bio'\n",
      "*************************************************\n",
      "Execution time: 0.0 seconds\n",
      "\n"
     ]
    }
   ],
   "source": [
    "await ctx.computation()\n",
    "print(ctx.load_pdb1.logs)"
   ]
  },
  {
   "cell_type": "code",
   "execution_count": 6,
   "metadata": {},
   "outputs": [
    {
     "name": "stdout",
     "output_type": "stream",
     "text": [
      "Collecting biopython\n",
      "  Downloading biopython-1.83-cp310-cp310-manylinux_2_17_x86_64.manylinux2014_x86_64.whl (3.1 MB)\n",
      "\u001b[2K     \u001b[90m━━━━━━━━━━━━━━━━━━━━━━━━━━━━━━━━━━━━━━━━\u001b[0m \u001b[32m3.1/3.1 MB\u001b[0m \u001b[31m17.1 MB/s\u001b[0m eta \u001b[36m0:00:00\u001b[0m00:01\u001b[0m00:01\u001b[0m\n",
      "\u001b[?25hRequirement already satisfied: numpy in /opt/conda/lib/python3.10/site-packages (from biopython) (1.24.4)\n",
      "Installing collected packages: biopython\n",
      "Successfully installed biopython-1.83\n",
      "Note: you may need to restart the kernel to use updated packages.\n"
     ]
    }
   ],
   "source": [
    "%pip install biopython"
   ]
  },
  {
   "cell_type": "code",
   "execution_count": 7,
   "metadata": {},
   "outputs": [
    {
     "name": "stdout",
     "output_type": "stream",
     "text": [
      "*************************************************\n",
      "* Result\n",
      "*************************************************\n",
      "<binary buffer of length 320, checksum fe4621ada9594853b8c9c13e6fd0b63681df0e8b209079f57b2b74a220f58a94>\n",
      "*************************************************\n",
      "Execution time: 0.0 seconds\n",
      "*************************************************\n"
     ]
    }
   ],
   "source": [
    "ctx.load_pdb1.clear_exception()\n",
    "ctx.load_pdb2.clear_exception()\n",
    "await ctx.computation()\n",
    "print(ctx.load_pdb1.logs)"
   ]
  },
  {
   "cell_type": "code",
   "execution_count": 8,
   "metadata": {},
   "outputs": [
    {
     "name": "stdout",
     "output_type": "stream",
     "text": [
      "<Silk: 0.5 >\n"
     ]
    }
   ],
   "source": [
    "def bcscore(coor1, coor2, flanksize, gapsize):\n",
    "    print(\"BCSCORE\", flanksize, gapsize)\n",
    "    return 0.5\n",
    "\n",
    "ctx.bcscore = bcscore\n",
    "ctx.bcscore.coor1 = ctx.coor1\n",
    "ctx.bcscore.coor2 = ctx.coor2\n",
    "ctx.bcscore.flanksize = 4\n",
    "ctx.bcscore.gapsize = 7\n",
    "\n",
    "ctx.bc_result = ctx.bcscore\n",
    "await ctx.computation()\n",
    "print(ctx.bc_result.value)"
   ]
  },
  {
   "cell_type": "code",
   "execution_count": 9,
   "metadata": {},
   "outputs": [],
   "source": [
    "ctx.bcscore.language = \"c\"\n",
    "\n",
    "ctx.bcscore_schema = Cell()\n",
    "ctx.bcscore_schema.celltype = \"plain\"\n",
    "ctx.bcscore_schema.mount(\"bcscore-schema.json\", \"r\", authority=\"file\")\n",
    "await ctx.translation()\n",
    "ctx.bcscore.result.example.set(1.0)\n",
    "ctx.bcscore.result.schema[\"form\"] = {\"bytesize\": 8}\n",
    "await ctx.translation()\n",
    "ctx.link(ctx.bcscore_schema, ctx.bcscore.inp.schema)\n",
    "ctx.header = ctx.bcscore.header\n",
    "ctx.header.mimetype = \"h\"\n",
    "await ctx.translation()"
   ]
  },
  {
   "cell_type": "code",
   "execution_count": 10,
   "metadata": {},
   "outputs": [
    {
     "data": {
      "application/vnd.jupyter.widget-view+json": {
       "model_id": "a3ea2c96e2374cf98f459f3c6b722830",
       "version_major": 2,
       "version_minor": 0
      },
      "text/plain": [
       "Output(outputs=({'output_type': 'display_data', 'data': {'text/plain': '\\n/*\\nThe following C header has been …"
      ]
     },
     "execution_count": 10,
     "metadata": {},
     "output_type": "execute_result"
    }
   ],
   "source": [
    "ctx.bcscore.header.mount(\"bcscore.h\", \"w\")\n",
    "ctx.header.output()"
   ]
  },
  {
   "cell_type": "code",
   "execution_count": 11,
   "metadata": {},
   "outputs": [
    {
     "name": "stdout",
     "output_type": "stream",
     "text": [
      "Warning: File path 'bcscore.c' has a different value, overwriting cell\n",
      "\n",
      "gcc -c -O3 -ffast-math -march=native -fPIC -fopenmp -p -g -o /tmp/seamless-extensions/seamless_module_d0712c61459d8273e9ab1318df172179b617a79e811da993a3110d5b8f9cd4ed_module/bclib.o /tmp/seamless-extensions/seamless_module_d0712c61459d8273e9ab1318df172179b617a79e811da993a3110d5b8f9cd4ed_module/bclib.c\n",
      "\n",
      "gcc -c -O3 -ffast-math -march=native -fPIC -fopenmp -p -g -o /tmp/seamless-extensions/seamless_module_d0712c61459d8273e9ab1318df172179b617a79e811da993a3110d5b8f9cd4ed_module/main.o /tmp/seamless-extensions/seamless_module_d0712c61459d8273e9ab1318df172179b617a79e811da993a3110d5b8f9cd4ed_module/main.c\n",
      "\n",
      "\n",
      "\n",
      "gcc -c -O3 -ffast-math -march=native -fPIC -fopenmp -p -g -o /tmp/seamless-extensions/seamless_module_bf6e993e786c8b9bad7d7fd8caec721be7048713c589f221bb6b1cc89e920420_module/bclib.o /tmp/seamless-extensions/seamless_module_bf6e993e786c8b9bad7d7fd8caec721be7048713c589f221bb6b1cc89e920420_module/bclib.c\n",
      "\n",
      "gcc -c -O3 -ffast-math -march=native -fPIC -fopenmp -p -g -o /tmp/seamless-extensions/seamless_module_bf6e993e786c8b9bad7d7fd8caec721be7048713c589f221bb6b1cc89e920420_module/main.o /tmp/seamless-extensions/seamless_module_bf6e993e786c8b9bad7d7fd8caec721be7048713c589f221bb6b1cc89e920420_module/main.c\n",
      "\n",
      "\n"
     ]
    }
   ],
   "source": [
    "ctx.bcscore.code.mount(\"bcscore.c\", authority=\"file\")\n",
    "await ctx.translation()\n",
    "ctx.bcscore.result.example.set(1.0)\n",
    "ctx.bcscore.result.schema[\"form\"] = {\"bytesize\": 4}\n",
    "ctx.bcscore.main_module.bclib.language = \"c\"\n",
    "ctx.bclib_code = ctx.bcscore.main_module.bclib.code.pull()\n",
    "ctx.bclib_code.mount(\"BClib.c\")\n",
    "await ctx.translation()\n"
   ]
  },
  {
   "cell_type": "code",
   "execution_count": 12,
   "metadata": {
    "scrolled": true
   },
   "outputs": [
    {
     "name": "stdout",
     "output_type": "stream",
     "text": [
      "None\n",
      "None\n"
     ]
    }
   ],
   "source": [
    "await ctx.computation()\n",
    "print(ctx.bcscore.inp.exception)\n",
    "print(ctx.bcscore.exception)"
   ]
  },
  {
   "cell_type": "code",
   "execution_count": 13,
   "metadata": {},
   "outputs": [],
   "source": [
    "import numpy as np\n",
    "\n",
    "def validate_shape(self):\n",
    "    assert self.coor1.shape[0] == 2 * self.flanksize, self.coor1.shape\n",
    "    assert self.coor2.shape[0] == 2 * self.flanksize + self.gapsize, self.coor2.shape\n",
    "\n",
    "example = ctx.bcscore.example\n",
    "example.coor1 = np.zeros((10, 3))\n",
    "example.coor2 = np.zeros((14, 3))\n",
    "example.flanksize = 5\n",
    "example.gapsize = 4\n",
    "example.add_validator(validate_shape, name=\"validate_shape\")"
   ]
  },
  {
   "cell_type": "code",
   "execution_count": 14,
   "metadata": {},
   "outputs": [
    {
     "name": "stdout",
     "output_type": "stream",
     "text": [
      "{'properties': {'coor1': {'form': {'contiguous': True, 'ndim': 2, 'shape': [-1, 3]}, 'items': {'form': {'bytesize': 8, 'type': 'number'}}, 'storage': 'binary', 'type': 'array'}, 'coor2': {'form': {'contiguous': True, 'ndim': 2, 'shape': [-1, 3]}, 'items': {'form': {'bytesize': 8, 'type': 'number'}}, 'storage': 'binary', 'type': 'array'}, 'flanksize': {'type': 'integer'}, 'gapsize': {'type': 'integer'}}, 'type': 'object', 'validators': [{'code': 'def validate_shape(self):\\n    assert self.coor1.shape[0] == 2 * self.flanksize, self.coor1.shape\\n    assert self.coor2.shape[0] == 2 * self.flanksize + self.gapsize, self.coor2.shape\\n', 'language': 'python', 'name': 'validate_shape'}]}\n",
      "{'form': {'bytesize': 4}, 'type': 'number'}\n"
     ]
    }
   ],
   "source": [
    "await ctx.computation()\n",
    "print(ctx.bcscore.schema)\n",
    "print(ctx.bcscore.result.schema)"
   ]
  },
  {
   "cell_type": "code",
   "execution_count": 15,
   "metadata": {},
   "outputs": [
    {
     "name": "stdout",
     "output_type": "stream",
     "text": [
      "<Silk: 0.9981744289398193 >\n"
     ]
    }
   ],
   "source": [
    "await ctx.computation()\n",
    "print(ctx.bc_result.value)"
   ]
  },
  {
   "cell_type": "code",
   "execution_count": 16,
   "metadata": {},
   "outputs": [],
   "source": [
    "ctx.save_graph(\"bcscore.seamless\")\n",
    "ctx.save_zip(\"bcscore.zip\")"
   ]
  }
 ],
 "metadata": {
  "kernelspec": {
   "display_name": "Python 3 (ipykernel)",
   "language": "python",
   "name": "python3"
  },
  "language_info": {
   "codemirror_mode": {
    "name": "ipython",
    "version": 3
   },
   "file_extension": ".py",
   "mimetype": "text/x-python",
   "name": "python",
   "nbconvert_exporter": "python",
   "pygments_lexer": "ipython3",
   "version": "3.10.9"
  }
 },
 "nbformat": 4,
 "nbformat_minor": 4
}
