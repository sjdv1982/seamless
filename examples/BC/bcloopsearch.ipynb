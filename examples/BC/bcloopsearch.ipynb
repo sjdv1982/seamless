{
 "cells": [
  {
   "cell_type": "code",
   "execution_count": 1,
   "metadata": {},
   "outputs": [
    {
     "name": "stdout",
     "output_type": "stream",
     "text": [
      "Requirement already satisfied: biopython in /opt/conda/lib/python3.10/site-packages (1.83)\n",
      "Requirement already satisfied: numpy in /opt/conda/lib/python3.10/site-packages (from biopython) (1.24.4)\n",
      "Note: you may need to restart the kernel to use updated packages.\n"
     ]
    }
   ],
   "source": [
    "%pip install biopython"
   ]
  },
  {
   "cell_type": "code",
   "execution_count": 2,
   "metadata": {},
   "outputs": [],
   "source": [
    "import seamless\n",
    "from seamless.highlevel import Context, Transformer, Cell\n",
    "import numpy as np\n",
    "\n",
    "seamless.delegate(False)\n",
    "ctx = Context()"
   ]
  },
  {
   "cell_type": "code",
   "execution_count": 3,
   "metadata": {
    "scrolled": true
   },
   "outputs": [
    {
     "name": "stdout",
     "output_type": "stream",
     "text": [
      "*************************************************\n",
      "* Result\n",
      "*************************************************\n",
      "<binary buffer of length 320, checksum fe4621ada9594853b8c9c13e6fd0b63681df0e8b209079f57b2b74a220f58a94>\n",
      "*************************************************\n",
      "Execution time: 0.0 seconds\n",
      "*************************************************\n",
      "*************************************************\n",
      "* Result\n",
      "*************************************************\n",
      "<binary buffer of length 488, checksum 32a00701fd118918d48c69e37599a11a7ac8cf4e813e4dab10276367e844b3ce>\n",
      "*************************************************\n",
      "Execution time: 0.0 seconds\n",
      "*************************************************\n"
     ]
    }
   ],
   "source": [
    "ctx.pdb1 = open(\"1AKE-flanks.pdb\").read()\n",
    "ctx.pdb2 = open(\"1AKE-B-hit.pdb\").read()\n",
    "ctx.load_pdb1 = Transformer()\n",
    "ctx.load_pdb1.pdb = ctx.pdb1\n",
    "ctx.load_pdb_code = ctx.load_pdb1.code.pull()\n",
    "ctx.load_pdb_code.mount(\"load_pdb.py\")\n",
    "ctx.flanks = ctx.load_pdb1\n",
    "\n",
    "ctx.load_pdb2 = Transformer()\n",
    "ctx.load_pdb2.pdb = ctx.pdb2\n",
    "ctx.load_pdb2.code = ctx.load_pdb_code\n",
    "ctx.dbca = ctx.load_pdb2\n",
    "\n",
    "environment_yml = \"\"\"\n",
    "channels:\n",
    "- bioconda\n",
    "- conda-forge\n",
    "dependencies:\n",
    "- biopython\n",
    "\"\"\"\n",
    "ctx.load_pdb1.environment.set_conda(environment_yml, \"yaml\")\n",
    "ctx.load_pdb2.environment.set_conda(environment_yml, \"yaml\")\n",
    "await ctx.computation()\n",
    "print(ctx.load_pdb1.logs)\n",
    "print(ctx.load_pdb2.logs)"
   ]
  },
  {
   "cell_type": "code",
   "execution_count": 4,
   "metadata": {},
   "outputs": [
    {
     "name": "stdout",
     "output_type": "stream",
     "text": [
      "<Silk: [[26.3220005  54.8409996  13.68799973]\n",
      " [28.35499954 57.76399994 15.05799961]\n",
      " [26.33300018 57.77600098 18.23900032]\n",
      " [25.08600044 54.26399994 18.40200043]] >\n",
      "<Silk: [[10.22099972 53.05599976 17.74900055]\n",
      " [10.58399963 55.20399857 14.63700008]\n",
      " [12.63899994 58.48400116 14.32499981]\n",
      " [10.53299999 61.81999969 14.44999981]] >\n"
     ]
    }
   ],
   "source": [
    "ctx.get_flank1 = lambda flanks: flanks[:4]\n",
    "ctx.get_flank1.flanks = ctx.flanks\n",
    "ctx.flank1 = ctx.get_flank1\n",
    "\n",
    "ctx.get_flank2 = lambda flanks: flanks[-4:]\n",
    "ctx.get_flank2.flanks = ctx.flanks\n",
    "ctx.flank2 = ctx.get_flank2\n",
    "\n",
    "await ctx.computation()\n",
    "print(ctx.flank1.value)\n",
    "print(ctx.flank2.value)"
   ]
  },
  {
   "cell_type": "markdown",
   "metadata": {},
   "source": [
    "```\n",
    "int BCLoopSearch (const Coord *atoms1, int nr_atoms1, const Coord *atoms2, int nr_atoms2,  //flank1 and flank2\n",
    "                  int looplength, //size of the gap/loop we are searching\n",
    "                  int minloopmatch, int maxloopgap, //for partial matches: minimum total length, maximum gap\n",
    "                  int mirror, //looking for mirrors?\n",
    "                  float minBC, float maxR, //minimum BC score, maximum rigidity\n",
    "                  const Coord *dbca, //CA database\n",
    "                  int seg_index[][3], //(dbca offset, segment resnr, segment length)\n",
    "                  int pdb_index[][2], int nr_pdbindex, //(seg_index offset, number of segments), total number of PDBs\n",
    "                  int hits[][3], //pdbindex line, seg_index line, segment offset\n",
    "                  float hitstats[][2] //score, rigidity\n",
    "                 )\n",
    "{\n",
    "```"
   ]
  },
  {
   "cell_type": "code",
   "execution_count": 5,
   "metadata": {},
   "outputs": [
    {
     "name": "stdout",
     "output_type": "stream",
     "text": [
      "('bcloopsearch', '_main_module', 'lib', 'code'): cannot detect language, default to c.\n"
     ]
    }
   ],
   "source": [
    "ctx.bcloopsearch = Transformer()\n",
    "ctx.bcloopsearch.language = \"c\"\n",
    "ctx.bcloopsearch.main_module.compiler_verbose = False\n",
    "ctx.bcloopsearch.code.mount(\"bcloopsearch.c\", authority=\"file\")\n",
    "ctx.bcloopsearch.main_module.lib.language = \"c\"\n",
    "ctx.bclib_code = ctx.bcloopsearch.main_module.lib.code.pull()\n",
    "ctx.bclib_code.mount(\"BCLoopSearch-lib.c\", authority=\"file\")\n",
    "\n",
    "ctx.bc_hits = ctx.bcloopsearch\n",
    "await ctx.translation()"
   ]
  },
  {
   "cell_type": "code",
   "execution_count": 6,
   "metadata": {},
   "outputs": [],
   "source": [
    "def set_example(bc):\n",
    "    bc.atoms1 = np.zeros((4, 3))\n",
    "    bc.atoms2 = np.zeros((4, 3))\n",
    "    bc.looplength = 5\n",
    "    bc.minloopmatch = 5\n",
    "    bc.maxloopgap = 0\n",
    "    bc.mirror = False\n",
    "    bc.minBC = 0.9\n",
    "    bc.maxR = 9999\n",
    "    bc.dbca = np.zeros((10, 3))\n",
    "    bc.seg_index = np.zeros((10,3), dtype=np.uint32)\n",
    "    bc.pdb_index = np.zeros((10,2), dtype=np.uint32)\n",
    "\n",
    "set_example(ctx.bcloopsearch.example)\n",
    "\n",
    "schema = ctx.bcloopsearch.schema\n",
    "schema.properties.atoms1[\"form\"].contiguous = True\n",
    "schema.properties.atoms1[\"form\"].shape = (-1, 3)\n",
    "schema.properties.atoms2[\"form\"].contiguous = True\n",
    "schema.properties.atoms2[\"form\"].shape = (-1, 3)\n",
    "schema.properties.dbca[\"form\"].shape = (-1, 3)\n",
    "schema.properties.dbca[\"form\"].contiguous = True\n",
    "schema.properties.seg_index[\"form\"].shape = (-1, 3)\n",
    "schema.properties.seg_index[\"form\"].contiguous = True\n",
    "schema.properties.pdb_index[\"form\"].shape = (-1, 2)\n",
    "schema.properties.pdb_index[\"form\"].contiguous = True\n",
    "\n",
    "MAXHITS = 100000\n",
    "bcrx = ctx.bcloopsearch.result.example\n",
    "bcrx.nhits = 0\n",
    "bcrx.hits = np.zeros((MAXHITS,3), dtype=np.uint32)\n",
    "bcrx.hitstats = np.zeros((MAXHITS,2), dtype=np.float32)\n",
    "await ctx.computation()\n",
    "rschema = ctx.bcloopsearch.result.schema\n",
    "rschema.properties.hits[\"form\"].shape = (MAXHITS, 3)\n",
    "rschema.properties.hitstats[\"form\"].shape = (MAXHITS, 2)\n",
    "await ctx.computation()"
   ]
  },
  {
   "cell_type": "code",
   "execution_count": 7,
   "metadata": {},
   "outputs": [],
   "source": [
    "set_example(ctx.bcloopsearch)\n",
    "ctx.bcloopsearch.atoms1 = ctx.flank1\n",
    "ctx.bcloopsearch.atoms2 = ctx.flank2\n",
    "ctx.bcloopsearch.dbca = ctx.dbca\n",
    "ctx.bcloopsearch.seg_index = np.array([[0,1,len(ctx.dbca.value)]],dtype=np.uint32)\n",
    "ctx.bcloopsearch.pdb_index = np.array([[0,1]],dtype=np.uint32)\n",
    "ctx.bcloopsearch.looplength = 7\n",
    "ctx.bcloopsearch.minBC = 0\n",
    "await ctx.computation()"
   ]
  },
  {
   "cell_type": "code",
   "execution_count": 8,
   "metadata": {},
   "outputs": [
    {
     "name": "stdout",
     "output_type": "stream",
     "text": [
      "{'properties': {'atoms1': {'form': {'contiguous': True, 'ndim': 2, 'shape': [-1, 3]}, 'items': {'form': {'bytesize': 8, 'type': 'number'}}, 'storage': 'binary', 'type': 'array'}, 'atoms2': {'form': {'contiguous': True, 'ndim': 2, 'shape': [-1, 3]}, 'items': {'form': {'bytesize': 8, 'type': 'number'}}, 'storage': 'binary', 'type': 'array'}, 'dbca': {'form': {'contiguous': True, 'ndim': 2, 'shape': [-1, 3]}, 'items': {'form': {'bytesize': 8, 'type': 'number'}}, 'storage': 'binary', 'type': 'array'}, 'looplength': {'type': 'integer'}, 'maxR': {'type': 'integer'}, 'maxloopgap': {'type': 'integer'}, 'minBC': {'type': 'number'}, 'minloopmatch': {'type': 'integer'}, 'mirror': {'type': 'boolean'}, 'pdb_index': {'form': {'contiguous': True, 'ndim': 2, 'shape': [-1, 2]}, 'items': {'form': {'bytesize': 4, 'type': 'integer', 'unsigned': True}}, 'storage': 'binary', 'type': 'array'}, 'seg_index': {'form': {'contiguous': True, 'ndim': 2, 'shape': [-1, 3]}, 'items': {'form': {'bytesize': 4, 'type': 'integer', 'unsigned': True}}, 'storage': 'binary', 'type': 'array'}}, 'type': 'object'}\n",
      "\n",
      "{'properties': {'hits': {'form': {'contiguous': True, 'ndim': 2, 'shape': [100000, 3]}, 'items': {'form': {'bytesize': 4, 'type': 'integer', 'unsigned': True}}, 'storage': 'binary', 'type': 'array'}, 'hitstats': {'form': {'contiguous': True, 'ndim': 2, 'shape': [100000, 2]}, 'items': {'form': {'bytesize': 4, 'type': 'number'}}, 'storage': 'binary', 'type': 'array'}, 'nhits': {'type': 'integer'}}, 'type': 'object'}\n",
      "\n",
      "Status: OK\n",
      "None\n"
     ]
    }
   ],
   "source": [
    "print(ctx.bcloopsearch.schema)\n",
    "print()\n",
    "print(ctx.bcloopsearch.result.schema)\n",
    "print()\n",
    "print(ctx.bcloopsearch.status)\n",
    "print(ctx.bcloopsearch.exception)"
   ]
  },
  {
   "cell_type": "code",
   "execution_count": 9,
   "metadata": {},
   "outputs": [
    {
     "data": {
      "application/vnd.jupyter.widget-view+json": {
       "model_id": "b9dd129649ff4f01bfec4db047232df7",
       "version_major": 2,
       "version_minor": 0
      },
      "text/plain": [
       "Output()"
      ]
     },
     "execution_count": 9,
     "metadata": {},
     "output_type": "execute_result"
    }
   ],
   "source": [
    "ctx.header = ctx.bcloopsearch.header\n",
    "ctx.header.mimetype = \"h\"\n",
    "ctx.header.output()"
   ]
  },
  {
   "cell_type": "code",
   "execution_count": 10,
   "metadata": {},
   "outputs": [],
   "source": [
    "ctx.bcloopsearch_schema = Cell()\n",
    "ctx.bcloopsearch_schema.celltype = \"plain\"\n",
    "ctx.link(ctx.bcloopsearch_schema, ctx.bcloopsearch.inp.schema)\n",
    "ctx.bcloopsearch_schema.mount(\"bcloopsearch-schema.json\")\n",
    "await ctx.computation()"
   ]
  },
  {
   "cell_type": "code",
   "execution_count": 11,
   "metadata": {},
   "outputs": [
    {
     "data": {
      "text/plain": [
       "<Silk: {'hits': array([[0, 0, 0],\n",
       "       [0, 0, 0],\n",
       "       [0, 0, 0],\n",
       "       ...,\n",
       "       [0, 0, 0],\n",
       "       [0, 0, 0],\n",
       "       [0, 0, 0]], dtype=uint32), 'hitstats': array([[0.9981744 , 0.41393602],\n",
       "       [0.        , 0.        ],\n",
       "       [0.        , 0.        ],\n",
       "       ...,\n",
       "       [0.        , 0.        ],\n",
       "       [0.        , 0.        ],\n",
       "       [0.        , 0.        ]], dtype=float32), 'nhits': 1} >"
      ]
     },
     "execution_count": 11,
     "metadata": {},
     "output_type": "execute_result"
    }
   ],
   "source": [
    "ctx.bc_hits.value"
   ]
  },
  {
   "cell_type": "code",
   "execution_count": 12,
   "metadata": {},
   "outputs": [
    {
     "name": "stdout",
     "output_type": "stream",
     "text": [
      "<Silk: 1 >\n"
     ]
    }
   ],
   "source": [
    "nhits = ctx.bc_hits.value.nhits\n",
    "print(nhits)"
   ]
  },
  {
   "cell_type": "code",
   "execution_count": 13,
   "metadata": {},
   "outputs": [
    {
     "data": {
      "text/plain": [
       "array([[0.9981744 , 0.41393602]], dtype=float32)"
      ]
     },
     "execution_count": 13,
     "metadata": {},
     "output_type": "execute_result"
    }
   ],
   "source": [
    "ctx.bc_hits.value.unsilk[\"hitstats\"][:nhits]"
   ]
  },
  {
   "cell_type": "code",
   "execution_count": 14,
   "metadata": {},
   "outputs": [],
   "source": [
    "ctx.pdb2.set(open(\"1AKE-B.pdb\").read())\n",
    "await ctx.computation()\n",
    "ctx.bcloopsearch.seg_index= np.array([[0,1,len(ctx.dbca.value)]],dtype=np.uint32)\n",
    "await ctx.computation()\n",
    "ctx.bcloopsearch.minBC = 0.7\n",
    "await ctx.computation()"
   ]
  },
  {
   "cell_type": "code",
   "execution_count": 15,
   "metadata": {},
   "outputs": [
    {
     "name": "stdout",
     "output_type": "stream",
     "text": [
      "<Silk: 4 >\n"
     ]
    }
   ],
   "source": [
    "nhits = ctx.bc_hits.value.nhits\n",
    "print(nhits)"
   ]
  },
  {
   "cell_type": "code",
   "execution_count": 16,
   "metadata": {},
   "outputs": [
    {
     "data": {
      "text/plain": [
       "array([[ 0.8497782 ,  6.7795157 ],\n",
       "       [ 0.7490894 ,  9.142373  ],\n",
       "       [ 0.9981744 ,  0.41393602],\n",
       "       [ 0.70380884, 10.4923525 ]], dtype=float32)"
      ]
     },
     "execution_count": 16,
     "metadata": {},
     "output_type": "execute_result"
    }
   ],
   "source": [
    "ctx.bc_hits.value.unsilk[\"hitstats\"][:nhits]"
   ]
  },
  {
   "cell_type": "code",
   "execution_count": 17,
   "metadata": {},
   "outputs": [
    {
     "name": "stdout",
     "output_type": "stream",
     "text": [
      "Warning: File path 'load_db_index.py' has a different value, overwriting cell\n"
     ]
    }
   ],
   "source": [
    "dbca = np.load(\"db/scop-g.npy\")[:, 1].astype(np.float64)\n",
    "ctx.load_db_index = lambda pdbindex, segindex: None\n",
    "ctx.load_db_index.pdbindex = open(\"db/scop-g.pdbindex\").read()\n",
    "ctx.load_db_index.segindex = open(\"db/scop-g.segindex\").read()\n",
    "ctx.load_db_index.code.mount(\"load_db_index.py\", authority=\"file\")\n",
    "ctx.db_index = ctx.load_db_index\n",
    "del ctx.dbca\n",
    "ctx.dbca = dbca\n",
    "ctx.bcloopsearch.dbca = ctx.dbca\n",
    "ctx.bcloopsearch.seg_index = ctx.db_index.seg\n",
    "ctx.bcloopsearch.pdb_index = ctx.db_index.pdb\n",
    "ctx.bcloopsearch.minBC = 0.99\n",
    "await ctx.computation()"
   ]
  },
  {
   "cell_type": "code",
   "execution_count": 18,
   "metadata": {},
   "outputs": [
    {
     "name": "stdout",
     "output_type": "stream",
     "text": [
      "<Silk: 17 >\n"
     ]
    }
   ],
   "source": [
    "nhits = ctx.bc_hits.value.nhits\n",
    "print(nhits)"
   ]
  },
  {
   "cell_type": "code",
   "execution_count": 19,
   "metadata": {},
   "outputs": [
    {
     "name": "stdout",
     "output_type": "stream",
     "text": [
      "['d1zipa2' 'd2akya2' 'd1dvra2' 'd1e4ya2' 'd1e4yb2' 'd1e4va2' 'd1e4vb2'\n",
      " 'd3hpqa2' 'd3hpqb2' 'd1akea2' 'd1akeb2' 'd1anka2' 'd4akea2' 'd4akeb2'\n",
      " 'd2ecka2' 'd2eckb2' 'd2ar7a2']\n",
      "[25029 25033 25035 25041 25042 25043 25044 25045 25046 25047 25048 25049\n",
      " 25051 25052 25053 25054 25057]\n",
      "[5 5 5 5 5 5 5 5 5 5 5 5 5 5 5 5 4]\n",
      "[[0.99150455 0.9326091 ]\n",
      " [0.9926247  0.07179447]\n",
      " [0.9944583  0.20403697]\n",
      " [0.9960647  0.5190825 ]\n",
      " [0.9971652  0.68993837]\n",
      " [0.99814665 0.08378951]\n",
      " [0.99811184 0.2650473 ]\n",
      " [0.9989707  0.11703701]\n",
      " [0.99860483 0.18700984]\n",
      " [1.         0.        ]\n",
      " [0.9981703  0.41412714]\n",
      " [0.9970384  0.18814881]\n",
      " [0.99861157 0.297172  ]\n",
      " [0.9949829  0.402861  ]\n",
      " [0.99926007 0.08981241]\n",
      " [0.9987744  0.02204398]\n",
      " [0.99002814 0.2134962 ]]\n"
     ]
    }
   ],
   "source": [
    "pdbs = ctx.bc_hits.value.unsilk[\"hits\"][:nhits,0]\n",
    "print(np.take(ctx.db_index.value.unsilk[\"pdb_names\"], pdbs))\n",
    "print(ctx.bc_hits.value.unsilk[\"hits\"][:nhits,1])\n",
    "print(ctx.bc_hits.value.unsilk[\"hits\"][:nhits,2])\n",
    "print(ctx.bc_hits.value.unsilk[\"hitstats\"][:nhits])"
   ]
  }
 ],
 "metadata": {
  "kernelspec": {
   "display_name": "Python 3 (ipykernel)",
   "language": "python",
   "name": "python3"
  },
  "language_info": {
   "codemirror_mode": {
    "name": "ipython",
    "version": 3
   },
   "file_extension": ".py",
   "mimetype": "text/x-python",
   "name": "python",
   "nbconvert_exporter": "python",
   "pygments_lexer": "ipython3",
   "version": "3.10.9"
  }
 },
 "nbformat": 4,
 "nbformat_minor": 4
}
