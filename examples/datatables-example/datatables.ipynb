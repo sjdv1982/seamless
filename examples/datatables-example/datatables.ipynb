{
 "cells": [
  {
   "cell_type": "markdown",
   "metadata": {},
   "source": [
    "# Datatables Seamless Notebook\n",
    "\n",
    "Controls generation of Datatables by the itables library\n",
    "\n",
    "Table parameters are controlled via ipywidgets\n",
    "\n",
    "Datatables HTML is displayed directly\n",
    "\n",
    "**See README.txt for more details**"
   ]
  },
  {
   "cell_type": "code",
   "execution_count": 1,
   "metadata": {
    "tags": []
   },
   "outputs": [],
   "source": [
    "import itables  # inserts require.js script/css tags into the Jupyter Notebook web page"
   ]
  },
  {
   "cell_type": "code",
   "execution_count": 2,
   "metadata": {
    "tags": []
   },
   "outputs": [
    {
     "name": "stdout",
     "output_type": "stream",
     "text": [
      "Opened the seamless share update server at port 5138\n",
      "Opened the seamless REST server at port 5813\n"
     ]
    }
   ],
   "source": [
    "import seamless\n",
    "seamless.delegate(False)\n",
    "ctx = seamless.highlevel.load_graph(\"datatables.seamless\", zip=\"datatables.zip\")\n",
    "await ctx.computation()"
   ]
  },
  {
   "cell_type": "code",
   "execution_count": 3,
   "metadata": {
    "tags": []
   },
   "outputs": [],
   "source": [
    "from ipywidgets import IntSlider, Layout, Box, HBox, VBox, Label"
   ]
  },
  {
   "cell_type": "code",
   "execution_count": 4,
   "metadata": {
    "tags": []
   },
   "outputs": [
    {
     "data": {
      "application/vnd.jupyter.widget-view+json": {
       "model_id": "995857fc3001426fbd9c933970e48de1",
       "version_major": 2,
       "version_minor": 0
      },
      "text/plain": [
       "HBox(children=(VBox(children=(Label(value='Factor A'), IntSlider(value=5, description='First value', max=10, m…"
      ]
     },
     "execution_count": 4,
     "metadata": {},
     "output_type": "execute_result"
    }
   ],
   "source": [
    "style = {'description_width': '130px'}\n",
    "box_layout = Layout(display='flex',\n",
    "                    flex_flow='column',\n",
    "                    align_items='stretch',\n",
    "                    border='solid',\n",
    "                    width='50%')\n",
    "\n",
    "a_title = Label(\"Factor A\")\n",
    "a_first = IntSlider(min=1,max=10,step=1,description=\"First value\",style=style)\n",
    "ctx.a_first.traitlet().link(a_first)\n",
    "a_step = IntSlider(min=1,max=20,step=1,description=\"Step between values\",style=style)\n",
    "ctx.a_step.traitlet().link(a_step)\n",
    "a_length = IntSlider(min=1,max=10,step=1,description=\"Number of values\",style=style)\n",
    "ctx.a_length.traitlet().link(a_length)\n",
    "colA = VBox(children=[a_title, a_first, a_step, a_length], layout=box_layout)\n",
    "\n",
    "b_title = Label(\"Factor B\")\n",
    "b_first = IntSlider(min=1,max=10,step=1,description=\"First value\",style=style)\n",
    "ctx.b_first.traitlet().link(b_first)\n",
    "b_step = IntSlider(min=1,max=20,step=1,description=\"Step between values\",style=style)\n",
    "ctx.b_step.traitlet().link(b_step)\n",
    "b_length = IntSlider(min=1,max=10,step=1,description=\"Number of values\",style=style)\n",
    "ctx.b_length.traitlet().link(b_length)\n",
    "colB = VBox(children=[b_title, b_first, b_step, b_length], layout=box_layout)\n",
    "\n",
    "box = HBox(children=[colA, colB])\n",
    "box"
   ]
  },
  {
   "cell_type": "code",
   "execution_count": 5,
   "metadata": {
    "tags": []
   },
   "outputs": [
    {
     "data": {
      "application/vnd.jupyter.widget-view+json": {
       "model_id": "37784b1a6c064cb993a9601a99d782d5",
       "version_major": 2,
       "version_minor": 0
      },
      "text/plain": [
       "Output(layout=Layout(min_height='500px'), outputs=({'output_type': 'display_data', 'data': {'text/plain': '<IP…"
      ]
     },
     "execution_count": 5,
     "metadata": {},
     "output_type": "execute_result"
    }
   ],
   "source": [
    "o = ctx.datatable.output()\n",
    "o.output_instance.layout.min_height = \"500px\"\n",
    "o"
   ]
  },
  {
   "cell_type": "markdown",
   "metadata": {},
   "source": [
    "### DataTables limitation: every table has a unique ID, so you can display it only once\n",
    "**The following code will give an error**\n",
    "```\n",
    "from IPython.display import HTML\n",
    "HTML(ctx.datatable.value)\n",
    "```\n",
    "\n",
    "or:\n",
    "\n",
    "```\n",
    "o\n",
    "```"
   ]
  },
  {
   "cell_type": "markdown",
   "metadata": {},
   "source": [
    "# Standalone collaborative web interface\n",
    "\n",
    "**The graph also contains a standalone web interface that you can display outside Jupyter:**\n",
    "\n",
    "### http://localhost:5813/ctx/index.html\n",
    "\n",
    "**This web interface is in sync with the Jupyter widgets and datatable.**\n",
    "\n",
    "**The web interface is also collaborative. When opened in multiple browser windows, each window is kept in sync.**"
   ]
  }
 ],
 "metadata": {
  "kernelspec": {
   "display_name": "Python 3 (ipykernel)",
   "language": "python",
   "name": "python3"
  },
  "language_info": {
   "codemirror_mode": {
    "name": "ipython",
    "version": 3
   },
   "file_extension": ".py",
   "mimetype": "text/x-python",
   "name": "python",
   "nbconvert_exporter": "python",
   "pygments_lexer": "ipython3",
   "version": "3.10.9"
  },
  "widgets": {
   "application/vnd.jupyter.widget-state+json": {
    "state": {
     "014d63b0926d4d0b86bf94854f95b898": {
      "model_module": "@jupyter-widgets/base",
      "model_module_version": "1.2.0",
      "model_name": "LayoutModel",
      "state": {
       "min_height": "500px"
      }
     },
     "01cd550b6f1343eeb4c2a08f431fdcaf": {
      "model_module": "@jupyter-widgets/controls",
      "model_module_version": "1.5.0",
      "model_name": "IntSliderModel",
      "state": {
       "description": "Step between values",
       "layout": "IPY_MODEL_f4764cd474a64b69accea78f757cc47e",
       "max": 20,
       "min": 1,
       "style": "IPY_MODEL_0615d5e35904446cba5abbea06011b56",
       "value": 4
      }
     },
     "0309e951ae32466487c90cfd4d2dcc4e": {
      "model_module": "@jupyter-widgets/controls",
      "model_module_version": "1.5.0",
      "model_name": "DescriptionStyleModel",
      "state": {
       "description_width": ""
      }
     },
     "03d16312fafa4cee896a11a1bc2d26f8": {
      "model_module": "@jupyter-widgets/base",
      "model_module_version": "1.2.0",
      "model_name": "LayoutModel",
      "state": {
       "min_height": "500px"
      }
     },
     "05ea1322e42947388bb8ebb99d8039ab": {
      "model_module": "@jupyter-widgets/base",
      "model_module_version": "1.2.0",
      "model_name": "LayoutModel",
      "state": {
       "align_items": "stretch",
       "border": "solid",
       "display": "flex",
       "flex_flow": "column",
       "width": "50%"
      }
     },
     "0615d5e35904446cba5abbea06011b56": {
      "model_module": "@jupyter-widgets/controls",
      "model_module_version": "1.5.0",
      "model_name": "SliderStyleModel",
      "state": {
       "description_width": "130px"
      }
     },
     "07849591ea064415b1780b5ac89582c1": {
      "model_module": "@jupyter-widgets/controls",
      "model_module_version": "1.5.0",
      "model_name": "SliderStyleModel",
      "state": {
       "description_width": "130px"
      }
     },
     "078e744bc666413c95d5507100fe7b1c": {
      "model_module": "@jupyter-widgets/controls",
      "model_module_version": "1.5.0",
      "model_name": "IntSliderModel",
      "state": {
       "description": "Number of values",
       "layout": "IPY_MODEL_f2c24872c03344b09d1b83ff6db03941",
       "max": 10,
       "min": 1,
       "style": "IPY_MODEL_e3d98a7b92c3410c8231defd73c4d5c8",
       "value": 5
      }
     },
     "09670de25f3d4396a6b41e53adde544a": {
      "model_module": "@jupyter-widgets/controls",
      "model_module_version": "1.5.0",
      "model_name": "IntSliderModel",
      "state": {
       "description": "Number of values",
       "layout": "IPY_MODEL_149676ae78a3447f8880993670af1a4a",
       "max": 10,
       "min": 1,
       "style": "IPY_MODEL_270f12cd01dd41e3864fbe4701442349",
       "value": 4
      }
     },
     "0a55eaa55aca4fef89148fa1646c4ee8": {
      "model_module": "@jupyter-widgets/controls",
      "model_module_version": "1.5.0",
      "model_name": "VBoxModel",
      "state": {
       "children": [
        "IPY_MODEL_2cb9f30e01274c05bc7bd9a50dcd5cf4",
        "IPY_MODEL_b5d6e4592e5c44429d9b0df1edd48497",
        "IPY_MODEL_bcf8db2edad34b47a8f4d17e28dc629b",
        "IPY_MODEL_dedf28f298f043ecbca9ec65f1b199bf"
       ],
       "layout": "IPY_MODEL_55a21b1cf52545298a62b92da7f2025c"
      }
     },
     "0e59b804c350442ca6969ac3851bd2a7": {
      "model_module": "@jupyter-widgets/base",
      "model_module_version": "1.2.0",
      "model_name": "LayoutModel",
      "state": {}
     },
     "12623f9d2b7e429985028398e3adc36e": {
      "model_module": "@jupyter-widgets/base",
      "model_module_version": "1.2.0",
      "model_name": "LayoutModel",
      "state": {}
     },
     "149676ae78a3447f8880993670af1a4a": {
      "model_module": "@jupyter-widgets/base",
      "model_module_version": "1.2.0",
      "model_name": "LayoutModel",
      "state": {}
     },
     "161e80c1083a45209c4df5de2f71def8": {
      "model_module": "@jupyter-widgets/controls",
      "model_module_version": "1.5.0",
      "model_name": "SliderStyleModel",
      "state": {
       "description_width": "130px"
      }
     },
     "216b7c6bfb634aa0afb8c47a213a853d": {
      "model_module": "@jupyter-widgets/base",
      "model_module_version": "1.2.0",
      "model_name": "LayoutModel",
      "state": {}
     },
     "216f7c7e94ab46c1b3417873590f9da4": {
      "model_module": "@jupyter-widgets/base",
      "model_module_version": "1.2.0",
      "model_name": "LayoutModel",
      "state": {}
     },
     "220fcb0cdd7f43c38242854ea34edc67": {
      "model_module": "@jupyter-widgets/controls",
      "model_module_version": "1.5.0",
      "model_name": "LabelModel",
      "state": {
       "layout": "IPY_MODEL_0e59b804c350442ca6969ac3851bd2a7",
       "style": "IPY_MODEL_0309e951ae32466487c90cfd4d2dcc4e",
       "value": "Factor B"
      }
     },
     "270f12cd01dd41e3864fbe4701442349": {
      "model_module": "@jupyter-widgets/controls",
      "model_module_version": "1.5.0",
      "model_name": "SliderStyleModel",
      "state": {
       "description_width": "130px"
      }
     },
     "299ee600eeea4bdb86230622318975d1": {
      "model_module": "@jupyter-widgets/controls",
      "model_module_version": "1.5.0",
      "model_name": "SliderStyleModel",
      "state": {
       "description_width": "130px"
      }
     },
     "2cb9f30e01274c05bc7bd9a50dcd5cf4": {
      "model_module": "@jupyter-widgets/controls",
      "model_module_version": "1.5.0",
      "model_name": "LabelModel",
      "state": {
       "layout": "IPY_MODEL_216b7c6bfb634aa0afb8c47a213a853d",
       "style": "IPY_MODEL_8f3d52664bd34ca689df0325696fa43d",
       "value": "Factor B"
      }
     },
     "37ba0fc7924b4625bf928cce2a5a739b": {
      "model_module": "@jupyter-widgets/controls",
      "model_module_version": "1.5.0",
      "model_name": "SliderStyleModel",
      "state": {
       "description_width": "130px"
      }
     },
     "3ae8dc5018134c81a982e8a1afe261b8": {
      "model_module": "@jupyter-widgets/controls",
      "model_module_version": "1.5.0",
      "model_name": "SliderStyleModel",
      "state": {
       "description_width": "130px"
      }
     },
     "3d394d5bce754ce99066e53eb40dd2cd": {
      "model_module": "@jupyter-widgets/controls",
      "model_module_version": "1.5.0",
      "model_name": "VBoxModel",
      "state": {
       "children": [
        "IPY_MODEL_8cd5662d66d146db984c499ac7224e0f",
        "IPY_MODEL_a869feff8fd34c58801a051e153d0769",
        "IPY_MODEL_8c3a12f4e8b14a469bc1a58185be2f18",
        "IPY_MODEL_5ad1b9cd4ff84d4f8a4ea977b1718ecd"
       ],
       "layout": "IPY_MODEL_05ea1322e42947388bb8ebb99d8039ab"
      }
     },
     "40b57c28edf94c94930fd403b46cd12c": {
      "model_module": "@jupyter-widgets/controls",
      "model_module_version": "1.5.0",
      "model_name": "LabelModel",
      "state": {
       "layout": "IPY_MODEL_70e30a80e7474bc6a863add2d58229c5",
       "style": "IPY_MODEL_61d48de7f7ea45c5be32f8fef2e9d49a",
       "value": "Factor A"
      }
     },
     "42a4a304dac84ebdbc19b1630296cb9c": {
      "model_module": "@jupyter-widgets/controls",
      "model_module_version": "1.5.0",
      "model_name": "SliderStyleModel",
      "state": {
       "description_width": "130px"
      }
     },
     "4713f54be434464ba07f95d54b51558b": {
      "model_module": "@jupyter-widgets/base",
      "model_module_version": "1.2.0",
      "model_name": "LayoutModel",
      "state": {}
     },
     "54ebdb0ee67b444a91b2cbd1275a431a": {
      "model_module": "@jupyter-widgets/controls",
      "model_module_version": "1.5.0",
      "model_name": "LabelModel",
      "state": {
       "layout": "IPY_MODEL_db07686ab97849d59141a749cb083225",
       "style": "IPY_MODEL_9af6e2e4583f4e939279773ccdbd61ae",
       "value": "Factor A"
      }
     },
     "55a21b1cf52545298a62b92da7f2025c": {
      "model_module": "@jupyter-widgets/base",
      "model_module_version": "1.2.0",
      "model_name": "LayoutModel",
      "state": {
       "align_items": "stretch",
       "border": "solid",
       "display": "flex",
       "flex_flow": "column",
       "width": "50%"
      }
     },
     "58d26902b0104f5c9e0a2f465781e822": {
      "model_module": "@jupyter-widgets/controls",
      "model_module_version": "1.5.0",
      "model_name": "SliderStyleModel",
      "state": {
       "description_width": "130px"
      }
     },
     "5909260526f94036baed476f5c5fd93e": {
      "model_module": "@jupyter-widgets/base",
      "model_module_version": "1.2.0",
      "model_name": "LayoutModel",
      "state": {}
     },
     "5ad1b9cd4ff84d4f8a4ea977b1718ecd": {
      "model_module": "@jupyter-widgets/controls",
      "model_module_version": "1.5.0",
      "model_name": "IntSliderModel",
      "state": {
       "description": "Number of values",
       "layout": "IPY_MODEL_9c561d4163bf4bcb8a74a143025a2b90",
       "max": 10,
       "min": 1,
       "style": "IPY_MODEL_76af4fb021d34f54a8340f79ca71ff01",
       "value": 4
      }
     },
     "61d48de7f7ea45c5be32f8fef2e9d49a": {
      "model_module": "@jupyter-widgets/controls",
      "model_module_version": "1.5.0",
      "model_name": "DescriptionStyleModel",
      "state": {
       "description_width": ""
      }
     },
     "6374ebb324e545d6b45fb141c126dcd7": {
      "model_module": "@jupyter-widgets/controls",
      "model_module_version": "1.5.0",
      "model_name": "LabelModel",
      "state": {
       "layout": "IPY_MODEL_eafd681617ab4eaab745f176f4e48917",
       "style": "IPY_MODEL_a203394ebd7245dd93e2cb498f9231fd",
       "value": "Factor A"
      }
     },
     "6597255e12c346a6b8ec057733b8f416": {
      "model_module": "@jupyter-widgets/output",
      "model_module_version": "1.0.0",
      "model_name": "OutputModel",
      "state": {
       "layout": "IPY_MODEL_fe5dbf0a99ed4a6dac6ce6cb37e87103",
       "outputs": [
        {
         "data": {
          "text/html": "<div><table id=\"ad9c9d8a-61c4-415b-a1ac-ba60e64c4d81\" class=\"display\"><thead>\n    <tr style=\"text-align: right;\">\n      \n      <th>Factor A</th>\n      <th>Factor B</th>\n      <th>Bits of A*B</th>\n    </tr>\n  </thead></table>\n<script type=\"text/javascript\">\nrequire([\"datatables\"], function (datatables) {\n    $(document).ready(function () {        \n        var dt_args = {\"columnDefs\": [{\"width\": \"70px\", \"targets\": \"_all\"}, {\"className\": \"dt-center\", \"targets\": \"_all\"}], \"data\": [[5, 8, 2], [5, 9, 4], [5, 10, 3], [5, 11, 5], [8, 8, 1], [8, 9, 2], [8, 10, 2], [8, 11, 3], [11, 8, 3], [11, 9, 4], [11, 10, 5], [11, 11, 5], [14, 8, 3], [14, 9, 6], [14, 10, 3], [14, 11, 4], [17, 8, 2], [17, 9, 4], [17, 10, 4], [17, 11, 6]]};\n        dt_args = eval_functions(dt_args);\n        table = $('#ad9c9d8a-61c4-415b-a1ac-ba60e64c4d81').DataTable(dt_args);\n    });\n})\n</script>\n</div>",
          "text/plain": "<IPython.core.display.HTML object>"
         },
         "metadata": {},
         "output_type": "display_data"
        }
       ]
      }
     },
     "675690acb23b4bd5a3c8861461e186c6": {
      "model_module": "@jupyter-widgets/base",
      "model_module_version": "1.2.0",
      "model_name": "LayoutModel",
      "state": {
       "min_height": "500px"
      }
     },
     "6866735aa2a842f1839737b01cf99bc0": {
      "model_module": "@jupyter-widgets/controls",
      "model_module_version": "1.5.0",
      "model_name": "HBoxModel",
      "state": {
       "children": [
        "IPY_MODEL_87b9370b16294aa29439570fa50a1991",
        "IPY_MODEL_3d394d5bce754ce99066e53eb40dd2cd"
       ],
       "layout": "IPY_MODEL_7b8746186b6d456d8cbed987ed0f52ff"
      }
     },
     "706e0720337649bb98168379a5a9cc8d": {
      "model_module": "@jupyter-widgets/controls",
      "model_module_version": "1.5.0",
      "model_name": "IntSliderModel",
      "state": {
       "description": "Step between values",
       "layout": "IPY_MODEL_7c61ddf615ab47748742acfbb6883999",
       "max": 20,
       "min": 1,
       "style": "IPY_MODEL_161e80c1083a45209c4df5de2f71def8",
       "value": 3
      }
     },
     "70e30a80e7474bc6a863add2d58229c5": {
      "model_module": "@jupyter-widgets/base",
      "model_module_version": "1.2.0",
      "model_name": "LayoutModel",
      "state": {}
     },
     "7200f247a7674169af1160f96b0f024c": {
      "model_module": "@jupyter-widgets/base",
      "model_module_version": "1.2.0",
      "model_name": "LayoutModel",
      "state": {}
     },
     "725aec51ca0f4d55bdeca8f9c6c276be": {
      "model_module": "@jupyter-widgets/controls",
      "model_module_version": "1.5.0",
      "model_name": "IntSliderModel",
      "state": {
       "description": "First value",
       "layout": "IPY_MODEL_909e15a16f9b4fb7b8ff993a251db543",
       "max": 10,
       "min": 1,
       "style": "IPY_MODEL_c503dd911f8f4800ae03e8fa4ba00732",
       "value": 5
      }
     },
     "76af4fb021d34f54a8340f79ca71ff01": {
      "model_module": "@jupyter-widgets/controls",
      "model_module_version": "1.5.0",
      "model_name": "SliderStyleModel",
      "state": {
       "description_width": "130px"
      }
     },
     "77a47a0f71ff482888b64f706c4d8936": {
      "model_module": "@jupyter-widgets/controls",
      "model_module_version": "1.5.0",
      "model_name": "IntSliderModel",
      "state": {
       "description": "First value",
       "layout": "IPY_MODEL_9333fcf77c49434cb1dc923f2215a93b",
       "max": 10,
       "min": 1,
       "style": "IPY_MODEL_3ae8dc5018134c81a982e8a1afe261b8",
       "value": 5
      }
     },
     "784a73941ac149d6913caea2dc76be48": {
      "model_module": "@jupyter-widgets/controls",
      "model_module_version": "1.5.0",
      "model_name": "IntSliderModel",
      "state": {
       "description": "Step between values",
       "layout": "IPY_MODEL_4713f54be434464ba07f95d54b51558b",
       "max": 20,
       "min": 1,
       "style": "IPY_MODEL_a2c5c3247d894231962352bb1b9a6080",
       "value": 3
      }
     },
     "7b8746186b6d456d8cbed987ed0f52ff": {
      "model_module": "@jupyter-widgets/base",
      "model_module_version": "1.2.0",
      "model_name": "LayoutModel",
      "state": {}
     },
     "7c61ddf615ab47748742acfbb6883999": {
      "model_module": "@jupyter-widgets/base",
      "model_module_version": "1.2.0",
      "model_name": "LayoutModel",
      "state": {}
     },
     "7d3e6493d067427381d353e5f856efe1": {
      "model_module": "@jupyter-widgets/base",
      "model_module_version": "1.2.0",
      "model_name": "LayoutModel",
      "state": {}
     },
     "827e0341321040c3a2344c1b0e733a7e": {
      "model_module": "@jupyter-widgets/base",
      "model_module_version": "1.2.0",
      "model_name": "LayoutModel",
      "state": {}
     },
     "83ecfd0e20e449c687afac04e5cb29dd": {
      "model_module": "@jupyter-widgets/output",
      "model_module_version": "1.0.0",
      "model_name": "OutputModel",
      "state": {
       "layout": "IPY_MODEL_675690acb23b4bd5a3c8861461e186c6",
       "outputs": [
        {
         "data": {
          "text/html": "<div><table id=\"ad9c9d8a-61c4-415b-a1ac-ba60e64c4d81\" class=\"display\"><thead>\n    <tr style=\"text-align: right;\">\n      \n      <th>Factor A</th>\n      <th>Factor B</th>\n      <th>Bits of A*B</th>\n    </tr>\n  </thead></table>\n<script type=\"text/javascript\">\nrequire([\"datatables\"], function (datatables) {\n    $(document).ready(function () {        \n        var dt_args = {\"columnDefs\": [{\"width\": \"70px\", \"targets\": \"_all\"}, {\"className\": \"dt-center\", \"targets\": \"_all\"}], \"data\": [[9, 2, 2], [9, 6, 4], [9, 10, 4], [9, 14, 6], [12, 2, 2], [12, 6, 2], [12, 10, 4], [12, 14, 3], [15, 2, 4], [15, 6, 4], [15, 10, 4], [15, 14, 4], [18, 2, 2], [18, 6, 4], [18, 10, 4], [18, 14, 6], [21, 2, 3], [21, 6, 6], [21, 10, 4], [21, 14, 4]]};\n        dt_args = eval_functions(dt_args);\n        table = $('#ad9c9d8a-61c4-415b-a1ac-ba60e64c4d81').DataTable(dt_args);\n    });\n})\n</script>\n</div>",
          "text/plain": "<IPython.core.display.HTML object>"
         },
         "metadata": {},
         "output_type": "display_data"
        }
       ]
      }
     },
     "8409bc5e55714e718a82ce7cb482a287": {
      "model_module": "@jupyter-widgets/controls",
      "model_module_version": "1.5.0",
      "model_name": "IntSliderModel",
      "state": {
       "description": "First value",
       "layout": "IPY_MODEL_7d3e6493d067427381d353e5f856efe1",
       "max": 10,
       "min": 1,
       "style": "IPY_MODEL_07849591ea064415b1780b5ac89582c1",
       "value": 9
      }
     },
     "8638b537d4d8489c98fa8e8cca9843a1": {
      "model_module": "@jupyter-widgets/base",
      "model_module_version": "1.2.0",
      "model_name": "LayoutModel",
      "state": {}
     },
     "87b9370b16294aa29439570fa50a1991": {
      "model_module": "@jupyter-widgets/controls",
      "model_module_version": "1.5.0",
      "model_name": "VBoxModel",
      "state": {
       "children": [
        "IPY_MODEL_6374ebb324e545d6b45fb141c126dcd7",
        "IPY_MODEL_725aec51ca0f4d55bdeca8f9c6c276be",
        "IPY_MODEL_706e0720337649bb98168379a5a9cc8d",
        "IPY_MODEL_87dbbba68a2b4102b0b43ff2c36f2183"
       ],
       "layout": "IPY_MODEL_05ea1322e42947388bb8ebb99d8039ab"
      }
     },
     "87dbbba68a2b4102b0b43ff2c36f2183": {
      "model_module": "@jupyter-widgets/controls",
      "model_module_version": "1.5.0",
      "model_name": "IntSliderModel",
      "state": {
       "description": "Number of values",
       "layout": "IPY_MODEL_7200f247a7674169af1160f96b0f024c",
       "max": 10,
       "min": 1,
       "style": "IPY_MODEL_299ee600eeea4bdb86230622318975d1",
       "value": 5
      }
     },
     "8a54f37058034bb8a103bd22013d7e05": {
      "model_module": "@jupyter-widgets/controls",
      "model_module_version": "1.5.0",
      "model_name": "VBoxModel",
      "state": {
       "children": [
        "IPY_MODEL_220fcb0cdd7f43c38242854ea34edc67",
        "IPY_MODEL_d784da08c0dd4022bde562d0777bd8da",
        "IPY_MODEL_01cd550b6f1343eeb4c2a08f431fdcaf",
        "IPY_MODEL_09670de25f3d4396a6b41e53adde544a"
       ],
       "layout": "IPY_MODEL_b2784b23542e4aa28fe7eb60a82439f0"
      }
     },
     "8b810d0e53b045a881c07e71a9d73a68": {
      "model_module": "@jupyter-widgets/base",
      "model_module_version": "1.2.0",
      "model_name": "LayoutModel",
      "state": {}
     },
     "8c3a12f4e8b14a469bc1a58185be2f18": {
      "model_module": "@jupyter-widgets/controls",
      "model_module_version": "1.5.0",
      "model_name": "IntSliderModel",
      "state": {
       "description": "Step between values",
       "layout": "IPY_MODEL_8b810d0e53b045a881c07e71a9d73a68",
       "max": 20,
       "min": 1,
       "style": "IPY_MODEL_cac90a5241b54cbdb1a1d907c1baa7a1",
       "value": 1
      }
     },
     "8cd5662d66d146db984c499ac7224e0f": {
      "model_module": "@jupyter-widgets/controls",
      "model_module_version": "1.5.0",
      "model_name": "LabelModel",
      "state": {
       "layout": "IPY_MODEL_12623f9d2b7e429985028398e3adc36e",
       "style": "IPY_MODEL_cbf988fd31e64f6db90328b543017c65",
       "value": "Factor B"
      }
     },
     "8f3d52664bd34ca689df0325696fa43d": {
      "model_module": "@jupyter-widgets/controls",
      "model_module_version": "1.5.0",
      "model_name": "DescriptionStyleModel",
      "state": {
       "description_width": ""
      }
     },
     "909e15a16f9b4fb7b8ff993a251db543": {
      "model_module": "@jupyter-widgets/base",
      "model_module_version": "1.2.0",
      "model_name": "LayoutModel",
      "state": {}
     },
     "9333fcf77c49434cb1dc923f2215a93b": {
      "model_module": "@jupyter-widgets/base",
      "model_module_version": "1.2.0",
      "model_name": "LayoutModel",
      "state": {}
     },
     "992991d6d2d9488ba1324c2ee6758e0d": {
      "model_module": "@jupyter-widgets/base",
      "model_module_version": "1.2.0",
      "model_name": "LayoutModel",
      "state": {}
     },
     "99f4ff70f9334dbc843bcfb5ab829bc7": {
      "model_module": "@jupyter-widgets/controls",
      "model_module_version": "1.5.0",
      "model_name": "HBoxModel",
      "state": {
       "children": [
        "IPY_MODEL_f67b0b61396344928fe5db32351129fa",
        "IPY_MODEL_8a54f37058034bb8a103bd22013d7e05"
       ],
       "layout": "IPY_MODEL_ed8adc4ade1d4e34a888ff478128e1bc"
      }
     },
     "9af6e2e4583f4e939279773ccdbd61ae": {
      "model_module": "@jupyter-widgets/controls",
      "model_module_version": "1.5.0",
      "model_name": "DescriptionStyleModel",
      "state": {
       "description_width": ""
      }
     },
     "9c561d4163bf4bcb8a74a143025a2b90": {
      "model_module": "@jupyter-widgets/base",
      "model_module_version": "1.2.0",
      "model_name": "LayoutModel",
      "state": {}
     },
     "a203394ebd7245dd93e2cb498f9231fd": {
      "model_module": "@jupyter-widgets/controls",
      "model_module_version": "1.5.0",
      "model_name": "DescriptionStyleModel",
      "state": {
       "description_width": ""
      }
     },
     "a2c5c3247d894231962352bb1b9a6080": {
      "model_module": "@jupyter-widgets/controls",
      "model_module_version": "1.5.0",
      "model_name": "SliderStyleModel",
      "state": {
       "description_width": "130px"
      }
     },
     "a869feff8fd34c58801a051e153d0769": {
      "model_module": "@jupyter-widgets/controls",
      "model_module_version": "1.5.0",
      "model_name": "IntSliderModel",
      "state": {
       "description": "First value",
       "layout": "IPY_MODEL_f6dbc41f1ced47bb8abe6bb1e24a629b",
       "max": 10,
       "min": 1,
       "style": "IPY_MODEL_e02bb75140274db9900da1d691501615",
       "value": 8
      }
     },
     "b2784b23542e4aa28fe7eb60a82439f0": {
      "model_module": "@jupyter-widgets/base",
      "model_module_version": "1.2.0",
      "model_name": "LayoutModel",
      "state": {
       "align_items": "stretch",
       "border": "solid",
       "display": "flex",
       "flex_flow": "column",
       "width": "50%"
      }
     },
     "b2f02f18215f4c95837b5a2a53cd2547": {
      "model_module": "@jupyter-widgets/base",
      "model_module_version": "1.2.0",
      "model_name": "LayoutModel",
      "state": {}
     },
     "b5d6e4592e5c44429d9b0df1edd48497": {
      "model_module": "@jupyter-widgets/controls",
      "model_module_version": "1.5.0",
      "model_name": "IntSliderModel",
      "state": {
       "description": "First value",
       "layout": "IPY_MODEL_992991d6d2d9488ba1324c2ee6758e0d",
       "max": 10,
       "min": 1,
       "style": "IPY_MODEL_b94acf5d81594cfabe654bf9c1736146",
       "value": 8
      }
     },
     "b8e568d6d60542adb6ce4ef76799f6ec": {
      "model_module": "@jupyter-widgets/base",
      "model_module_version": "1.2.0",
      "model_name": "LayoutModel",
      "state": {}
     },
     "b94acf5d81594cfabe654bf9c1736146": {
      "model_module": "@jupyter-widgets/controls",
      "model_module_version": "1.5.0",
      "model_name": "SliderStyleModel",
      "state": {
       "description_width": "130px"
      }
     },
     "bb8c66c47dbe4ad9aaf0ed4add4f2492": {
      "model_module": "@jupyter-widgets/controls",
      "model_module_version": "1.5.0",
      "model_name": "SliderStyleModel",
      "state": {
       "description_width": "130px"
      }
     },
     "bcf8db2edad34b47a8f4d17e28dc629b": {
      "model_module": "@jupyter-widgets/controls",
      "model_module_version": "1.5.0",
      "model_name": "IntSliderModel",
      "state": {
       "description": "Step between values",
       "layout": "IPY_MODEL_827e0341321040c3a2344c1b0e733a7e",
       "max": 20,
       "min": 1,
       "style": "IPY_MODEL_58d26902b0104f5c9e0a2f465781e822",
       "value": 1
      }
     },
     "bd3ed1d01168455ebddffb75be9e399d": {
      "model_module": "@jupyter-widgets/controls",
      "model_module_version": "1.5.0",
      "model_name": "IntSliderModel",
      "state": {
       "description": "Step between values",
       "layout": "IPY_MODEL_b8e568d6d60542adb6ce4ef76799f6ec",
       "max": 20,
       "min": 1,
       "style": "IPY_MODEL_e464132b525a41869185236282606ecb",
       "value": 3
      }
     },
     "c503dd911f8f4800ae03e8fa4ba00732": {
      "model_module": "@jupyter-widgets/controls",
      "model_module_version": "1.5.0",
      "model_name": "SliderStyleModel",
      "state": {
       "description_width": "130px"
      }
     },
     "cac90a5241b54cbdb1a1d907c1baa7a1": {
      "model_module": "@jupyter-widgets/controls",
      "model_module_version": "1.5.0",
      "model_name": "SliderStyleModel",
      "state": {
       "description_width": "130px"
      }
     },
     "cbf988fd31e64f6db90328b543017c65": {
      "model_module": "@jupyter-widgets/controls",
      "model_module_version": "1.5.0",
      "model_name": "DescriptionStyleModel",
      "state": {
       "description_width": ""
      }
     },
     "d169a12c1bc144fdbf108b289d34bad7": {
      "model_module": "@jupyter-widgets/controls",
      "model_module_version": "1.5.0",
      "model_name": "IntSliderModel",
      "state": {
       "description": "Number of values",
       "layout": "IPY_MODEL_5909260526f94036baed476f5c5fd93e",
       "max": 10,
       "min": 1,
       "style": "IPY_MODEL_42a4a304dac84ebdbc19b1630296cb9c",
       "value": 5
      }
     },
     "d6d9c6f5904e4c2798dbd01454ad8149": {
      "model_module": "@jupyter-widgets/controls",
      "model_module_version": "1.5.0",
      "model_name": "VBoxModel",
      "state": {
       "children": [
        "IPY_MODEL_54ebdb0ee67b444a91b2cbd1275a431a",
        "IPY_MODEL_77a47a0f71ff482888b64f706c4d8936",
        "IPY_MODEL_bd3ed1d01168455ebddffb75be9e399d",
        "IPY_MODEL_078e744bc666413c95d5507100fe7b1c"
       ],
       "layout": "IPY_MODEL_55a21b1cf52545298a62b92da7f2025c"
      }
     },
     "d784da08c0dd4022bde562d0777bd8da": {
      "model_module": "@jupyter-widgets/controls",
      "model_module_version": "1.5.0",
      "model_name": "IntSliderModel",
      "state": {
       "description": "First value",
       "layout": "IPY_MODEL_8638b537d4d8489c98fa8e8cca9843a1",
       "max": 10,
       "min": 1,
       "style": "IPY_MODEL_37ba0fc7924b4625bf928cce2a5a739b",
       "value": 2
      }
     },
     "daee1ab151504cb7b55057a66e85af15": {
      "model_module": "@jupyter-widgets/controls",
      "model_module_version": "1.5.0",
      "model_name": "HBoxModel",
      "state": {
       "children": [
        "IPY_MODEL_d6d9c6f5904e4c2798dbd01454ad8149",
        "IPY_MODEL_0a55eaa55aca4fef89148fa1646c4ee8"
       ],
       "layout": "IPY_MODEL_216f7c7e94ab46c1b3417873590f9da4"
      }
     },
     "db07686ab97849d59141a749cb083225": {
      "model_module": "@jupyter-widgets/base",
      "model_module_version": "1.2.0",
      "model_name": "LayoutModel",
      "state": {}
     },
     "dedf28f298f043ecbca9ec65f1b199bf": {
      "model_module": "@jupyter-widgets/controls",
      "model_module_version": "1.5.0",
      "model_name": "IntSliderModel",
      "state": {
       "description": "Number of values",
       "layout": "IPY_MODEL_b2f02f18215f4c95837b5a2a53cd2547",
       "max": 10,
       "min": 1,
       "style": "IPY_MODEL_bb8c66c47dbe4ad9aaf0ed4add4f2492",
       "value": 4
      }
     },
     "e02bb75140274db9900da1d691501615": {
      "model_module": "@jupyter-widgets/controls",
      "model_module_version": "1.5.0",
      "model_name": "SliderStyleModel",
      "state": {
       "description_width": "130px"
      }
     },
     "e3d98a7b92c3410c8231defd73c4d5c8": {
      "model_module": "@jupyter-widgets/controls",
      "model_module_version": "1.5.0",
      "model_name": "SliderStyleModel",
      "state": {
       "description_width": "130px"
      }
     },
     "e464132b525a41869185236282606ecb": {
      "model_module": "@jupyter-widgets/controls",
      "model_module_version": "1.5.0",
      "model_name": "SliderStyleModel",
      "state": {
       "description_width": "130px"
      }
     },
     "eafd681617ab4eaab745f176f4e48917": {
      "model_module": "@jupyter-widgets/base",
      "model_module_version": "1.2.0",
      "model_name": "LayoutModel",
      "state": {}
     },
     "ed8adc4ade1d4e34a888ff478128e1bc": {
      "model_module": "@jupyter-widgets/base",
      "model_module_version": "1.2.0",
      "model_name": "LayoutModel",
      "state": {}
     },
     "ee48d820a5c845128b50d608fe0350e0": {
      "model_module": "@jupyter-widgets/output",
      "model_module_version": "1.0.0",
      "model_name": "OutputModel",
      "state": {
       "layout": "IPY_MODEL_03d16312fafa4cee896a11a1bc2d26f8",
       "outputs": [
        {
         "data": {
          "text/html": "<div><table id=\"ad9c9d8a-61c4-415b-a1ac-ba60e64c4d81\" class=\"display\"><thead>\n    <tr style=\"text-align: right;\">\n      \n      <th>Factor A</th>\n      <th>Factor B</th>\n      <th>Bits of A*B</th>\n    </tr>\n  </thead></table>\n<script type=\"text/javascript\">\nrequire([\"datatables\"], function (datatables) {\n    $(document).ready(function () {        \n        var dt_args = {\"columnDefs\": [{\"width\": \"70px\", \"targets\": \"_all\"}, {\"className\": \"dt-center\", \"targets\": \"_all\"}], \"data\": [[5, 8, 2], [5, 9, 4], [5, 10, 3], [5, 11, 5], [8, 8, 1], [8, 9, 2], [8, 10, 2], [8, 11, 3], [11, 8, 3], [11, 9, 4], [11, 10, 5], [11, 11, 5], [14, 8, 3], [14, 9, 6], [14, 10, 3], [14, 11, 4], [17, 8, 2], [17, 9, 4], [17, 10, 4], [17, 11, 6]]};\n        dt_args = eval_functions(dt_args);\n        table = $('#ad9c9d8a-61c4-415b-a1ac-ba60e64c4d81').DataTable(dt_args);\n    });\n})\n</script>\n</div>",
          "text/plain": "<IPython.core.display.HTML object>"
         },
         "metadata": {},
         "output_type": "display_data"
        }
       ]
      }
     },
     "f23192e0db0a475697916a152cd13b93": {
      "model_module": "@jupyter-widgets/output",
      "model_module_version": "1.0.0",
      "model_name": "OutputModel",
      "state": {
       "layout": "IPY_MODEL_014d63b0926d4d0b86bf94854f95b898",
       "outputs": [
        {
         "data": {
          "text/html": "<div><table id=\"ad9c9d8a-61c4-415b-a1ac-ba60e64c4d81\" class=\"display\"><thead>\n    <tr style=\"text-align: right;\">\n      \n      <th>Factor A</th>\n      <th>Factor B</th>\n      <th>Bits of A*B</th>\n    </tr>\n  </thead></table>\n<script type=\"text/javascript\">\nrequire([\"datatables\"], function (datatables) {\n    $(document).ready(function () {        \n        var dt_args = {\"columnDefs\": [{\"width\": \"70px\", \"targets\": \"_all\"}, {\"className\": \"dt-center\", \"targets\": \"_all\"}], \"data\": [[9, 2, 2], [9, 6, 4], [9, 10, 4], [9, 14, 6], [12, 2, 2], [12, 6, 2], [12, 10, 4], [12, 14, 3], [15, 2, 4], [15, 6, 4], [15, 10, 4], [15, 14, 4], [18, 2, 2], [18, 6, 4], [18, 10, 4], [18, 14, 6], [21, 2, 3], [21, 6, 6], [21, 10, 4], [21, 14, 4]]};\n        dt_args = eval_functions(dt_args);\n        table = $('#ad9c9d8a-61c4-415b-a1ac-ba60e64c4d81').DataTable(dt_args);\n    });\n})\n</script>\n</div>",
          "text/plain": "<IPython.core.display.HTML object>"
         },
         "metadata": {},
         "output_type": "display_data"
        }
       ]
      }
     },
     "f2c24872c03344b09d1b83ff6db03941": {
      "model_module": "@jupyter-widgets/base",
      "model_module_version": "1.2.0",
      "model_name": "LayoutModel",
      "state": {}
     },
     "f4764cd474a64b69accea78f757cc47e": {
      "model_module": "@jupyter-widgets/base",
      "model_module_version": "1.2.0",
      "model_name": "LayoutModel",
      "state": {}
     },
     "f67b0b61396344928fe5db32351129fa": {
      "model_module": "@jupyter-widgets/controls",
      "model_module_version": "1.5.0",
      "model_name": "VBoxModel",
      "state": {
       "children": [
        "IPY_MODEL_40b57c28edf94c94930fd403b46cd12c",
        "IPY_MODEL_8409bc5e55714e718a82ce7cb482a287",
        "IPY_MODEL_784a73941ac149d6913caea2dc76be48",
        "IPY_MODEL_d169a12c1bc144fdbf108b289d34bad7"
       ],
       "layout": "IPY_MODEL_b2784b23542e4aa28fe7eb60a82439f0"
      }
     },
     "f6dbc41f1ced47bb8abe6bb1e24a629b": {
      "model_module": "@jupyter-widgets/base",
      "model_module_version": "1.2.0",
      "model_name": "LayoutModel",
      "state": {}
     },
     "fe5dbf0a99ed4a6dac6ce6cb37e87103": {
      "model_module": "@jupyter-widgets/base",
      "model_module_version": "1.2.0",
      "model_name": "LayoutModel",
      "state": {
       "min_height": "500px"
      }
     }
    },
    "version_major": 2,
    "version_minor": 0
   }
  }
 },
 "nbformat": 4,
 "nbformat_minor": 4
}
