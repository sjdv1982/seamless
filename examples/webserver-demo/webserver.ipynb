{
 "cells": [
  {
   "cell_type": "markdown",
   "id": "50007ea8-204f-473a-a28c-a9f0582222b5",
   "metadata": {
    "tags": []
   },
   "source": [
    "# Interactive collaborative web server\n",
    "\n",
    "*This demo also has \n",
    "a [BinderHub version](https://mybinder.org/v2/gh/sjdv1982/seamless-binder-demo/main?labpath=webserver/webserver.ipynb), which you can run directly in your browser without installation*\n",
    "\n",
    "This demo shows how to convert an existing workflow to Seamless,\n",
    "step by step. As much as possible, the intermediate steps are kept in the notebook.\n",
    "\n",
    "For an example that shows just the initial workflow and the converted Seamless workflow, see the `webserver-example` directory."
   ]
  },
  {
   "cell_type": "markdown",
   "id": "93378670-20e5-4949-a282-f280ae708abd",
   "metadata": {},
   "source": [
    "## Starting point: a simplistic Jupyter workflow. \n",
    "### - *Generate a random dataset, and then plot it.*\n",
    "### - *Optionally, cluster it first.*"
   ]
  },
  {
   "cell_type": "markdown",
   "id": "2d57aa4b-cf41-49e4-95a9-8c84cb5bcca9",
   "metadata": {},
   "source": [
    "### **1. Generate dataset**"
   ]
  },
  {
   "cell_type": "code",
   "execution_count": 1,
   "id": "661484b4-53eb-41cf-94b4-719d41f8fe78",
   "metadata": {
    "scrolled": true,
    "tags": []
   },
   "outputs": [
    {
     "data": {
      "text/plain": [
       "array([[-9.18705748e-01,  3.13059827e+00],\n",
       "       [ 8.55974417e+00,  7.56153034e+00],\n",
       "       [-8.59430796e+00,  7.25202929e-02],\n",
       "       [ 1.04233481e-01, -8.58613752e-01],\n",
       "       [-8.72993668e+00, -9.02427552e-01],\n",
       "       [-9.20577053e+00, -5.29406632e-01],\n",
       "       [-9.81321518e+00, -9.87610236e-01],\n",
       "       [-1.37797342e+00,  3.38238599e+00],\n",
       "       [ 2.49782209e+00, -2.13168598e-01],\n",
       "       [ 3.34597383e+00, -2.92492529e+00],\n",
       "       [-2.70023801e+00,  3.86246979e-01],\n",
       "       [ 3.89387816e-01, -1.42718266e+00],\n",
       "       [ 9.36881606e+00,  7.34798554e+00],\n",
       "       [ 1.23597125e+00, -3.44331939e+00],\n",
       "       [ 8.41052895e+00,  7.66059055e+00],\n",
       "       [-4.25171725e+00,  1.61510523e+00],\n",
       "       [-8.12763148e+00,  4.23160423e-01],\n",
       "       [ 4.67597373e+00, -2.42002434e+00],\n",
       "       [ 8.56352419e+00,  6.72353765e+00],\n",
       "       [-6.38116113e-02,  4.12256087e+00],\n",
       "       [ 3.30313265e+00, -1.30750768e+00],\n",
       "       [ 8.40175652e+00,  6.88366784e+00],\n",
       "       [-9.00062635e-01,  3.43521425e+00],\n",
       "       [ 7.82393100e+00,  8.05166510e+00],\n",
       "       [ 5.40356430e+00, -1.73954715e+00],\n",
       "       [ 8.69313681e+00,  8.23289926e+00],\n",
       "       [-2.55646196e+00,  3.59212448e-01],\n",
       "       [ 8.94917252e+00,  9.05965412e+00],\n",
       "       [ 2.76836506e-01, -5.72099981e-02],\n",
       "       [ 1.39904618e+00, -5.59290727e-01],\n",
       "       [ 4.98879893e+00, -2.68466418e+00],\n",
       "       [-2.33113548e+00, -1.46224561e+00],\n",
       "       [-9.43084018e+00, -1.46309776e+00],\n",
       "       [-7.84592631e+00,  1.64496558e+00],\n",
       "       [ 9.08153029e+00,  8.60984037e+00],\n",
       "       [-3.94175294e+00,  8.28016380e-01],\n",
       "       [-3.20318361e+00,  1.28973759e+00],\n",
       "       [ 6.52328344e+00,  7.49709188e+00],\n",
       "       [ 1.70239239e+00, -2.20390165e-01],\n",
       "       [-8.58908160e+00, -3.65686473e-01],\n",
       "       [-2.92026342e+00,  1.18759155e+00],\n",
       "       [ 6.62082236e+00,  7.33744326e+00],\n",
       "       [ 5.34306220e+00, -2.81379349e+00],\n",
       "       [-8.51615895e+00, -1.28256108e-01],\n",
       "       [ 7.01379763e+00,  7.13996823e+00],\n",
       "       [ 8.75782137e+00,  8.14580024e+00],\n",
       "       [-9.39654111e+00,  1.21980750e+00],\n",
       "       [ 8.01902060e+00,  7.52939605e+00],\n",
       "       [-3.22444099e+00,  2.32016522e-01],\n",
       "       [ 4.01934664e+00, -5.48187966e+00],\n",
       "       [ 4.80035533e+00, -2.27608542e+00],\n",
       "       [-4.70162068e+00,  2.21624587e+00],\n",
       "       [ 6.48697364e+00,  8.67703029e+00],\n",
       "       [ 5.73654293e+00, -4.47978582e+00],\n",
       "       [ 5.28260882e+00, -5.60831945e+00],\n",
       "       [-8.03387559e+00, -4.45199433e-03],\n",
       "       [ 5.70141130e+00, -2.70884810e+00],\n",
       "       [-4.24207647e-01,  5.29003693e+00],\n",
       "       [-4.14734116e+00,  8.17038352e-01],\n",
       "       [-7.47828902e+00, -7.44680803e-01],\n",
       "       [-1.12721665e+01, -6.61478062e-01],\n",
       "       [ 2.42551072e+00, -3.22680287e+00],\n",
       "       [ 1.92170922e+00, -2.11214905e+00],\n",
       "       [-4.31195044e+00,  1.52237616e+00],\n",
       "       [-1.63422896e+00,  3.50523633e+00],\n",
       "       [-3.45057340e+00,  1.69833516e+00],\n",
       "       [-2.34823427e+00,  2.91651948e+00],\n",
       "       [-7.40835841e-01,  2.53644674e+00],\n",
       "       [ 6.55065645e+00, -3.42275030e+00],\n",
       "       [-9.33163941e+00, -2.29394016e+00],\n",
       "       [-1.04965311e+01,  2.07577442e-01],\n",
       "       [-1.40827149e+00,  2.77405782e+00],\n",
       "       [-9.39950247e+00, -1.13779291e-01],\n",
       "       [-6.32774966e-01,  1.54688823e+00],\n",
       "       [-5.42324203e+00,  2.09737224e-01],\n",
       "       [ 6.21542452e+00, -4.96447455e+00],\n",
       "       [-1.03969031e+00,  2.92112121e+00],\n",
       "       [-3.36161511e+00,  4.02902124e+00],\n",
       "       [ 1.96550006e+00,  3.94533435e-01],\n",
       "       [ 1.81875434e-01, -1.33011752e+00],\n",
       "       [-4.80113256e+00, -1.90021576e-01],\n",
       "       [-2.39924033e+00,  2.90366012e-01],\n",
       "       [-1.37406036e+00,  5.59720825e+00],\n",
       "       [-6.73560222e-01,  4.75786515e+00],\n",
       "       [-2.05019966e+00, -3.61965429e-01],\n",
       "       [-3.25355300e+00,  1.84471615e-01],\n",
       "       [ 8.44399664e+00,  9.31427960e+00],\n",
       "       [ 9.32689248e+00,  8.52061837e+00],\n",
       "       [ 1.39452080e+00, -1.35076837e+00],\n",
       "       [-3.68047958e-01, -1.62689746e+00],\n",
       "       [-2.91787392e+00,  2.57920981e+00],\n",
       "       [-9.45122293e+00, -7.21041793e-01],\n",
       "       [ 9.91000288e+00,  7.64857181e+00],\n",
       "       [-3.38613061e+00,  1.09954277e+00],\n",
       "       [-3.41893465e+00,  1.30168164e+00],\n",
       "       [ 2.11262930e+00, -8.58780867e-01],\n",
       "       [ 1.57659047e+00, -1.19413856e+00],\n",
       "       [-7.19966344e-01,  5.31990713e+00],\n",
       "       [ 7.73021610e-01, -2.46113864e+00],\n",
       "       [-3.68647932e+00,  3.20513819e-01],\n",
       "       [ 3.14977546e+00, -2.68432863e+00],\n",
       "       [ 1.97225613e+00, -2.93294520e+00],\n",
       "       [ 8.54013635e+00,  8.39667237e+00],\n",
       "       [-1.73388306e+00,  3.60499319e+00],\n",
       "       [-2.76536973e+00, -2.90648373e-01],\n",
       "       [-1.34315664e+00,  3.42765919e+00],\n",
       "       [ 4.81025030e+00, -8.51238148e-01],\n",
       "       [ 8.53776312e+00,  7.01493968e+00],\n",
       "       [ 2.48051851e+00, -2.08706785e+00],\n",
       "       [ 9.22089202e+00,  7.36772068e+00],\n",
       "       [-1.13112959e+01, -1.11922869e+00],\n",
       "       [-3.88817030e+00,  2.41191545e+00],\n",
       "       [-1.07355014e-02,  4.09072448e+00],\n",
       "       [ 1.74914929e+00, -3.14499418e+00],\n",
       "       [-5.19230218e-01,  4.80865937e+00],\n",
       "       [ 9.10200005e+00,  7.21760931e+00],\n",
       "       [ 4.08594031e+00, -3.89178347e+00],\n",
       "       [ 2.30435315e+00, -1.64848167e+00],\n",
       "       [-2.12682864e-01, -1.35637804e+00],\n",
       "       [-8.56703160e-01,  3.64614750e+00],\n",
       "       [-1.07486483e+01, -1.81809522e+00],\n",
       "       [ 8.08682665e+00,  7.74951285e+00],\n",
       "       [-2.27931463e+00,  3.93647792e+00],\n",
       "       [-8.55008166e+00, -6.52220750e-01],\n",
       "       [-4.60778922e-03, -1.35875112e+00],\n",
       "       [ 9.25577223e+00,  6.85919249e+00],\n",
       "       [-2.91149193e-01,  4.17853192e+00],\n",
       "       [ 5.86915586e+00, -9.39106033e-01],\n",
       "       [-2.67130600e+00,  3.46385848e+00],\n",
       "       [ 5.50846896e+00, -1.89661299e+00],\n",
       "       [ 4.21458941e+00, -2.65669951e+00],\n",
       "       [-9.38989641e+00, -1.55365051e+00],\n",
       "       [ 9.69106907e+00,  6.38496259e+00],\n",
       "       [ 9.90063805e-01, -1.32636197e+00],\n",
       "       [ 1.60160439e+00, -1.95352644e+00],\n",
       "       [-1.64466846e+00,  3.60937495e+00],\n",
       "       [-9.72435866e-01,  2.62473019e+00],\n",
       "       [ 1.87058507e+00, -1.79712992e+00],\n",
       "       [-3.62807973e+00, -8.39924929e-01],\n",
       "       [-7.17645155e-01,  3.76063639e+00],\n",
       "       [-4.90065344e+00,  1.20444234e-01],\n",
       "       [ 5.94973677e+00, -2.13515424e+00],\n",
       "       [ 3.59145626e-02,  2.80498684e+00],\n",
       "       [-1.12294682e+00,  5.43109818e+00],\n",
       "       [ 5.52285063e-01, -1.21327313e+00],\n",
       "       [-7.54531950e+00, -1.12218184e+00],\n",
       "       [-9.73820052e+00,  4.61275927e-01],\n",
       "       [ 3.92026600e+00, -4.91914626e+00],\n",
       "       [-1.16725446e+00,  4.14753625e+00],\n",
       "       [-8.11073106e+00,  6.73831958e-01],\n",
       "       [ 1.78348475e+00, -3.78696590e-01],\n",
       "       [ 1.99641897e+00, -1.05013320e+00],\n",
       "       [ 9.86678324e+00,  6.42618176e+00],\n",
       "       [-2.87584666e+00,  3.22214519e+00],\n",
       "       [-9.21315335e+00, -8.27263325e-01],\n",
       "       [ 2.57255032e+00, -1.66536188e+00],\n",
       "       [ 2.04147028e+00, -1.87738989e+00],\n",
       "       [-3.32883500e+00,  2.37666831e+00],\n",
       "       [-2.82308917e+00, -1.91878108e+00],\n",
       "       [-3.97071497e+00,  7.27238033e-01],\n",
       "       [ 6.55664894e+00, -2.72855379e+00],\n",
       "       [-2.61544850e-01, -1.82100342e+00],\n",
       "       [ 5.09620818e+00, -3.49183925e+00],\n",
       "       [-3.29458983e+00,  4.46054173e-01],\n",
       "       [-9.08834275e+00, -2.16711235e+00],\n",
       "       [ 8.26353857e+00,  6.59780266e+00],\n",
       "       [ 6.54635407e+00,  8.69669901e+00],\n",
       "       [ 2.39886705e+00,  1.81116295e-01],\n",
       "       [ 9.88264843e+00,  6.32989459e+00],\n",
       "       [-1.03178703e+01, -2.86434035e+00],\n",
       "       [-9.14482672e+00, -1.18001154e+00],\n",
       "       [ 7.69355126e+00,  5.27405463e+00],\n",
       "       [-9.31732280e+00, -2.49082525e+00],\n",
       "       [ 6.85988040e+00, -2.22108000e+00],\n",
       "       [-8.31486558e+00, -8.63871538e-01],\n",
       "       [-8.31161890e+00, -7.64453178e-01],\n",
       "       [ 7.03144625e+00,  7.71925075e+00],\n",
       "       [ 1.88451942e+00, -2.48178801e+00],\n",
       "       [-4.47758678e-01,  3.34129926e+00],\n",
       "       [-3.71396023e+00,  2.35213647e+00],\n",
       "       [ 1.48517308e+00, -7.23213562e-01],\n",
       "       [-2.39518869e+00,  1.75987006e+00],\n",
       "       [ 5.94772829e+00, -4.38389473e+00],\n",
       "       [ 9.73275963e+00,  7.18402723e+00],\n",
       "       [ 3.70844823e+00, -3.77461165e+00],\n",
       "       [-5.33817035e+00, -1.18831156e+00],\n",
       "       [ 5.53384217e+00, -2.81625883e+00],\n",
       "       [-5.96419458e-02,  3.00472290e+00],\n",
       "       [ 5.05127889e+00, -2.30849892e+00],\n",
       "       [-1.31780881e+00,  3.02914797e+00],\n",
       "       [ 7.84343009e+00,  6.76056786e+00],\n",
       "       [ 6.06869825e+00, -4.75002622e+00],\n",
       "       [ 4.47999280e+00, -1.55946456e+00],\n",
       "       [-5.32272622e-01,  4.46038823e+00],\n",
       "       [ 8.14806973e+00, -4.29835449e+00],\n",
       "       [ 5.85284469e+00, -3.88265147e+00],\n",
       "       [ 1.69677762e+00, -1.58973911e+00],\n",
       "       [-9.66548682e+00, -1.39559783e+00],\n",
       "       [-8.53836410e-01,  4.26169611e+00],\n",
       "       [-4.43477851e-01,  3.47536309e+00],\n",
       "       [-3.40303992e+00,  2.26993114e-01],\n",
       "       [-9.71269910e+00, -1.63850885e+00],\n",
       "       [-4.05129921e+00,  8.48610780e-01],\n",
       "       [ 4.07521602e+00, -2.32558477e+00],\n",
       "       [ 6.34329810e+00,  8.10822300e+00],\n",
       "       [ 8.81768920e+00,  7.55188534e+00],\n",
       "       [ 6.73178148e+00,  6.06415118e+00],\n",
       "       [ 5.15881623e+00, -3.08248157e+00],\n",
       "       [ 1.37679195e+00, -1.90522503e+00],\n",
       "       [ 5.65292406e+00, -3.51971925e+00],\n",
       "       [ 5.14561326e+00, -1.75137854e+00],\n",
       "       [ 9.41405869e-01, -1.73372737e+00],\n",
       "       [-1.37587697e+00,  3.14547264e+00],\n",
       "       [-4.76043860e+00,  1.94221175e+00],\n",
       "       [ 7.65103104e-02,  1.61898205e+00],\n",
       "       [-8.25095700e-01,  3.21073323e+00],\n",
       "       [ 8.16359939e+00,  7.54004363e+00],\n",
       "       [ 4.81969595e+00, -3.64360486e+00],\n",
       "       [ 8.56719870e+00,  6.17652131e+00],\n",
       "       [-9.61610302e+00, -2.47118549e+00],\n",
       "       [ 2.17017595e+00, -3.41974868e+00],\n",
       "       [-2.98518032e+00,  2.32969159e-01],\n",
       "       [ 9.43075605e+00,  8.11037020e+00],\n",
       "       [ 9.26067403e+00,  7.99560908e+00],\n",
       "       [-1.01518049e+01,  1.51093851e-01],\n",
       "       [-1.70741004e+00,  6.28529897e+00],\n",
       "       [ 3.11502822e+00, -2.49068460e+00],\n",
       "       [-9.73831409e+00, -1.41606697e+00],\n",
       "       [-3.70553331e+00,  1.62317331e+00],\n",
       "       [-7.31188567e+00, -1.42624192e+00],\n",
       "       [ 5.29092424e+00, -3.12856783e+00],\n",
       "       [ 4.98745263e+00, -2.04890040e+00],\n",
       "       [ 4.97049499e+00, -2.24921812e+00],\n",
       "       [-2.20408072e+00, -7.10603888e-01],\n",
       "       [ 5.11647074e-01, -1.82331552e+00],\n",
       "       [-1.02661750e+01,  2.18472932e-01],\n",
       "       [ 4.01853928e+00, -2.30646823e+00],\n",
       "       [-6.14401745e+00,  3.87263232e-01],\n",
       "       [ 7.32034094e+00,  8.74995701e+00],\n",
       "       [-8.75713830e+00, -6.84294920e-01],\n",
       "       [-4.37685042e+00, -1.23110516e-01],\n",
       "       [-4.28576862e+00,  8.76714090e-01],\n",
       "       [ 8.04672538e+00,  7.78275209e+00],\n",
       "       [ 7.41000201e-01, -3.69793883e-01],\n",
       "       [-8.99935495e+00,  3.38331957e-01],\n",
       "       [-3.30147604e+00,  7.03616116e-01],\n",
       "       [ 3.85106605e+00, -1.92002341e+00],\n",
       "       [-1.98960328e+00,  2.12192943e+00],\n",
       "       [-2.07135574e+00,  3.20509629e+00],\n",
       "       [-8.57415327e+00, -2.04346877e+00]])"
      ]
     },
     "execution_count": 1,
     "metadata": {},
     "output_type": "execute_result"
    }
   ],
   "source": [
    "from sklearn.datasets import make_blobs\n",
    "\n",
    "dataset, dataset_classes = make_blobs(n_samples=250, centers=6)\n",
    "dataset"
   ]
  },
  {
   "cell_type": "markdown",
   "id": "208cd0d6-fa36-4595-b083-67c66319dbe9",
   "metadata": {},
   "source": [
    "### **2. Plot without clustering**"
   ]
  },
  {
   "cell_type": "code",
   "execution_count": 2,
   "id": "d374d8db-1676-4ea7-8fe7-ff49ef185a74",
   "metadata": {},
   "outputs": [],
   "source": [
    "import matplotlib.pyplot as plt\n",
    "\n",
    "def plot_dataset(dataset, colors):\n",
    "    x, y = dataset[:, 0], dataset[:, 1]\n",
    "    plt.scatter(x,y, c=colors)"
   ]
  },
  {
   "cell_type": "code",
   "execution_count": 3,
   "id": "96a60aa5-33bf-47d0-92dc-5842696cba85",
   "metadata": {},
   "outputs": [
    {
     "data": {
      "image/png": "[encoded data removed]",
      "text/plain": [
       "<Figure size 432x288 with 1 Axes>"
      ]
     },
     "metadata": {
      "needs_background": "light"
     },
     "output_type": "display_data"
    }
   ],
   "source": [
    "plot_dataset(dataset, dataset_classes)"
   ]
  },
  {
   "cell_type": "markdown",
   "id": "72c6ba5e-df32-42a5-925d-7d5adbe016a5",
   "metadata": {},
   "source": [
    "### **3. Plot with clustering**"
   ]
  },
  {
   "cell_type": "code",
   "execution_count": 4,
   "id": "9f57b527-0eab-48e8-8a1c-e61092f0ab7a",
   "metadata": {},
   "outputs": [
    {
     "data": {
      "image/png": "[encoded data removed]",
      "text/plain": [
       "<Figure size 432x288 with 1 Axes>"
      ]
     },
     "metadata": {
      "needs_background": "light"
     },
     "output_type": "display_data"
    }
   ],
   "source": [
    "from sklearn.cluster import KMeans\n",
    "k = 4\n",
    "clustering = KMeans(n_clusters=k).fit_predict(dataset)\n",
    "plot_dataset(dataset, clustering)"
   ]
  },
  {
   "cell_type": "markdown",
   "id": "5f6907db-29ab-46c8-b0ed-37fdacea5431",
   "metadata": {},
   "source": [
    "## Before we start: clean up the workflow\n",
    "### - *Make it deterministic (explicit random state)*\n",
    "### - *Put all computation in functions.*\n",
    "### - *Self-contained functions: don't rely on global variables or external imports.*\n",
    "### - *Self-contained functions: return the plot as image bytes.*"
   ]
  },
  {
   "cell_type": "markdown",
   "id": "c6303799-b0a7-4a07-a162-e445356e3682",
   "metadata": {},
   "source": [
    "### **1. Generate dataset**"
   ]
  },
  {
   "cell_type": "code",
   "execution_count": 5,
   "id": "570d8bf5-145f-4351-9b4f-fd51e5e6c8fe",
   "metadata": {},
   "outputs": [],
   "source": [
    "def generate_dataset(n_samples, random_state, delay, n_clusters):\n",
    "    # create artifical delay, so that the workflow status can be monitored\n",
    "    import time\n",
    "    time.sleep(delay)\n",
    "    \n",
    "    from sklearn.datasets import make_blobs\n",
    "    dataset, dataset_classes = make_blobs(n_samples=n_samples, random_state=random_state, centers=n_clusters)\n",
    "    return dataset, dataset_classes"
   ]
  },
  {
   "cell_type": "code",
   "execution_count": 6,
   "id": "c0fab4e4-4688-435d-b57c-80f47833af24",
   "metadata": {
    "scrolled": true,
    "tags": []
   },
   "outputs": [
    {
     "data": {
      "text/plain": [
       "array([[-3.90742801e+00,  8.44177954e+00],\n",
       "       [ 9.25757310e+00, -2.17024146e+00],\n",
       "       [ 2.15504965e+00,  4.12386249e+00],\n",
       "       [-9.73739417e-01,  6.94454493e+00],\n",
       "       [-7.55113462e-01,  3.74138642e+00],\n",
       "       [ 3.03809631e-01,  3.94423417e+00],\n",
       "       [ 1.07932501e+01, -6.11580316e-01],\n",
       "       [ 2.18217961e+00,  1.29965302e+00],\n",
       "       [-2.16434104e+00,  2.52061045e+00],\n",
       "       [-1.36641982e+00,  7.15528181e+00],\n",
       "       [ 2.45127423e+00, -1.95397849e-01],\n",
       "       [ 1.00877750e+01, -2.27224403e+00],\n",
       "       [ 2.20656076e+00,  5.50616718e+00],\n",
       "       [ 2.46452227e+00,  6.19967650e+00],\n",
       "       [ 9.14314826e+00, -2.23721639e+00],\n",
       "       [ 9.08260172e+00, -2.72601914e+00],\n",
       "       [ 1.44193252e+00,  2.76754364e+00],\n",
       "       [ 4.92573752e+00,  1.53580774e-01],\n",
       "       [ 7.07656534e-01,  8.22555334e+00],\n",
       "       [ 2.63185834e+00,  6.89364904e-01],\n",
       "       [ 2.50904929e+00,  5.77314610e+00],\n",
       "       [-7.22828865e-02,  2.88376939e+00],\n",
       "       [ 8.08035174e-02,  4.69068983e+00],\n",
       "       [ 1.98702592e+00,  2.61100638e+00],\n",
       "       [ 1.84070628e+00,  3.56162231e+00],\n",
       "       [ 1.36069966e+00,  7.48029120e-01],\n",
       "       [ 7.43018566e+00, -2.80914363e+00],\n",
       "       [ 2.66934689e+00,  1.81987033e+00],\n",
       "       [-2.37508158e+00,  7.10478226e+00],\n",
       "       [-2.95096492e+00,  2.42456238e+00],\n",
       "       [-1.24697941e+00,  2.81973187e+00],\n",
       "       [-1.29042723e+00,  7.54857282e+00],\n",
       "       [ 8.82144116e-01,  2.84128485e+00],\n",
       "       [ 7.34782884e+00,  1.13103046e+00],\n",
       "       [-1.95295605e+00,  8.77872074e+00],\n",
       "       [-1.96786016e+00,  7.02246703e+00],\n",
       "       [-1.38195733e+00,  8.91320382e+00],\n",
       "       [ 1.02051036e+01, -1.99120464e+00],\n",
       "       [ 6.65608647e+00,  5.83191041e-01],\n",
       "       [ 2.43169305e+00, -2.01737131e-01],\n",
       "       [ 5.73093132e-01,  5.52623240e+00],\n",
       "       [-6.16725105e-01,  3.23510048e+00],\n",
       "       [-2.06976549e+00,  3.33393231e+00],\n",
       "       [ 1.14244530e+00,  2.01467995e+00],\n",
       "       [ 1.06377871e+01, -3.02061881e+00],\n",
       "       [-2.48284901e+00,  2.57190049e+00],\n",
       "       [ 1.15369622e+00,  3.90200639e+00],\n",
       "       [ 1.41942144e+00,  1.57409695e+00],\n",
       "       [ 8.67460127e+00, -3.44706661e+00],\n",
       "       [-2.47135027e+00,  2.50783257e+00],\n",
       "       [ 8.79359940e+00, -1.71081133e+00],\n",
       "       [ 5.17594779e+00,  6.36644291e-02],\n",
       "       [ 1.73730780e+00,  4.42546234e+00],\n",
       "       [ 3.41947985e-01,  3.94104616e+00],\n",
       "       [ 1.13121750e+00,  4.68194985e+00],\n",
       "       [ 3.00251949e+00,  7.42653567e-01],\n",
       "       [-1.38420548e+00,  8.97235138e+00],\n",
       "       [ 4.86339619e+00,  8.92715600e-01],\n",
       "       [-1.64770480e+00,  8.20551590e+00],\n",
       "       [ 6.17340489e+00,  2.59894196e+00],\n",
       "       [-5.01067441e-01,  6.64651506e+00],\n",
       "       [ 2.11567076e+00,  3.06896151e+00],\n",
       "       [ 1.28535145e+00,  1.43691285e+00],\n",
       "       [-1.83591698e+00,  1.24187846e+00],\n",
       "       [-7.40576051e-01,  2.45146316e+00],\n",
       "       [ 8.98141785e+00, -3.09266184e+00],\n",
       "       [-9.01672562e-01,  1.31582461e+00],\n",
       "       [ 5.31698172e+00, -4.00931464e-01],\n",
       "       [ 3.97820955e+00,  2.37817845e+00],\n",
       "       [ 4.77987230e+00,  1.39814623e+00],\n",
       "       [ 6.96309483e+00,  1.07389934e+00],\n",
       "       [-5.58437610e-01,  9.13730625e+00],\n",
       "       [ 2.06576754e+00,  2.68353415e+00],\n",
       "       [ 1.05472929e-01,  3.72493766e+00],\n",
       "       [ 8.53072481e+00,  5.03973729e-01],\n",
       "       [ 9.84054549e+00, -2.55384472e+00],\n",
       "       [-1.88089792e+00,  1.54293097e+00],\n",
       "       [ 3.54588072e+00,  8.29382810e-01],\n",
       "       [-1.88879762e-01,  5.20461381e+00],\n",
       "       [ 1.55723507e+00,  2.82719571e+00],\n",
       "       [-2.40561103e+00,  7.52316776e+00],\n",
       "       [-3.18453558e+00,  8.02423861e+00],\n",
       "       [ 6.60590671e+00,  1.60733722e+00],\n",
       "       [ 6.29763109e+00,  8.56994159e-01],\n",
       "       [ 7.57337344e+00,  1.57229279e+00],\n",
       "       [ 8.91982346e+00, -3.94764381e+00],\n",
       "       [-2.76525282e-01,  5.08127768e+00],\n",
       "       [ 1.64164854e+00,  1.50208848e-01],\n",
       "       [ 4.43841230e+00,  1.84214315e+00],\n",
       "       [ 1.33263648e+00,  5.01036050e+00],\n",
       "       [-1.35879643e+00,  8.85563273e+00],\n",
       "       [-1.00583914e+00,  2.34209429e+00],\n",
       "       [-4.75002797e-01,  6.65157938e+00],\n",
       "       [-1.89608585e+00,  2.67850308e+00],\n",
       "       [ 3.92282648e+00,  1.80370832e+00],\n",
       "       [-1.79746375e-01,  7.38207421e+00],\n",
       "       [ 9.91656968e+00, -3.90179303e+00],\n",
       "       [-1.57671974e+00,  4.95740592e+00],\n",
       "       [-1.55914195e+00,  7.93286018e+00],\n",
       "       [ 6.69709677e+00, -2.07772070e+00],\n",
       "       [ 1.09213901e+01, -2.16694187e+00],\n",
       "       [ 1.05505217e+00, -6.47107437e-01],\n",
       "       [ 3.00468833e+00,  9.85214901e-01],\n",
       "       [-2.63128735e+00,  2.97004734e+00],\n",
       "       [-2.71576327e+00,  2.41106591e+00],\n",
       "       [-2.12422008e+00,  2.67996053e+00],\n",
       "       [-1.00362735e+00,  2.74633593e+00],\n",
       "       [-7.54513997e-01,  7.71935608e+00],\n",
       "       [ 3.93841822e+00, -4.50095401e-01],\n",
       "       [ 1.10059764e+01, -1.64666852e+00],\n",
       "       [ 9.64408021e+00, -2.18910782e+00],\n",
       "       [ 4.65464941e-01,  3.12315514e+00],\n",
       "       [ 7.17865214e+00, -2.20744771e+00],\n",
       "       [-1.68917841e+00,  7.55510452e+00],\n",
       "       [-6.37627769e-01,  4.09104705e+00],\n",
       "       [ 5.88943261e-01,  4.00148458e+00],\n",
       "       [ 5.74856999e+00,  7.72191333e-01],\n",
       "       [-1.38495085e+00,  2.59855384e+00],\n",
       "       [-1.61294932e+00,  7.99216387e+00],\n",
       "       [-7.24364751e-01,  7.92388210e+00],\n",
       "       [ 8.96414077e+00, -2.56463629e+00],\n",
       "       [-6.53928268e-01,  4.76656958e+00],\n",
       "       [ 1.95681500e+00,  2.34185374e-01],\n",
       "       [ 9.85177671e+00, -1.98151517e+00],\n",
       "       [-2.12321805e+00,  2.86531497e+00],\n",
       "       [-1.15053081e+00,  8.41841370e+00],\n",
       "       [ 1.04278730e+00,  4.60625923e+00],\n",
       "       [ 1.62011397e+00,  2.74692739e+00],\n",
       "       [ 1.01311791e+01, -1.19006776e+00],\n",
       "       [-1.37039748e+00,  3.15006330e+00],\n",
       "       [-8.86772487e-01,  1.30092622e+00],\n",
       "       [ 1.19404184e+00,  2.80772861e+00],\n",
       "       [ 1.02163013e+01, -5.07084679e+00],\n",
       "       [ 8.70394316e+00, -2.06126527e+00],\n",
       "       [-2.29350914e+00,  9.04660531e+00],\n",
       "       [ 9.48087850e-01,  4.73211920e+00],\n",
       "       [ 1.31051270e+00,  7.12251213e-02],\n",
       "       [ 2.91209813e+00,  2.46638067e-01],\n",
       "       [-1.99049999e+00,  3.39936374e+00],\n",
       "       [ 8.84843309e-02,  2.32299086e+00],\n",
       "       [ 1.05566092e+00,  6.77544419e+00],\n",
       "       [ 5.55883023e+00, -1.31829571e-01],\n",
       "       [ 8.62096161e+00, -2.85235894e+00],\n",
       "       [-5.54482622e-01,  7.67588658e+00],\n",
       "       [ 2.97612635e+00,  1.21639131e+00],\n",
       "       [ 1.37861172e+00,  3.61897724e+00],\n",
       "       [ 5.64009929e-01,  1.33705536e+00],\n",
       "       [ 4.87399638e+00, -2.15218968e-01],\n",
       "       [ 1.59973502e+00,  9.15142819e-01],\n",
       "       [ 8.50911129e+00, -3.76896110e+00],\n",
       "       [ 3.18190344e+00, -1.82267848e-01],\n",
       "       [ 1.18454506e+00,  5.28042636e+00],\n",
       "       [-1.30988218e+00,  7.72815474e+00],\n",
       "       [ 6.64717546e-01,  4.35995267e+00],\n",
       "       [ 7.57514939e+00, -1.94388915e+00],\n",
       "       [ 1.42013331e+00,  4.63746165e+00],\n",
       "       [-2.55478263e+00,  9.49359070e+00],\n",
       "       [ 5.43927178e+00, -5.81522121e-01],\n",
       "       [ 4.80456548e+00,  2.27955030e-01],\n",
       "       [-3.00414636e+00,  8.28639448e+00],\n",
       "       [ 9.32275019e+00, -1.83733285e+00],\n",
       "       [ 4.81645889e+00,  5.00043639e-01],\n",
       "       [ 6.72976103e+00,  1.95286246e+00],\n",
       "       [ 8.29832003e-01,  1.74202664e+00],\n",
       "       [ 2.22194102e+00,  1.53269510e+00],\n",
       "       [ 4.65534283e+00,  1.87932647e+00],\n",
       "       [ 8.28774447e+00, -3.80300463e+00],\n",
       "       [ 2.72756228e+00,  1.30512550e+00],\n",
       "       [ 9.00552167e+00, -3.45918095e+00],\n",
       "       [-3.06770103e+00,  2.98114426e+00],\n",
       "       [-1.90066436e+00,  7.44450664e+00],\n",
       "       [ 6.29191637e+00, -3.86713619e-01],\n",
       "       [ 1.02102468e+00,  1.57925818e+00],\n",
       "       [ 9.08820154e+00, -3.13881811e+00],\n",
       "       [ 1.07398339e+01, -1.47861768e+00],\n",
       "       [-9.61912086e-01,  8.44430385e+00],\n",
       "       [ 9.07798869e-01,  4.59843615e-01],\n",
       "       [-2.17052242e+00,  6.94479109e-01],\n",
       "       [ 6.89717142e-02,  4.35573272e+00],\n",
       "       [-5.81872693e-01,  7.37474023e+00],\n",
       "       [-8.49209429e-01,  5.06286726e+00],\n",
       "       [ 6.63506557e+00,  6.56158570e-01],\n",
       "       [-3.10984241e+00,  3.52826164e+00],\n",
       "       [ 1.38093486e+00,  9.29494218e-01],\n",
       "       [ 3.81809413e+00,  3.84437617e-02],\n",
       "       [ 9.31188576e+00, -3.98788473e+00],\n",
       "       [ 6.93478510e+00,  1.87592037e+00],\n",
       "       [ 6.71033352e+00,  4.62790927e-01],\n",
       "       [ 1.70536064e+00,  4.43277024e+00],\n",
       "       [-1.94030562e+00,  9.37183707e+00],\n",
       "       [-1.93609339e+00,  6.62138261e+00],\n",
       "       [ 6.93084761e+00,  3.43682594e-01],\n",
       "       [ 1.25185786e+00,  2.08113882e-01],\n",
       "       [ 1.02027603e+01, -1.74894503e+00],\n",
       "       [ 5.36765522e+00, -8.39007718e-01],\n",
       "       [ 6.36331936e-01,  4.25441021e+00],\n",
       "       [ 7.01769098e+00, -3.35367647e+00],\n",
       "       [-1.65978459e+00,  2.62009138e+00],\n",
       "       [-3.74572448e-01,  3.99750085e+00],\n",
       "       [ 7.39360111e-01,  4.36079055e-01],\n",
       "       [ 7.15363764e+00, -3.04520423e-01],\n",
       "       [ 2.35350570e+00,  2.22404956e+00],\n",
       "       [ 6.03380096e+00,  5.27294854e-01],\n",
       "       [ 1.00399184e+01, -1.97487681e+00],\n",
       "       [-1.87634333e+00,  7.35443290e+00],\n",
       "       [-1.10064528e+00,  3.59479030e+00],\n",
       "       [ 9.06635153e+00, -1.45099071e+00],\n",
       "       [ 5.36563657e+00, -1.62354289e+00],\n",
       "       [ 6.70346425e+00,  8.54770301e-01],\n",
       "       [-1.54392443e+00,  3.29703400e+00],\n",
       "       [ 9.55369692e+00, -3.32429323e+00],\n",
       "       [ 1.02202860e+00,  4.11660348e+00],\n",
       "       [-2.34026827e+00,  1.45145793e+00],\n",
       "       [ 7.32404937e-01,  2.87562511e+00],\n",
       "       [ 1.01148865e+01, -2.58062820e+00],\n",
       "       [-1.93226667e+00,  9.49501081e+00],\n",
       "       [ 3.24329731e+00,  1.21460627e+00],\n",
       "       [-7.30000112e-01,  6.25456272e+00],\n",
       "       [ 7.82672051e+00, -1.53087167e+00],\n",
       "       [-8.35365262e-01,  3.61263140e+00],\n",
       "       [-3.27894024e+00,  9.89995288e+00],\n",
       "       [ 2.47034915e+00,  4.09862906e+00],\n",
       "       [-1.40592279e+00,  1.00921835e+01],\n",
       "       [-2.25250139e+00,  1.53451831e+00],\n",
       "       [ 9.97171236e+00, -2.32739873e+00],\n",
       "       [-1.56618683e+00,  1.74978876e+00],\n",
       "       [ 1.28933778e+00,  3.44969159e+00],\n",
       "       [ 5.05187161e+00,  4.67509096e-01],\n",
       "       [-1.63313558e+00,  7.92981160e+00],\n",
       "       [ 4.66617897e-01,  3.86571303e+00],\n",
       "       [ 1.78726415e+00,  1.70012006e+00],\n",
       "       [-9.44825430e-02,  5.35823905e+00],\n",
       "       [-2.26646701e+00,  4.46089686e+00],\n",
       "       [-2.81976092e+00,  3.18493313e+00],\n",
       "       [ 3.24602470e+00,  2.84942165e+00],\n",
       "       [ 7.84782523e-01,  1.86706037e+00],\n",
       "       [-4.27244417e-01,  3.57314599e+00],\n",
       "       [ 6.21723319e+00,  5.43656115e-01],\n",
       "       [ 1.63123797e-01,  2.57750473e+00],\n",
       "       [ 5.39531124e+00,  7.59236824e-01],\n",
       "       [ 5.48705011e+00, -3.37008180e-03],\n",
       "       [-3.24194687e-02,  8.47897236e-01],\n",
       "       [-2.58251425e+00,  6.48874251e+00],\n",
       "       [ 5.78879680e+00,  7.98406051e-01],\n",
       "       [-1.55123014e+00,  2.17985135e+00],\n",
       "       [ 4.20186624e+00, -9.89869329e-01],\n",
       "       [ 6.28357929e-01,  4.46013630e+00],\n",
       "       [ 5.33168406e+00,  2.99035207e+00],\n",
       "       [-2.68308645e+00,  3.69908036e+00],\n",
       "       [ 7.50471676e+00, -1.97568783e+00]])"
      ]
     },
     "execution_count": 6,
     "metadata": {},
     "output_type": "execute_result"
    }
   ],
   "source": [
    "n_samples = 250\n",
    "random_state = 0\n",
    "delay = 2\n",
    "n_clusters = 6\n",
    "dataset, dataset_classes = generate_dataset(n_samples, random_state, delay, n_clusters)\n",
    "dataset"
   ]
  },
  {
   "cell_type": "markdown",
   "id": "3fb2034b-a17e-44cd-b589-a302ee83bfbd",
   "metadata": {},
   "source": [
    "### **2. Plot without clustering**"
   ]
  },
  {
   "cell_type": "code",
   "execution_count": 7,
   "id": "17c840e9-fc82-489b-bf31-2c53644fd631",
   "metadata": {},
   "outputs": [],
   "source": [
    "def plot_dataset(dataset, colors):\n",
    "    import matplotlib.pyplot as plt    \n",
    "    x, y = dataset[:, 0], dataset[:, 1]\n",
    "    plt.scatter(x,y, c=colors)    \n",
    "    \n",
    "    # We need to return the image bytes. Unfortunately, there is no Matplotlib built-in function for this\n",
    "    from io import BytesIO\n",
    "    image = BytesIO()\n",
    "    plt.savefig(image)\n",
    "    return image.getvalue()"
   ]
  },
  {
   "cell_type": "code",
   "execution_count": 8,
   "id": "3520a024-04a9-44d5-b41e-f67c841c350c",
   "metadata": {},
   "outputs": [
    {
     "data": {
      "image/png": "[encoded data removed]",
      "text/plain": [
       "<IPython.core.display.Image object>"
      ]
     },
     "execution_count": 8,
     "metadata": {},
     "output_type": "execute_result"
    },
    {
     "data": {
      "image/png": "[encoded data removed]",
      "text/plain": [
       "<Figure size 432x288 with 1 Axes>"
      ]
     },
     "metadata": {
      "needs_background": "light"
     },
     "output_type": "display_data"
    }
   ],
   "source": [
    "plot = plot_dataset(dataset, dataset_classes)\n",
    "from IPython.display import Image\n",
    "Image(plot)"
   ]
  },
  {
   "cell_type": "markdown",
   "id": "e9e92d4a-c1ef-45cc-9c04-477a57623e2f",
   "metadata": {},
   "source": [
    "### **3. Plot with clustering**"
   ]
  },
  {
   "cell_type": "code",
   "execution_count": 9,
   "id": "5f3cde2c-ccd0-40cc-81cd-74044962fa11",
   "metadata": {},
   "outputs": [],
   "source": [
    "def get_clustering(dataset, k):\n",
    "    from sklearn.cluster import KMeans\n",
    "    clustering = KMeans(n_clusters=k).fit_predict(dataset)\n",
    "    return clustering"
   ]
  },
  {
   "cell_type": "code",
   "execution_count": 10,
   "id": "41b8ae1b-d7c3-40c4-a017-87a676508e26",
   "metadata": {},
   "outputs": [
    {
     "data": {
      "image/png": "[encoded data removed]",
      "text/plain": [
       "<IPython.core.display.Image object>"
      ]
     },
     "execution_count": 10,
     "metadata": {},
     "output_type": "execute_result"
    },
    {
     "data": {
      "image/png": "[encoded data removed]",
      "text/plain": [
       "<Figure size 432x288 with 1 Axes>"
      ]
     },
     "metadata": {
      "needs_background": "light"
     },
     "output_type": "display_data"
    }
   ],
   "source": [
    "k = 4\n",
    "clustering = get_clustering(dataset, k)\n",
    "plot = plot_dataset(dataset, clustering)\n",
    "Image(plot)"
   ]
  },
  {
   "cell_type": "markdown",
   "id": "45559ba0-27ed-4dfc-923b-69021f85e76c",
   "metadata": {},
   "source": [
    "# Porting the workflow to Seamless"
   ]
  },
  {
   "cell_type": "markdown",
   "id": "98a2f6e5-7c23-4bba-a169-8ca297468be3",
   "metadata": {},
   "source": [
    "### Create a new Seamless project\n",
    "(If Seamless is installed locally, you would use the `seamless-new-project` command instead)"
   ]
  },
  {
   "cell_type": "code",
   "execution_count": 11,
   "id": "7ab1de2d-79bd-4a61-9d7e-cf280a91e894",
   "metadata": {
    "tags": []
   },
   "outputs": [
    {
     "data": {
      "text/plain": [
       "0"
      ]
     },
     "execution_count": 11,
     "metadata": {},
     "output_type": "execute_result"
    }
   ],
   "source": [
    "import os\n",
    "if not os.path.exists(\"web/\"):\n",
    "    os.system(\"python3 ~/seamless-scripts/new-project.py webserver-demo\")\n",
    "else:\n",
    "    # To avoid merge conflicts, remove all existing customized web content\n",
    "    os.system(\"rm -f web/webform.json web/index.html web/index.js web/*CONFLICT.*\")\n",
    "\n",
    "# new-project.py will generate a default Notebook for the project. Link it to the current notebook instead\n",
    "os.system(\"rm -f webserver-demo.ipynb\")\n",
    "os.system(\"ln -s webserver.ipynb webserver-demo.ipynb\")"
   ]
  },
  {
   "cell_type": "markdown",
   "id": "e1d8c286-4bb0-4265-a15d-700ebe098151",
   "metadata": {},
   "source": [
    "### Load the project"
   ]
  },
  {
   "cell_type": "code",
   "execution_count": 12,
   "id": "4f2b5045-c6cc-4686-b473-d59270f669ba",
   "metadata": {
    "tags": []
   },
   "outputs": [
    {
     "name": "stderr",
     "output_type": "stream",
     "text": [
      "*** define_graph() function is empty. Loading 'graph/webserver-demo.seamless' ***\n",
      "\n",
      "/opt/conda/lib/python3.8/site-packages/seamless/core/mount.py:123: RuntimeWarning: coroutine 'sleep' was never awaited\n",
      "  pass\n",
      "RuntimeWarning: Enable tracemalloc to get the object allocation traceback\n",
      "Project loaded.\n",
      "\n",
      "    Main context is \"ctx\"\n",
      "    Web/status context is \"webctx\"\n",
      "\n",
      "    Open http://localhost:<REST server port> to see the web page\n",
      "    Open http://localhost:<REST server port>/status/status.html to see the status\n",
      "\n",
      "    Run save() to save the project\n",
      "    \n"
     ]
    },
    {
     "name": "stdout",
     "output_type": "stream",
     "text": [
      "Opened the seamless share update server at port 5138\n",
      "Opened the seamless REST server at port 5813\n"
     ]
    }
   ],
   "source": [
    "%run -i load-project.py\n",
    "await load()"
   ]
  },
  {
   "cell_type": "markdown",
   "id": "cfe44286-d9ab-4c35-9753-08660eebcf2b",
   "metadata": {},
   "source": [
    "### **1. Generate dataset**"
   ]
  },
  {
   "cell_type": "code",
   "execution_count": 13,
   "id": "bac10e49-7704-4dd5-b1ea-48ff4ff07207",
   "metadata": {
    "scrolled": true,
    "tags": []
   },
   "outputs": [
    {
     "name": "stdout",
     "output_type": "stream",
     "text": [
      "\n",
      "\n",
      "\n",
      "Status: OK Exception:  None\n",
      "Result:\n"
     ]
    },
    {
     "data": {
      "text/plain": [
       "array([[-3.90742801e+00,  8.44177954e+00],\n",
       "       [ 9.25757310e+00, -2.17024146e+00],\n",
       "       [ 2.15504965e+00,  4.12386249e+00],\n",
       "       [-9.73739417e-01,  6.94454493e+00],\n",
       "       [-7.55113462e-01,  3.74138642e+00],\n",
       "       [ 3.03809631e-01,  3.94423417e+00],\n",
       "       [ 1.07932501e+01, -6.11580316e-01],\n",
       "       [ 2.18217961e+00,  1.29965302e+00],\n",
       "       [-2.16434104e+00,  2.52061045e+00],\n",
       "       [-1.36641982e+00,  7.15528181e+00],\n",
       "       [ 2.45127423e+00, -1.95397849e-01],\n",
       "       [ 1.00877750e+01, -2.27224403e+00],\n",
       "       [ 2.20656076e+00,  5.50616718e+00],\n",
       "       [ 2.46452227e+00,  6.19967650e+00],\n",
       "       [ 9.14314826e+00, -2.23721639e+00],\n",
       "       [ 9.08260172e+00, -2.72601914e+00],\n",
       "       [ 1.44193252e+00,  2.76754364e+00],\n",
       "       [ 4.92573752e+00,  1.53580774e-01],\n",
       "       [ 7.07656534e-01,  8.22555334e+00],\n",
       "       [ 2.63185834e+00,  6.89364904e-01],\n",
       "       [ 2.50904929e+00,  5.77314610e+00],\n",
       "       [-7.22828865e-02,  2.88376939e+00],\n",
       "       [ 8.08035174e-02,  4.69068983e+00],\n",
       "       [ 1.98702592e+00,  2.61100638e+00],\n",
       "       [ 1.84070628e+00,  3.56162231e+00],\n",
       "       [ 1.36069966e+00,  7.48029120e-01],\n",
       "       [ 7.43018566e+00, -2.80914363e+00],\n",
       "       [ 2.66934689e+00,  1.81987033e+00],\n",
       "       [-2.37508158e+00,  7.10478226e+00],\n",
       "       [-2.95096492e+00,  2.42456238e+00],\n",
       "       [-1.24697941e+00,  2.81973187e+00],\n",
       "       [-1.29042723e+00,  7.54857282e+00],\n",
       "       [ 8.82144116e-01,  2.84128485e+00],\n",
       "       [ 7.34782884e+00,  1.13103046e+00],\n",
       "       [-1.95295605e+00,  8.77872074e+00],\n",
       "       [-1.96786016e+00,  7.02246703e+00],\n",
       "       [-1.38195733e+00,  8.91320382e+00],\n",
       "       [ 1.02051036e+01, -1.99120464e+00],\n",
       "       [ 6.65608647e+00,  5.83191041e-01],\n",
       "       [ 2.43169305e+00, -2.01737131e-01],\n",
       "       [ 5.73093132e-01,  5.52623240e+00],\n",
       "       [-6.16725105e-01,  3.23510048e+00],\n",
       "       [-2.06976549e+00,  3.33393231e+00],\n",
       "       [ 1.14244530e+00,  2.01467995e+00],\n",
       "       [ 1.06377871e+01, -3.02061881e+00],\n",
       "       [-2.48284901e+00,  2.57190049e+00],\n",
       "       [ 1.15369622e+00,  3.90200639e+00],\n",
       "       [ 1.41942144e+00,  1.57409695e+00],\n",
       "       [ 8.67460127e+00, -3.44706661e+00],\n",
       "       [-2.47135027e+00,  2.50783257e+00],\n",
       "       [ 8.79359940e+00, -1.71081133e+00],\n",
       "       [ 5.17594779e+00,  6.36644291e-02],\n",
       "       [ 1.73730780e+00,  4.42546234e+00],\n",
       "       [ 3.41947985e-01,  3.94104616e+00],\n",
       "       [ 1.13121750e+00,  4.68194985e+00],\n",
       "       [ 3.00251949e+00,  7.42653567e-01],\n",
       "       [-1.38420548e+00,  8.97235138e+00],\n",
       "       [ 4.86339619e+00,  8.92715600e-01],\n",
       "       [-1.64770480e+00,  8.20551590e+00],\n",
       "       [ 6.17340489e+00,  2.59894196e+00],\n",
       "       [-5.01067441e-01,  6.64651506e+00],\n",
       "       [ 2.11567076e+00,  3.06896151e+00],\n",
       "       [ 1.28535145e+00,  1.43691285e+00],\n",
       "       [-1.83591698e+00,  1.24187846e+00],\n",
       "       [-7.40576051e-01,  2.45146316e+00],\n",
       "       [ 8.98141785e+00, -3.09266184e+00],\n",
       "       [-9.01672562e-01,  1.31582461e+00],\n",
       "       [ 5.31698172e+00, -4.00931464e-01],\n",
       "       [ 3.97820955e+00,  2.37817845e+00],\n",
       "       [ 4.77987230e+00,  1.39814623e+00],\n",
       "       [ 6.96309483e+00,  1.07389934e+00],\n",
       "       [-5.58437610e-01,  9.13730625e+00],\n",
       "       [ 2.06576754e+00,  2.68353415e+00],\n",
       "       [ 1.05472929e-01,  3.72493766e+00],\n",
       "       [ 8.53072481e+00,  5.03973729e-01],\n",
       "       [ 9.84054549e+00, -2.55384472e+00],\n",
       "       [-1.88089792e+00,  1.54293097e+00],\n",
       "       [ 3.54588072e+00,  8.29382810e-01],\n",
       "       [-1.88879762e-01,  5.20461381e+00],\n",
       "       [ 1.55723507e+00,  2.82719571e+00],\n",
       "       [-2.40561103e+00,  7.52316776e+00],\n",
       "       [-3.18453558e+00,  8.02423861e+00],\n",
       "       [ 6.60590671e+00,  1.60733722e+00],\n",
       "       [ 6.29763109e+00,  8.56994159e-01],\n",
       "       [ 7.57337344e+00,  1.57229279e+00],\n",
       "       [ 8.91982346e+00, -3.94764381e+00],\n",
       "       [-2.76525282e-01,  5.08127768e+00],\n",
       "       [ 1.64164854e+00,  1.50208848e-01],\n",
       "       [ 4.43841230e+00,  1.84214315e+00],\n",
       "       [ 1.33263648e+00,  5.01036050e+00],\n",
       "       [-1.35879643e+00,  8.85563273e+00],\n",
       "       [-1.00583914e+00,  2.34209429e+00],\n",
       "       [-4.75002797e-01,  6.65157938e+00],\n",
       "       [-1.89608585e+00,  2.67850308e+00],\n",
       "       [ 3.92282648e+00,  1.80370832e+00],\n",
       "       [-1.79746375e-01,  7.38207421e+00],\n",
       "       [ 9.91656968e+00, -3.90179303e+00],\n",
       "       [-1.57671974e+00,  4.95740592e+00],\n",
       "       [-1.55914195e+00,  7.93286018e+00],\n",
       "       [ 6.69709677e+00, -2.07772070e+00],\n",
       "       [ 1.09213901e+01, -2.16694187e+00],\n",
       "       [ 1.05505217e+00, -6.47107437e-01],\n",
       "       [ 3.00468833e+00,  9.85214901e-01],\n",
       "       [-2.63128735e+00,  2.97004734e+00],\n",
       "       [-2.71576327e+00,  2.41106591e+00],\n",
       "       [-2.12422008e+00,  2.67996053e+00],\n",
       "       [-1.00362735e+00,  2.74633593e+00],\n",
       "       [-7.54513997e-01,  7.71935608e+00],\n",
       "       [ 3.93841822e+00, -4.50095401e-01],\n",
       "       [ 1.10059764e+01, -1.64666852e+00],\n",
       "       [ 9.64408021e+00, -2.18910782e+00],\n",
       "       [ 4.65464941e-01,  3.12315514e+00],\n",
       "       [ 7.17865214e+00, -2.20744771e+00],\n",
       "       [-1.68917841e+00,  7.55510452e+00],\n",
       "       [-6.37627769e-01,  4.09104705e+00],\n",
       "       [ 5.88943261e-01,  4.00148458e+00],\n",
       "       [ 5.74856999e+00,  7.72191333e-01],\n",
       "       [-1.38495085e+00,  2.59855384e+00],\n",
       "       [-1.61294932e+00,  7.99216387e+00],\n",
       "       [-7.24364751e-01,  7.92388210e+00],\n",
       "       [ 8.96414077e+00, -2.56463629e+00],\n",
       "       [-6.53928268e-01,  4.76656958e+00],\n",
       "       [ 1.95681500e+00,  2.34185374e-01],\n",
       "       [ 9.85177671e+00, -1.98151517e+00],\n",
       "       [-2.12321805e+00,  2.86531497e+00],\n",
       "       [-1.15053081e+00,  8.41841370e+00],\n",
       "       [ 1.04278730e+00,  4.60625923e+00],\n",
       "       [ 1.62011397e+00,  2.74692739e+00],\n",
       "       [ 1.01311791e+01, -1.19006776e+00],\n",
       "       [-1.37039748e+00,  3.15006330e+00],\n",
       "       [-8.86772487e-01,  1.30092622e+00],\n",
       "       [ 1.19404184e+00,  2.80772861e+00],\n",
       "       [ 1.02163013e+01, -5.07084679e+00],\n",
       "       [ 8.70394316e+00, -2.06126527e+00],\n",
       "       [-2.29350914e+00,  9.04660531e+00],\n",
       "       [ 9.48087850e-01,  4.73211920e+00],\n",
       "       [ 1.31051270e+00,  7.12251213e-02],\n",
       "       [ 2.91209813e+00,  2.46638067e-01],\n",
       "       [-1.99049999e+00,  3.39936374e+00],\n",
       "       [ 8.84843309e-02,  2.32299086e+00],\n",
       "       [ 1.05566092e+00,  6.77544419e+00],\n",
       "       [ 5.55883023e+00, -1.31829571e-01],\n",
       "       [ 8.62096161e+00, -2.85235894e+00],\n",
       "       [-5.54482622e-01,  7.67588658e+00],\n",
       "       [ 2.97612635e+00,  1.21639131e+00],\n",
       "       [ 1.37861172e+00,  3.61897724e+00],\n",
       "       [ 5.64009929e-01,  1.33705536e+00],\n",
       "       [ 4.87399638e+00, -2.15218968e-01],\n",
       "       [ 1.59973502e+00,  9.15142819e-01],\n",
       "       [ 8.50911129e+00, -3.76896110e+00],\n",
       "       [ 3.18190344e+00, -1.82267848e-01],\n",
       "       [ 1.18454506e+00,  5.28042636e+00],\n",
       "       [-1.30988218e+00,  7.72815474e+00],\n",
       "       [ 6.64717546e-01,  4.35995267e+00],\n",
       "       [ 7.57514939e+00, -1.94388915e+00],\n",
       "       [ 1.42013331e+00,  4.63746165e+00],\n",
       "       [-2.55478263e+00,  9.49359070e+00],\n",
       "       [ 5.43927178e+00, -5.81522121e-01],\n",
       "       [ 4.80456548e+00,  2.27955030e-01],\n",
       "       [-3.00414636e+00,  8.28639448e+00],\n",
       "       [ 9.32275019e+00, -1.83733285e+00],\n",
       "       [ 4.81645889e+00,  5.00043639e-01],\n",
       "       [ 6.72976103e+00,  1.95286246e+00],\n",
       "       [ 8.29832003e-01,  1.74202664e+00],\n",
       "       [ 2.22194102e+00,  1.53269510e+00],\n",
       "       [ 4.65534283e+00,  1.87932647e+00],\n",
       "       [ 8.28774447e+00, -3.80300463e+00],\n",
       "       [ 2.72756228e+00,  1.30512550e+00],\n",
       "       [ 9.00552167e+00, -3.45918095e+00],\n",
       "       [-3.06770103e+00,  2.98114426e+00],\n",
       "       [-1.90066436e+00,  7.44450664e+00],\n",
       "       [ 6.29191637e+00, -3.86713619e-01],\n",
       "       [ 1.02102468e+00,  1.57925818e+00],\n",
       "       [ 9.08820154e+00, -3.13881811e+00],\n",
       "       [ 1.07398339e+01, -1.47861768e+00],\n",
       "       [-9.61912086e-01,  8.44430385e+00],\n",
       "       [ 9.07798869e-01,  4.59843615e-01],\n",
       "       [-2.17052242e+00,  6.94479109e-01],\n",
       "       [ 6.89717142e-02,  4.35573272e+00],\n",
       "       [-5.81872693e-01,  7.37474023e+00],\n",
       "       [-8.49209429e-01,  5.06286726e+00],\n",
       "       [ 6.63506557e+00,  6.56158570e-01],\n",
       "       [-3.10984241e+00,  3.52826164e+00],\n",
       "       [ 1.38093486e+00,  9.29494218e-01],\n",
       "       [ 3.81809413e+00,  3.84437617e-02],\n",
       "       [ 9.31188576e+00, -3.98788473e+00],\n",
       "       [ 6.93478510e+00,  1.87592037e+00],\n",
       "       [ 6.71033352e+00,  4.62790927e-01],\n",
       "       [ 1.70536064e+00,  4.43277024e+00],\n",
       "       [-1.94030562e+00,  9.37183707e+00],\n",
       "       [-1.93609339e+00,  6.62138261e+00],\n",
       "       [ 6.93084761e+00,  3.43682594e-01],\n",
       "       [ 1.25185786e+00,  2.08113882e-01],\n",
       "       [ 1.02027603e+01, -1.74894503e+00],\n",
       "       [ 5.36765522e+00, -8.39007718e-01],\n",
       "       [ 6.36331936e-01,  4.25441021e+00],\n",
       "       [ 7.01769098e+00, -3.35367647e+00],\n",
       "       [-1.65978459e+00,  2.62009138e+00],\n",
       "       [-3.74572448e-01,  3.99750085e+00],\n",
       "       [ 7.39360111e-01,  4.36079055e-01],\n",
       "       [ 7.15363764e+00, -3.04520423e-01],\n",
       "       [ 2.35350570e+00,  2.22404956e+00],\n",
       "       [ 6.03380096e+00,  5.27294854e-01],\n",
       "       [ 1.00399184e+01, -1.97487681e+00],\n",
       "       [-1.87634333e+00,  7.35443290e+00],\n",
       "       [-1.10064528e+00,  3.59479030e+00],\n",
       "       [ 9.06635153e+00, -1.45099071e+00],\n",
       "       [ 5.36563657e+00, -1.62354289e+00],\n",
       "       [ 6.70346425e+00,  8.54770301e-01],\n",
       "       [-1.54392443e+00,  3.29703400e+00],\n",
       "       [ 9.55369692e+00, -3.32429323e+00],\n",
       "       [ 1.02202860e+00,  4.11660348e+00],\n",
       "       [-2.34026827e+00,  1.45145793e+00],\n",
       "       [ 7.32404937e-01,  2.87562511e+00],\n",
       "       [ 1.01148865e+01, -2.58062820e+00],\n",
       "       [-1.93226667e+00,  9.49501081e+00],\n",
       "       [ 3.24329731e+00,  1.21460627e+00],\n",
       "       [-7.30000112e-01,  6.25456272e+00],\n",
       "       [ 7.82672051e+00, -1.53087167e+00],\n",
       "       [-8.35365262e-01,  3.61263140e+00],\n",
       "       [-3.27894024e+00,  9.89995288e+00],\n",
       "       [ 2.47034915e+00,  4.09862906e+00],\n",
       "       [-1.40592279e+00,  1.00921835e+01],\n",
       "       [-2.25250139e+00,  1.53451831e+00],\n",
       "       [ 9.97171236e+00, -2.32739873e+00],\n",
       "       [-1.56618683e+00,  1.74978876e+00],\n",
       "       [ 1.28933778e+00,  3.44969159e+00],\n",
       "       [ 5.05187161e+00,  4.67509096e-01],\n",
       "       [-1.63313558e+00,  7.92981160e+00],\n",
       "       [ 4.66617897e-01,  3.86571303e+00],\n",
       "       [ 1.78726415e+00,  1.70012006e+00],\n",
       "       [-9.44825430e-02,  5.35823905e+00],\n",
       "       [-2.26646701e+00,  4.46089686e+00],\n",
       "       [-2.81976092e+00,  3.18493313e+00],\n",
       "       [ 3.24602470e+00,  2.84942165e+00],\n",
       "       [ 7.84782523e-01,  1.86706037e+00],\n",
       "       [-4.27244417e-01,  3.57314599e+00],\n",
       "       [ 6.21723319e+00,  5.43656115e-01],\n",
       "       [ 1.63123797e-01,  2.57750473e+00],\n",
       "       [ 5.39531124e+00,  7.59236824e-01],\n",
       "       [ 5.48705011e+00, -3.37008180e-03],\n",
       "       [-3.24194687e-02,  8.47897236e-01],\n",
       "       [-2.58251425e+00,  6.48874251e+00],\n",
       "       [ 5.78879680e+00,  7.98406051e-01],\n",
       "       [-1.55123014e+00,  2.17985135e+00],\n",
       "       [ 4.20186624e+00, -9.89869329e-01],\n",
       "       [ 6.28357929e-01,  4.46013630e+00],\n",
       "       [ 5.33168406e+00,  2.99035207e+00],\n",
       "       [-2.68308645e+00,  3.69908036e+00],\n",
       "       [ 7.50471676e+00, -1.97568783e+00]])"
      ]
     },
     "execution_count": 13,
     "metadata": {},
     "output_type": "execute_result"
    }
   ],
   "source": [
    "ctx.generate_dataset = generate_dataset  # Python function \"generate_dataset\" => Seamless transformer ctx.generate_dataset\n",
    "ctx.generate_dataset.delay = 0\n",
    "ctx.generate_dataset.n_clusters = 6\n",
    "ctx.generate_dataset.n_samples = 250\n",
    "ctx.generate_dataset.random_state = 0\n",
    "\n",
    "ctx.generated_dataset = ctx.generate_dataset.result\n",
    "ctx.dataset = ctx.generated_dataset[0]\n",
    "ctx.dataset.celltype = \"binary\"    # \"binary\" means \"Numpy array\"\n",
    "ctx.dataset_classes = ctx.generated_dataset[1]\n",
    "ctx.dataset_classes.celltype = \"binary\"\n",
    "\n",
    "await ctx.computation()\n",
    "print(ctx.generate_dataset.status, \"Exception: \", ctx.generate_dataset.exception)\n",
    "print(\"Result:\")\n",
    "ctx.dataset.value"
   ]
  },
  {
   "cell_type": "markdown",
   "id": "d529ffeb-1fcf-4526-a135-57dd1b672171",
   "metadata": {
    "tags": []
   },
   "source": [
    "### **2. Plot without clustering**"
   ]
  },
  {
   "cell_type": "code",
   "execution_count": 14,
   "id": "efa4a9a6-181c-4ac8-af73-0f67cbdf20e6",
   "metadata": {
    "tags": []
   },
   "outputs": [
    {
     "name": "stdout",
     "output_type": "stream",
     "text": [
      "Status: OK Exception: None\n"
     ]
    }
   ],
   "source": [
    "ctx.plot_dataset = plot_dataset   # Python function \"plot_dataset\" => Seamless transformer ctx.plot_dataset\n",
    "ctx.plot_dataset.dataset = ctx.dataset\n",
    "ctx.plot_dataset.colors = ctx.dataset_classes\n",
    "ctx.plot = ctx.plot_dataset.result\n",
    "ctx.plot.celltype = \"bytes\"\n",
    "ctx.plot.mimetype = \"png\"\n",
    "await ctx.computation()\n",
    "print(ctx.plot.status, \"Exception:\", ctx.plot_dataset.exception)"
   ]
  },
  {
   "cell_type": "code",
   "execution_count": 15,
   "id": "22ec238f-8b5c-4a03-8485-a2cc43015dd7",
   "metadata": {},
   "outputs": [
    {
     "data": {
      "image/png": "[encoded data removed]",
      "text/plain": [
       "<IPython.core.display.Image object>"
      ]
     },
     "execution_count": 15,
     "metadata": {},
     "output_type": "execute_result"
    }
   ],
   "source": [
    "Image(ctx.plot.value)"
   ]
  },
  {
   "cell_type": "markdown",
   "id": "e0147e3d-97ef-4652-9314-42d14ffd21c6",
   "metadata": {},
   "source": [
    "### Add some cells that control the workflow parameters\n"
   ]
  },
  {
   "cell_type": "code",
   "execution_count": 16,
   "id": "86503773-9994-48fc-b259-7cb3a0446ec2",
   "metadata": {},
   "outputs": [],
   "source": [
    "ctx.delay = Cell(\"float\").set(0)\n",
    "ctx.random_state = Cell(\"int\").set(0)\n",
    "ctx.generate_dataset.delay = ctx.delay\n",
    "ctx.generate_dataset.random_state = ctx.random_state\n",
    "\n",
    "await ctx.computation()"
   ]
  },
  {
   "cell_type": "markdown",
   "id": "9f652b6d-120a-4958-801f-0ef25ede7041",
   "metadata": {},
   "source": [
    "### Generate a little Jupyter dashboard to control the workflow\n",
    "\n",
    "#### Changing the random state will change the graph\n",
    "\n",
    "#### Increasing the \"delay\" slider will slow down execution\n",
    "\n",
    "#### Once execution has finished, the plot will be updated"
   ]
  },
  {
   "cell_type": "code",
   "execution_count": 17,
   "id": "e6d97452-3d41-46c7-a52a-a722d4e99bff",
   "metadata": {
    "tags": []
   },
   "outputs": [
    {
     "data": {
      "application/vnd.jupyter.widget-view+json": {
       "model_id": "af226ac4271b40bda2124457b53d66b4",
       "version_major": 2,
       "version_minor": 0
      },
      "text/plain": [
       "IntSlider(value=0, description='Rand state')"
      ]
     },
     "metadata": {},
     "output_type": "display_data"
    },
    {
     "data": {
      "application/vnd.jupyter.widget-view+json": {
       "model_id": "e47f1664a9ce4641bf113ffd7006cbf9",
       "version_major": 2,
       "version_minor": 0
      },
      "text/plain": [
       "FloatSlider(value=0.0, description='Delay', max=10.0)"
      ]
     },
     "metadata": {},
     "output_type": "display_data"
    },
    {
     "name": "stdout",
     "output_type": "stream",
     "text": [
      "Plot\n"
     ]
    },
    {
     "data": {
      "application/vnd.jupyter.widget-view+json": {
       "model_id": "576af4c9678f4be7a623ebde19a0908d",
       "version_major": 2,
       "version_minor": 0
      },
      "text/plain": [
       "Output(outputs=({'output_type': 'display_data', 'data': {'image/png': 'iVBORw0KGgoAAAANSUhEUgAAAbAAAAEgCAYAAAD…"
      ]
     },
     "metadata": {},
     "output_type": "display_data"
    }
   ],
   "source": [
    "from ipywidgets import IntSlider, FloatSlider\n",
    "\n",
    "widget_random_state = IntSlider(min=0,max=100, description=\"Rand state\")\n",
    "widget_delay = FloatSlider(min=0,max=10, description=\"Delay\")\n",
    "ctx.random_state.traitlet().link(widget_random_state)\n",
    "ctx.delay.traitlet().link(widget_delay)\n",
    "\n",
    "display(widget_random_state)\n",
    "display(widget_delay)\n",
    "print(\"Plot\")\n",
    "display(ctx.plot.output())"
   ]
  },
  {
   "cell_type": "markdown",
   "id": "9663172d-9617-414d-b0dd-67fa5ef66893",
   "metadata": {},
   "source": [
    "#### The cells can still be changed programmatically. \n",
    "#### This will update the slider above, and re-build the plot"
   ]
  },
  {
   "cell_type": "code",
   "execution_count": 18,
   "id": "493b57c3-6570-4f90-978b-4b2f7f05e8d9",
   "metadata": {},
   "outputs": [],
   "source": [
    "ctx.random_state = 6"
   ]
  },
  {
   "cell_type": "markdown",
   "id": "16abb7a9-a6b2-4667-9707-785c44cec16a",
   "metadata": {
    "tags": []
   },
   "source": [
    "### **3. Plot with clustering**"
   ]
  },
  {
   "cell_type": "code",
   "execution_count": 19,
   "id": "8a81dfc6-92fa-4074-a865-9c266de630f6",
   "metadata": {
    "tags": []
   },
   "outputs": [],
   "source": [
    "ctx.k = Cell(\"int\").set(3)\n",
    "ctx.get_clustering = get_clustering  # Python function \"get_clustering\" => Seamless transformer ctx.get_clustering\n",
    "ctx.get_clustering.dataset = ctx.dataset\n",
    "ctx.get_clustering.k = ctx.k\n",
    "ctx.clustering = ctx.get_clustering.result\n",
    "ctx.clustering.celltype = \"binary\"\n",
    "ctx.plot_dataset.colors = ctx.clustering\n",
    "await ctx.computation()"
   ]
  },
  {
   "cell_type": "markdown",
   "id": "d1df90ca-8d39-4df1-aa0b-aa9f93ab9d5b",
   "metadata": {},
   "source": [
    "### Generate a new Jupyter dashboard to control the updated workflow"
   ]
  },
  {
   "cell_type": "code",
   "execution_count": 20,
   "id": "05573b73-83a3-4a4b-b8c5-e4af380508e4",
   "metadata": {},
   "outputs": [
    {
     "data": {
      "application/vnd.jupyter.widget-view+json": {
       "model_id": "cb5d7b27c0c24c5184586f09d8be6081",
       "version_major": 2,
       "version_minor": 0
      },
      "text/plain": [
       "IntSlider(value=6, description='Rand state')"
      ]
     },
     "metadata": {},
     "output_type": "display_data"
    },
    {
     "data": {
      "application/vnd.jupyter.widget-view+json": {
       "model_id": "ce7794b35c044812b285e4b8efae0992",
       "version_major": 2,
       "version_minor": 0
      },
      "text/plain": [
       "FloatSlider(value=0.0, description='Delay', max=10.0)"
      ]
     },
     "metadata": {},
     "output_type": "display_data"
    },
    {
     "data": {
      "application/vnd.jupyter.widget-view+json": {
       "model_id": "9fbda7e40b754bb68ecac006f0e11b5c",
       "version_major": 2,
       "version_minor": 0
      },
      "text/plain": [
       "IntSlider(value=3, description='K Clusters', max=20, min=1)"
      ]
     },
     "metadata": {},
     "output_type": "display_data"
    },
    {
     "name": "stdout",
     "output_type": "stream",
     "text": [
      "Plot\n"
     ]
    },
    {
     "data": {
      "application/vnd.jupyter.widget-view+json": {
       "model_id": "32eb135226134632805bdef3dfe01d78",
       "version_major": 2,
       "version_minor": 0
      },
      "text/plain": [
       "Output(outputs=({'output_type': 'display_data', 'data': {'image/png': 'iVBORw0KGgoAAAANSUhEUgAAAbAAAAEgCAYAAAD…"
      ]
     },
     "metadata": {},
     "output_type": "display_data"
    }
   ],
   "source": [
    "widget_random_state = IntSlider(min=0,max=100, description=\"Rand state\")\n",
    "widget_delay = FloatSlider(min=0,max=10, description=\"Delay\")\n",
    "widget_k = IntSlider(min=1,max=20, description=\"K Clusters\")\n",
    "ctx.random_state.traitlet().link(widget_random_state)\n",
    "ctx.delay.traitlet().link(widget_delay)\n",
    "ctx.k.traitlet().link(widget_k)\n",
    "\n",
    "display(widget_random_state)\n",
    "display(widget_delay)\n",
    "display(widget_k)\n",
    "print(\"Plot\")\n",
    "display(ctx.plot.output())"
   ]
  },
  {
   "cell_type": "markdown",
   "id": "1e06b6fc-b0c0-411e-a186-e839dee0c9a9",
   "metadata": {},
   "source": [
    "# Building a web server\n",
    "### Now we will share the plot directly over the web"
   ]
  },
  {
   "cell_type": "code",
   "execution_count": 21,
   "id": "caae79a6-7d6a-4c43-a19d-16e6488156da",
   "metadata": {},
   "outputs": [],
   "source": [
    "ctx.plot.share()\n",
    "await ctx.translation()"
   ]
  },
  {
   "cell_type": "markdown",
   "id": "28834e9f-37c7-4088-bb65-468fe67eb9b9",
   "metadata": {
    "tags": []
   },
   "source": [
    "### The following link will display the plot (new tab)\n",
    "### http://localhost:5813/ctx/plot"
   ]
  },
  {
   "cell_type": "markdown",
   "id": "cb76c4f8-a014-4c12-bcf7-120dd96ef3d8",
   "metadata": {
    "tags": []
   },
   "source": [
    "### We can do the same for the input parameters. \n",
    "#### In fact, the URL is the same, ending with **/ctx/random_state** and **/ctx/delay** instead of **/ctx/plot**"
   ]
  },
  {
   "cell_type": "code",
   "execution_count": 22,
   "id": "d249b5a4-6c4b-4e00-81a5-c8280949d063",
   "metadata": {},
   "outputs": [],
   "source": [
    "ctx.random_state.share(readonly=False)  # readonly=False, so we can modify it via the web page\n",
    "ctx.delay.share(readonly=False)\n",
    "ctx.k.share(readonly=False)\n",
    "await ctx.computation()"
   ]
  },
  {
   "cell_type": "markdown",
   "id": "c3c295b1",
   "metadata": {
    "tags": []
   },
   "source": [
    "### The following link will display the input parameters (new tab)\n",
    "### http://localhost:5813/ctx/random_state\n",
    "### http://localhost:5813/ctx/delay\n",
    "### http://localhost:5813/ctx/k"
   ]
  },
  {
   "cell_type": "markdown",
   "id": "4d799d0d-7ec1-4565-87b5-c38f0e271021",
   "metadata": {
    "tags": []
   },
   "source": [
    "## Auto-generated web interface\n",
    "### Seamless projects embed a generator for a web interface. Shared cells are added automatically.\n",
    "### It also maintains a status web page that visualizes the workflow graph, and its execution status\n",
    "### The following link will display the web form (new tab)\n",
    "### http://localhost:5813/\n",
    "### The following link will display the status page (new tab)\n",
    "### http://localhost:5813/status/status.html"
   ]
  },
  {
   "cell_type": "markdown",
   "id": "76e21049-5ae2-471c-8fca-5b71732dc8fa",
   "metadata": {},
   "source": [
    "\n",
    "#### The cell values are in sync with the Jupyter dashboard above. \n",
    "\n",
    "#### The web interface is also collaborative. When multiple users connect, their updates are synchronized as well."
   ]
  },
  {
   "cell_type": "markdown",
   "id": "5dd2d6ce-b499-4575-a94d-aa94e8c6860e",
   "metadata": {},
   "source": [
    "## Customizing the web interface\n",
    "### Edit the files in the /web directory to customize the web interface.\n",
    "### The web page can be customized at different levels. The web page is updated immediately upon browser refresh.\n",
    "- **Customizing webform.json**\n",
    "\n",
    "  For example, you can copy `webform-CUSTOM.json` to `web/webform.json`. This will show the output plot in the webform.\n",
    "\n",
    "- **Modifying the generated index.html and index.js by hand**\n",
    "\n",
    "- **Modifying the webform.json components in /web/components**\n",
    "\n",
    "### Modifications can lead to merge conflicts, that must be resolved in the -CONFLICT files"
   ]
  },
  {
   "cell_type": "code",
   "execution_count": 24,
   "id": "2b22830a-a31c-48f9-81c3-2c1ee55c6d42",
   "metadata": {},
   "outputs": [],
   "source": [
    "#!cp webform-CUSTOM.json web/webform.json"
   ]
  },
  {
   "cell_type": "code",
   "execution_count": null,
   "id": "6079b788",
   "metadata": {},
   "outputs": [],
   "source": []
  }
 ],
 "metadata": {
  "kernelspec": {
   "display_name": "Python 3",
   "language": "python",
   "name": "python3"
  },
  "language_info": {
   "codemirror_mode": {
    "name": "ipython",
    "version": 3
   },
   "file_extension": ".py",
   "mimetype": "text/x-python",
   "name": "python",
   "nbconvert_exporter": "python",
   "pygments_lexer": "ipython3",
   "version": "3.8.10"
  }
 },
 "nbformat": 4,
 "nbformat_minor": 5
}
