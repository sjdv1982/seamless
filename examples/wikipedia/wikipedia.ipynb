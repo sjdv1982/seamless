{
 "cells": [
  {
   "cell_type": "markdown",
   "id": "a0a5ac16-db73-4e92-af27-200e13c03233",
   "metadata": {},
   "source": [
    "A scientific paper may try to define a computation in words: \"We downloaded all abstracts from Wikipedia, and counted the vowels, giving a result of YYY\".\n",
    "\n",
    "With Seamless, you can define a computation precisely: \"all abstracts from Wikipedia = c953f648215413c5c7a3ae179a57d74e5ca495290a8e5a06a474baa158178d15, counted the vowels =  computation XXXX\". The computation can then be executed, shared, and re-run.\n",
    "\n",
    "## 1. Definition\n",
    "\n",
    "To define a computation, first download its input. \n",
    "\n",
    "In a terminal, run:\n",
    "```bash\n",
    "$ wget https://dumps.wikimedia.org/enwiki/latest/enwiki-latest-abstract.xml.gz \n",
    "$ gunzip enwiki-latest-abstract.xml.gz\n",
    "$ conda activate seamless\n",
    "$ seamless-checksum enwiki-latest-abstract.xml\n",
    "\n",
    "c953f648215413c5c7a3ae179a57d74e5ca495290a8e5a06a474baa158178d15\n",
    "```\n",
    "\n",
    "*The checksum above is from September 2024. To reproduce this in the future, download `https://dumps.wikimedia.org/enwiki/20240901/enwiki-20240901-abstract.xml.gz` instead*\n",
    "\n",
    "We can then upload it into a Seamless buffer directory:\n",
    "\n",
    "```bash\n",
    "$ buffer_dir=./buffers\n",
    "$ seamless-upload --dest $buffer_dir enwiki-latest-abstract.xml\n",
    "```\n",
    "After that, there will be a file `./buffers/c953f648215413c5c7a3ae179a57d74e5ca495290a8e5a06a474baa158178d15`\n",
    "\n",
    "The rest of the computation is defined inside the Notebook:"
   ]
  },
  {
   "cell_type": "raw",
   "id": "c300e6f8-ba3d-441e-aa2f-75f68c25a496",
   "metadata": {
    "vscode": {
     "languageId": "raw"
    }
   },
   "source": [
    "export SEAMLESS_DATABASE_DIRECTORY=.\n",
    "export SEAMLESS_READ_BUFFER_FOLDERS=buffers\n",
    "export SEAMLESS_HASHSERVER_DIRECTORY=buffers\n",
    "seamless-delegate none\n",
    "time seamless --local -mx python3 count-vowels.py enwiki-latest-abstract.xml\n",
    "# About 200s when uploaded (155 sec raw execution time),  4m10 if not\n",
    "# repeat: 22 seconds\n",
    "# after deleting .xml: 1 sec!\n",
    "\n",
    "# checksum: d5ac3901a52b99863a8dd46ef0b8346be4895a00832e78c9c1afac476040a4ba\n",
    "# result checksum: 5cc3eb990f522e2a161da11590dc44168a0a3104d73c7746ce2fe32c7c3b8f2c\n",
    "\n",
    "# after the two transformations (also direct form below):\n",
    "# buffers/: 88K, seamless.db: 116K \n",
    "\n",
    "# checksumming: \"seamless-checksum enwiki-latest-abstract.xml\" takes 21 secs\n",
    "# uploading: \"seamless-upload --dest buffers/ --hardlink enwiki-latest-abstract.xml\" is most efficient"
   ]
  },
  {
   "cell_type": "code",
   "execution_count": 2,
   "id": "b304d307-2815-4f3d-afd5-35e0425565ee",
   "metadata": {},
   "outputs": [],
   "source": [
    "import seamless\n",
    "seamless.delegate(level=2)\n",
    "seamless.config.add_buffer_folder(\"buffers\")"
   ]
  },
  {
   "cell_type": "code",
   "execution_count": 3,
   "id": "dfa4378c-2571-4213-9087-ef86942ec98d",
   "metadata": {},
   "outputs": [
    {
     "ename": "OSError",
     "evalue": "could not get source code",
     "output_type": "error",
     "traceback": [
      "\u001b[0;31m---------------------------------------------------------------------------\u001b[0m",
      "\u001b[0;31mOSError\u001b[0m                                   Traceback (most recent call last)",
      "File \u001b[0;32m<timed exec>:8\u001b[0m\n",
      "File \u001b[0;32m~/seamless/seamless/direct/transformer.py:43\u001b[0m, in \u001b[0;36mtransformer\u001b[0;34m(func, scratch, direct_print, local, return_transformation, in_process)\u001b[0m\n\u001b[1;32m     34\u001b[0m \u001b[38;5;28;01mif\u001b[39;00m func \u001b[38;5;129;01mis\u001b[39;00m \u001b[38;5;28;01mNone\u001b[39;00m:\n\u001b[1;32m     35\u001b[0m     \u001b[38;5;28;01mreturn\u001b[39;00m partial(\n\u001b[1;32m     36\u001b[0m         transformer,\n\u001b[1;32m     37\u001b[0m         scratch\u001b[38;5;241m=\u001b[39mscratch,\n\u001b[0;32m   (...)\u001b[0m\n\u001b[1;32m     41\u001b[0m         in_process\u001b[38;5;241m=\u001b[39min_process,\n\u001b[1;32m     42\u001b[0m     )\n\u001b[0;32m---> 43\u001b[0m result \u001b[38;5;241m=\u001b[39m \u001b[43mDirectTransformer\u001b[49m\u001b[43m(\u001b[49m\n\u001b[1;32m     44\u001b[0m \u001b[43m    \u001b[49m\u001b[43mfunc\u001b[49m\u001b[43m,\u001b[49m\n\u001b[1;32m     45\u001b[0m \u001b[43m    \u001b[49m\u001b[43mscratch\u001b[49m\u001b[38;5;241;43m=\u001b[39;49m\u001b[43mscratch\u001b[49m\u001b[43m,\u001b[49m\n\u001b[1;32m     46\u001b[0m \u001b[43m    \u001b[49m\u001b[43mdirect_print\u001b[49m\u001b[38;5;241;43m=\u001b[39;49m\u001b[43mdirect_print\u001b[49m\u001b[43m,\u001b[49m\n\u001b[1;32m     47\u001b[0m \u001b[43m    \u001b[49m\u001b[43mlocal\u001b[49m\u001b[38;5;241;43m=\u001b[39;49m\u001b[43mlocal\u001b[49m\u001b[43m,\u001b[49m\n\u001b[1;32m     48\u001b[0m \u001b[43m    \u001b[49m\u001b[43mreturn_transformation\u001b[49m\u001b[38;5;241;43m=\u001b[39;49m\u001b[43mreturn_transformation\u001b[49m\u001b[43m,\u001b[49m\n\u001b[1;32m     49\u001b[0m \u001b[43m    \u001b[49m\u001b[43min_process\u001b[49m\u001b[38;5;241;43m=\u001b[39;49m\u001b[43min_process\u001b[49m\u001b[43m,\u001b[49m\n\u001b[1;32m     50\u001b[0m \u001b[43m\u001b[49m\u001b[43m)\u001b[49m\n\u001b[1;32m     51\u001b[0m update_wrapper(result, func)\n\u001b[1;32m     52\u001b[0m \u001b[38;5;28;01mreturn\u001b[39;00m result\n",
      "File \u001b[0;32m~/seamless/seamless/direct/transformer.py:113\u001b[0m, in \u001b[0;36mDirectTransformer.__init__\u001b[0;34m(self, func, scratch, direct_print, local, return_transformation, in_process)\u001b[0m\n\u001b[1;32m    108\u001b[0m \u001b[38;5;28;01mfrom\u001b[39;00m \u001b[38;5;21;01mseamless\u001b[39;00m\u001b[38;5;21;01m.\u001b[39;00m\u001b[38;5;21;01mutil\u001b[39;00m\u001b[38;5;21;01m.\u001b[39;00m\u001b[38;5;21;01msource\u001b[39;00m \u001b[38;5;28;01mimport\u001b[39;00m getsource\n\u001b[1;32m    109\u001b[0m \u001b[38;5;28;01mfrom\u001b[39;00m \u001b[38;5;21;01mseamless\u001b[39;00m\u001b[38;5;21;01m.\u001b[39;00m\u001b[38;5;21;01mchecksum\u001b[39;00m\u001b[38;5;21;01m.\u001b[39;00m\u001b[38;5;21;01mserialize\u001b[39;00m \u001b[38;5;28;01mimport\u001b[39;00m (\n\u001b[1;32m    110\u001b[0m     serialize_sync \u001b[38;5;28;01mas\u001b[39;00m serialize,\n\u001b[1;32m    111\u001b[0m )\n\u001b[0;32m--> 113\u001b[0m code \u001b[38;5;241m=\u001b[39m \u001b[43mgetsource\u001b[49m\u001b[43m(\u001b[49m\u001b[43mfunc\u001b[49m\u001b[43m)\u001b[49m\n\u001b[1;32m    114\u001b[0m codebuf \u001b[38;5;241m=\u001b[39m serialize(code, \u001b[38;5;124m\"\u001b[39m\u001b[38;5;124mpython\u001b[39m\u001b[38;5;124m\"\u001b[39m)\n\u001b[1;32m    116\u001b[0m signature \u001b[38;5;241m=\u001b[39m inspect\u001b[38;5;241m.\u001b[39msignature(func)\n",
      "File \u001b[0;32m~/seamless/seamless/util/source.py:105\u001b[0m, in \u001b[0;36mgetsource\u001b[0;34m(func)\u001b[0m\n\u001b[1;32m    103\u001b[0m     \u001b[38;5;28;01mreturn\u001b[39;00m code\n\u001b[1;32m    104\u001b[0m \u001b[38;5;28;01melse\u001b[39;00m:\n\u001b[0;32m--> 105\u001b[0m     code \u001b[38;5;241m=\u001b[39m \u001b[43minspect\u001b[49m\u001b[38;5;241;43m.\u001b[39;49m\u001b[43mgetsource\u001b[49m\u001b[43m(\u001b[49m\u001b[43mfunc\u001b[49m\u001b[43m)\u001b[49m\n\u001b[1;32m    106\u001b[0m     code \u001b[38;5;241m=\u001b[39m textwrap\u001b[38;5;241m.\u001b[39mdedent(code)\n\u001b[1;32m    107\u001b[0m     code \u001b[38;5;241m=\u001b[39m strip_decorators(code)\n",
      "File \u001b[0;32m~/miniconda3/envs/seamless-development/lib/python3.10/inspect.py:1139\u001b[0m, in \u001b[0;36mgetsource\u001b[0;34m(object)\u001b[0m\n\u001b[1;32m   1133\u001b[0m \u001b[38;5;28;01mdef\u001b[39;00m \u001b[38;5;21mgetsource\u001b[39m(\u001b[38;5;28mobject\u001b[39m):\n\u001b[1;32m   1134\u001b[0m \u001b[38;5;250m    \u001b[39m\u001b[38;5;124;03m\"\"\"Return the text of the source code for an object.\u001b[39;00m\n\u001b[1;32m   1135\u001b[0m \n\u001b[1;32m   1136\u001b[0m \u001b[38;5;124;03m    The argument may be a module, class, method, function, traceback, frame,\u001b[39;00m\n\u001b[1;32m   1137\u001b[0m \u001b[38;5;124;03m    or code object.  The source code is returned as a single string.  An\u001b[39;00m\n\u001b[1;32m   1138\u001b[0m \u001b[38;5;124;03m    OSError is raised if the source code cannot be retrieved.\"\"\"\u001b[39;00m\n\u001b[0;32m-> 1139\u001b[0m     lines, lnum \u001b[38;5;241m=\u001b[39m \u001b[43mgetsourcelines\u001b[49m\u001b[43m(\u001b[49m\u001b[38;5;28;43mobject\u001b[39;49m\u001b[43m)\u001b[49m\n\u001b[1;32m   1140\u001b[0m     \u001b[38;5;28;01mreturn\u001b[39;00m \u001b[38;5;124m'\u001b[39m\u001b[38;5;124m'\u001b[39m\u001b[38;5;241m.\u001b[39mjoin(lines)\n",
      "File \u001b[0;32m~/miniconda3/envs/seamless-development/lib/python3.10/inspect.py:1121\u001b[0m, in \u001b[0;36mgetsourcelines\u001b[0;34m(object)\u001b[0m\n\u001b[1;32m   1113\u001b[0m \u001b[38;5;250m\u001b[39m\u001b[38;5;124;03m\"\"\"Return a list of source lines and starting line number for an object.\u001b[39;00m\n\u001b[1;32m   1114\u001b[0m \n\u001b[1;32m   1115\u001b[0m \u001b[38;5;124;03mThe argument may be a module, class, method, function, traceback, frame,\u001b[39;00m\n\u001b[0;32m   (...)\u001b[0m\n\u001b[1;32m   1118\u001b[0m \u001b[38;5;124;03moriginal source file the first line of code was found.  An OSError is\u001b[39;00m\n\u001b[1;32m   1119\u001b[0m \u001b[38;5;124;03mraised if the source code cannot be retrieved.\"\"\"\u001b[39;00m\n\u001b[1;32m   1120\u001b[0m \u001b[38;5;28mobject\u001b[39m \u001b[38;5;241m=\u001b[39m unwrap(\u001b[38;5;28mobject\u001b[39m)\n\u001b[0;32m-> 1121\u001b[0m lines, lnum \u001b[38;5;241m=\u001b[39m \u001b[43mfindsource\u001b[49m\u001b[43m(\u001b[49m\u001b[38;5;28;43mobject\u001b[39;49m\u001b[43m)\u001b[49m\n\u001b[1;32m   1123\u001b[0m \u001b[38;5;28;01mif\u001b[39;00m istraceback(\u001b[38;5;28mobject\u001b[39m):\n\u001b[1;32m   1124\u001b[0m     \u001b[38;5;28mobject\u001b[39m \u001b[38;5;241m=\u001b[39m \u001b[38;5;28mobject\u001b[39m\u001b[38;5;241m.\u001b[39mtb_frame\n",
      "File \u001b[0;32m~/miniconda3/envs/seamless-development/lib/python3.10/inspect.py:958\u001b[0m, in \u001b[0;36mfindsource\u001b[0;34m(object)\u001b[0m\n\u001b[1;32m    956\u001b[0m     lines \u001b[38;5;241m=\u001b[39m linecache\u001b[38;5;241m.\u001b[39mgetlines(file)\n\u001b[1;32m    957\u001b[0m \u001b[38;5;28;01mif\u001b[39;00m \u001b[38;5;129;01mnot\u001b[39;00m lines:\n\u001b[0;32m--> 958\u001b[0m     \u001b[38;5;28;01mraise\u001b[39;00m \u001b[38;5;167;01mOSError\u001b[39;00m(\u001b[38;5;124m'\u001b[39m\u001b[38;5;124mcould not get source code\u001b[39m\u001b[38;5;124m'\u001b[39m)\n\u001b[1;32m    960\u001b[0m \u001b[38;5;28;01mif\u001b[39;00m ismodule(\u001b[38;5;28mobject\u001b[39m):\n\u001b[1;32m    961\u001b[0m     \u001b[38;5;28;01mreturn\u001b[39;00m lines, \u001b[38;5;241m0\u001b[39m\n",
      "\u001b[0;31mOSError\u001b[0m: could not get source code"
     ]
    }
   ],
   "source": [
    "%%time\n",
    "from seamless import Checksum, transformer\n",
    "\n",
    "abstracts = Checksum.load(\"enwiki-latest-abstract.xml\")\n",
    "#abstracts = Checksum(\"c953f648215413c5c7a3ae179a57d74e5ca495290a8e5a06a474baa158178d15\")\n",
    "#abstracts = Checksum(\"da0774f46efed72c7c20ba0133716bc0d7f7e3ae7c7531f0da7fc60deefbb07a\")\n",
    "\n",
    "@transformer(return_transformation=True)\n",
    "def count_vowels(abstracts):    \n",
    "    import re\n",
    "    import xml.etree.ElementTree as ET\n",
    "    from io import BytesIO\n",
    "    \n",
    "    abstracts_reader = BytesIO(abstracts)\n",
    "    \n",
    "    vowels = re.compile(\"[aeiou]\")\n",
    "    count = 0\n",
    "    for event, elem in ET.iterparse(abstracts_reader, events=[\"end\"]):\n",
    "        try:\n",
    "            if elem.tag != \"abstract\":\n",
    "                continue\n",
    "            text = elem.text\n",
    "            if text is None:\n",
    "                continue\n",
    "            if text.startswith(\"|\"):\n",
    "                continue\n",
    "            count += len(re.findall(vowels, text))\n",
    "        finally:\n",
    "            elem.clear()\n",
    "    \n",
    "    return count\n",
    "   \n",
    "count_vowels.celltypes.abstracts = \"bytes\"\n",
    "\n",
    "transformation = count_vowels(abstracts)\n",
    "print(transformation.as_checksum())\n",
    "transformation.compute()\n",
    "print(transformation.exception)\n",
    "print(transformation.logs)\n",
    "print(transformation.value)\n"
   ]
  },
  {
   "cell_type": "code",
   "execution_count": 3,
   "id": "757084bd-8a4e-43ce-a81b-49d8a5d8b0c3",
   "metadata": {},
   "outputs": [
    {
     "data": {
      "text/plain": [
       "<seamless.direct.Transformation.Transformation at 0x76fb50115270>"
      ]
     },
     "execution_count": 3,
     "metadata": {},
     "output_type": "execute_result"
    }
   ],
   "source": [
    "\n",
    "transformation.compute()"
   ]
  },
  {
   "cell_type": "code",
   "execution_count": 4,
   "id": "bef82703-3761-43a4-9ab2-3d50c253cdae",
   "metadata": {},
   "outputs": [
    {
     "name": "stdout",
     "output_type": "stream",
     "text": [
      "*************************************************\n",
      "* Result\n",
      "*************************************************\n",
      "<checksum 5cc3eb990f522e2a161da11590dc44168a0a3104d73c7746ce2fe32c7c3b8f2c>\n",
      "*************************************************\n",
      "Execution time: 126.5 seconds\n",
      "*************************************************\n",
      "149134431\n"
     ]
    }
   ],
   "source": [
    "#print(transformation.exception)\n",
    "print(transformation.logs)\n",
    "print(transformation.value)\n"
   ]
  },
  {
   "cell_type": "markdown",
   "id": "0eb8aef5-e8a0-435b-bd55-bbf2eb81d993",
   "metadata": {},
   "source": [
    "This computation is called a \"transformation\" in Seamless. Its checksum is...\n",
    "\n",
    "(run-transformation, hand off to an engineer / compute cluster , doesn't have to be Python, can be C/C++, ...)"
   ]
  },
  {
   "cell_type": "code",
   "execution_count": 26,
   "id": "52bc07bf-0080-4e41-8c05-a711f1fa9bcd",
   "metadata": {},
   "outputs": [
    {
     "data": {
      "text/plain": [
       "b'{\\n  \"__language__\": \"python\",\\n  \"__output__\": [\\n    \"result\",\\n    \"mixed\",\\n    null\\n  ],\\n  \"abstracts\": [\\n    \"bytes\",\\n    null,\\n    \"c953f648215413c5c7a3ae179a57d74e5ca495290a8e5a06a474baa158178d15\"\\n  ],\\n  \"code\": [\\n    \"python\",\\n    \"transformer\",\\n    \"f1bc5c1c26b2b077b905c5edcf71f5b1335ec058a43577f63fe613605e5bd72c\"\\n  ]\\n}\\n'"
      ]
     },
     "execution_count": 26,
     "metadata": {},
     "output_type": "execute_result"
    }
   ],
   "source": [
    "transformation.as_checksum().resolve()"
   ]
  },
  {
   "cell_type": "markdown",
   "id": "a95afdc8-1bd7-4eb0-a93a-891ac1ddbede",
   "metadata": {},
   "source": [
    "In bash:\n",
    "```bash\n",
    "$ conda activate seamless\n",
    "$ export SEAMLESS_HASHSERVER_DIRECTORY=buffers\n",
    "$ seamless-delegate none\n",
    "```"
   ]
  },
  {
   "cell_type": "code",
   "execution_count": 27,
   "id": "c00cef64-210b-4614-9ef2-65e5691b7093",
   "metadata": {},
   "outputs": [],
   "source": [
    "import seamless\n",
    "seamless.delegate(level=2)\n",
    "seamless.config.add_buffer_folder(\"buffers\")"
   ]
  },
  {
   "cell_type": "code",
   "execution_count": 28,
   "id": "42ba4278-f09d-452d-be45-574f45acba80",
   "metadata": {},
   "outputs": [
    {
     "data": {
      "text/plain": [
       "'004c832d9a6c7e65302eb87b0d9b4f73fc0cb75fd22795fcb3ed43a7bf0c54b2'"
      ]
     },
     "execution_count": 28,
     "metadata": {},
     "output_type": "execute_result"
    }
   ],
   "source": [
    "transformation = count_vowels(abstracts)\n",
    "transformation.as_checksum()"
   ]
  },
  {
   "cell_type": "code",
   "execution_count": 29,
   "id": "8457a1b7-6afa-4ef7-99e8-b5296f9e240f",
   "metadata": {},
   "outputs": [
    {
     "data": {
      "text/plain": [
       "<seamless.direct.Transformation.Transformation at 0x7abd60c37520>"
      ]
     },
     "execution_count": 29,
     "metadata": {},
     "output_type": "execute_result"
    }
   ],
   "source": [
    "transformation.compute()"
   ]
  },
  {
   "cell_type": "code",
   "execution_count": 30,
   "id": "16e0e30c-2cdc-4024-8792-e800e7007bce",
   "metadata": {},
   "outputs": [
    {
     "name": "stdout",
     "output_type": "stream",
     "text": [
      "seamless.workflow.core.transformation.SeamlessTransformationError: Traceback (most recent call last):\n",
      "  File \"transformer\", line 19, in <module>\n",
      "    result = count_vowels(abstracts=abstracts)\n",
      "  File \"transformer\", line 6, in count_vowels\n",
      "    for event, elem in xml.etree.ElementTree.iterparse(abstracts):\n",
      "NameError: name 'xml' is not defined\n",
      "*************************************************\n",
      "Execution time: 0.0 seconds\n",
      "\n"
     ]
    }
   ],
   "source": [
    "print(transformation.exception)"
   ]
  },
  {
   "cell_type": "code",
   "execution_count": null,
   "id": "e316eeab-fa06-48ab-b014-960466913bb7",
   "metadata": {},
   "outputs": [],
   "source": [
    "buf = abstracts.resolve()"
   ]
  },
  {
   "cell_type": "code",
   "execution_count": null,
   "id": "5918fd51-5e1b-4ed0-8116-49f1899dc880",
   "metadata": {},
   "outputs": [],
   "source": [
    "print(buf[:1000])"
   ]
  },
  {
   "cell_type": "code",
   "execution_count": null,
   "id": "51d834aa-c2f9-4b70-a164-7aad5d705844",
   "metadata": {},
   "outputs": [],
   "source": [
    "transformation = count_vowels(abstracts)"
   ]
  },
  {
   "cell_type": "code",
   "execution_count": null,
   "id": "2163b72a-5535-418d-93b7-9d794e7860c8",
   "metadata": {},
   "outputs": [],
   "source": [
    "from seamless import Checksum, Buffer\n",
    "cs_wikipedia_abstract_part11 = Checksum(\"664e3ed93d65bc048f0aaef954a1d5145c67faa763a271aca37258fc144f9f20\")"
   ]
  },
  {
   "cell_type": "code",
   "execution_count": null,
   "id": "f0e47fe0-cd37-48e2-9bdf-fc88776d238f",
   "metadata": {},
   "outputs": [],
   "source": [
    "from seamless.util.fair import add_direct_urls\n",
    "add_direct_urls({\n",
    "    cs_wikipedia_abstract_part11: [\n",
    "        {\n",
    "            \"url\": \"https://dumps.wikimedia.org/enwiki/latest/enwiki-latest-abstract11.xml.gz\",\n",
    "            \"compression\": \"gz\"\n",
    "        },\n",
    "        {\n",
    "            \"url\": \"https://dumps.wikimedia.org/enwiki/20240901/enwiki-20240901-abstract11.xml.gz\",\n",
    "            \"compression\": \"gz\"\n",
    "        },\n",
    "    ]                              \n",
    "})"
   ]
  },
  {
   "cell_type": "code",
   "execution_count": null,
   "id": "ddebb6f1-e098-435c-bc93-9523ba318313",
   "metadata": {},
   "outputs": [],
   "source": [
    "%time buf = cs_wikipedia_abstract11.resolve()"
   ]
  },
  {
   "cell_type": "code",
   "execution_count": null,
   "id": "1b90357a-9056-4342-a4ce-3a22ee4c68a8",
   "metadata": {},
   "outputs": [],
   "source": [
    "cs_wikipedia_abstract = Checksum(\"c953f648215413c5c7a3ae179a57d74e5ca495290a8e5a06a474baa158178d15\")"
   ]
  },
  {
   "cell_type": "code",
   "execution_count": null,
   "id": "194d7eda-35d1-48e9-9a0f-8c0c27bcf068",
   "metadata": {},
   "outputs": [],
   "source": [
    "add_direct_urls({\n",
    "    cs_wikipedia_abstract: [\n",
    "        {\n",
    "            \"url\": \"https://dumps.wikimedia.org/enwiki/latest/enwiki-latest-abstract.xml.gz\",\n",
    "            \"compression\": \"gz\"\n",
    "        },\n",
    "        {\n",
    "            \"url\": \"https://dumps.wikimedia.org/enwiki/20240901/enwiki-20240901-abstract.xml.gz\",\n",
    "            \"compression\": \"gz\"\n",
    "        },\n",
    "    ]                              \n",
    "})"
   ]
  },
  {
   "cell_type": "code",
   "execution_count": null,
   "id": "ef233908-35f0-464f-8c9e-f69a3c11ae1e",
   "metadata": {},
   "outputs": [],
   "source": [
    "%time buf = cs_wikipedia_abstract.resolve()"
   ]
  },
  {
   "cell_type": "code",
   "execution_count": null,
   "id": "c24af113-ede9-4787-9c5f-bc6ce85c49f1",
   "metadata": {},
   "outputs": [],
   "source": [
    "xml = buf.decode()"
   ]
  },
  {
   "cell_type": "code",
   "execution_count": null,
   "id": "5cb9a902-b36b-4b16-a656-b81403d23088",
   "metadata": {},
   "outputs": [],
   "source": [
    "import xml.etree.ElementTree as ET"
   ]
  },
  {
   "cell_type": "code",
   "execution_count": null,
   "id": "53c1a735-5554-49cb-a9cb-06b7dee254ba",
   "metadata": {},
   "outputs": [],
   "source": [
    "root = ET.fromstring(xml)"
   ]
  },
  {
   "cell_type": "code",
   "execution_count": null,
   "id": "272be18f-ab51-4e06-b10b-26de5748550d",
   "metadata": {},
   "outputs": [],
   "source": [
    "cs_wikipedia_abstract"
   ]
  },
  {
   "cell_type": "code",
   "execution_count": null,
   "id": "aef91111-d1bf-4911-b7b9-ee9cbf6b8c6d",
   "metadata": {},
   "outputs": [],
   "source": [
    "abstracts = [tag.text for tag in root.findall(\".//doc/abstract\") if tag.text is not None]"
   ]
  },
  {
   "cell_type": "code",
   "execution_count": null,
   "id": "2a08ad76-b5ea-4670-b644-8caa11ec2667",
   "metadata": {},
   "outputs": [],
   "source": [
    "abstracts = [abstract for abstract in abstracts if not abstract.startswith(\"|\")]"
   ]
  },
  {
   "cell_type": "code",
   "execution_count": null,
   "id": "344b6e63-14b1-42d7-abdb-59d5f66e5c4b",
   "metadata": {},
   "outputs": [],
   "source": [
    "len(abstracts)"
   ]
  },
  {
   "cell_type": "code",
   "execution_count": null,
   "id": "b4a42a5a-07b2-4620-bf33-e86be70b4199",
   "metadata": {},
   "outputs": [],
   "source": [
    "abstracts[:100]"
   ]
  },
  {
   "cell_type": "code",
   "execution_count": null,
   "id": "62b335eb-ce7b-414f-86ac-cf1357efe539",
   "metadata": {},
   "outputs": [],
   "source": [
    "import re\n",
    "v=re.compile('[aeiou]')\n",
    "print(len(re.findall(v, \"bltkli\")))"
   ]
  },
  {
   "cell_type": "code",
   "execution_count": null,
   "id": "41e85f88-18d3-434c-a542-f2122e7d2e9e",
   "metadata": {},
   "outputs": [],
   "source": []
  }
 ],
 "metadata": {
  "kernelspec": {
   "display_name": "Python 3 (ipykernel)",
   "language": "python",
   "name": "python3"
  },
  "language_info": {
   "codemirror_mode": {
    "name": "ipython",
    "version": 3
   },
   "file_extension": ".py",
   "mimetype": "text/x-python",
   "name": "python",
   "nbconvert_exporter": "python",
   "pygments_lexer": "ipython3",
   "version": "3.10.14"
  }
 },
 "nbformat": 4,
 "nbformat_minor": 5
}
